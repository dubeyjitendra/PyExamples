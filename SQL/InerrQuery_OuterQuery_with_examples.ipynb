{
 "cells": [
  {
   "cell_type": "markdown",
   "metadata": {},
   "source": [
    "![Image](https://i0.wp.com/www.complexsql.com/wp-content/uploads/2017/02/SubQuery.png?w=574&ssl=1)"
   ]
  },
  {
   "cell_type": "markdown",
   "metadata": {},
   "source": [
    " **Definition:**\n",
    "    \n",
    "    Subquery is Query within a query in which the value of inner query is assigned to the\n",
    "\n",
    "    outer query and outer query is executed "
   ]
  },
  {
   "cell_type": "markdown",
   "metadata": {},
   "source": [
    "**Types of Subqueries:**\n",
    "    \n",
    "1.Single Row Subquery\n",
    "\n",
    "2.Multirow Subquery\n",
    "\n",
    "3.Correlated Subquery\n",
    "\n",
    "4.Nested SubQueries\n",
    "\n",
    "5.Scalar Subqueries"
   ]
  },
  {
   "cell_type": "markdown",
   "metadata": {},
   "source": [
    "#### link to please visit on this link get more info \n",
    "\n",
    "https://www.complexsql.com/subqueries-correlated-subquery/\n",
    "\n",
    "http://www.complexsql.com/scalar-subqueries-scalar-subqueries-examples/    "
   ]
  },
  {
   "cell_type": "code",
   "execution_count": null,
   "metadata": {},
   "outputs": [],
   "source": []
  }
 ],
 "metadata": {
  "kernelspec": {
   "display_name": "Python 3",
   "language": "python",
   "name": "python3"
  },
  "language_info": {
   "codemirror_mode": {
    "name": "ipython",
    "version": 3
   },
   "file_extension": ".py",
   "mimetype": "text/x-python",
   "name": "python",
   "nbconvert_exporter": "python",
   "pygments_lexer": "ipython3",
   "version": "3.8.5"
  }
 },
 "nbformat": 4,
 "nbformat_minor": 4
}
