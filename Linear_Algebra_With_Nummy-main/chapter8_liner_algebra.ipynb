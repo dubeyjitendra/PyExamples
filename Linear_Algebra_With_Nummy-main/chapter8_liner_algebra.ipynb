{
 "cells": [
  {
   "cell_type": "code",
   "execution_count": null,
   "metadata": {},
   "outputs": [],
   "source": [
    "# Vector L1 Norm\n",
    "\"\"\"The length of a vector can be calculated using the L\n",
    "1 norm, where the 1 is a superscript of\n",
    "the L. The notation for the L\n",
    "1 norm of a vector is ||v||1, where 1 is a subscript. As such, this\n",
    "length is sometimes called the taxicab norm or the Manhattan norm.\n",
    "L1\n",
    "\n",
    "(v) = ||v||1 \n",
    "The L1 norm is calculated as the sum of the absolute vector values, where the absolute value\n",
    "of a scalar uses the notation |a1|. In effect, the norm is a calculation of the Manhattan distance\n",
    "from the origin of the vector space.\n",
    "\n",
    "||v||1 = |a1| + |a2| + |a3| \"\"\"\n",
    "\n"
   ]
  },
  {
   "cell_type": "markdown",
   "metadata": {},
   "source": [
    "# Vector Norm"
   ]
  },
  {
   "cell_type": "code",
   "execution_count": 1,
   "metadata": {},
   "outputs": [
    {
     "name": "stdout",
     "output_type": "stream",
     "text": [
      "[1 2 3]\n",
      "6.0\n"
     ]
    }
   ],
   "source": [
    "\"\"\"Calculating the size or length of a vector is often required either directly or as part of a broader\n",
    "vector or vector-matrix operation. The length of the vector is referred to as the vector norm or\n",
    "the vector’s magnitude.\n",
    "\"\"\"\n",
    "# vector L1 norm\n",
    "from numpy import array\n",
    "from numpy.linalg import norm\n",
    "# define vector\n",
    "a = array([1, 2, 3])\n",
    "print(a)\n",
    "# calculate norm\n",
    "l1 = norm(a, 1)\n",
    "print(l1)\n"
   ]
  },
  {
   "cell_type": "markdown",
   "metadata": {},
   "source": [
    "#  Vector L2(2 is super script) Norm"
   ]
  },
  {
   "cell_type": "code",
   "execution_count": 2,
   "metadata": {},
   "outputs": [
    {
     "name": "stdout",
     "output_type": "stream",
     "text": [
      "[1 2 3]\n",
      "3.7416573867739413\n"
     ]
    }
   ],
   "source": [
    "\"\"\"The length of a vector can be calculated using the L\n",
    "2 norm, where the 2 is a superscript of the\n",
    "L. The notation for the L\n",
    "2 norm of a vector is ||v||2 where 2 is a subscript.\n",
    "L2\n",
    "(v) = ||v||2 \n",
    "The L2 norm calculates the distance of the vector coordinate from the origin of the vector\n",
    "space. As such, it is also known as the Euclidean norm as it is calculated as the Euclidean\n",
    "distance from the origin. The result is a positive distance value. The L\n",
    "2 norm is calculated as\n",
    "the square root of the sum of the squared vector values.\n",
    "\n",
    "||v||2 = square root of (a1 Square + a2 square + a3 square)\n",
    "\n",
    "The L2 norm of a vector can be calculated in NumPy using the norm() function with default\n",
    "parameters.\n",
    "\"\"\"\n",
    "# vector L2 norm\n",
    "from numpy import array\n",
    "from numpy.linalg import norm\n",
    "# define vector\n",
    "a = array([1, 2, 3])\n",
    "print(a)\n",
    "# calculate norm\n",
    "l2 = norm(a)\n",
    "print(l2)"
   ]
  },
  {
   "cell_type": "markdown",
   "metadata": {},
   "source": [
    "# Vector Max Norm"
   ]
  },
  {
   "cell_type": "code",
   "execution_count": 3,
   "metadata": {},
   "outputs": [
    {
     "name": "stdout",
     "output_type": "stream",
     "text": [
      "[1 2 3]\n",
      "3.0\n"
     ]
    }
   ],
   "source": [
    "\"\"\"\n",
    "The max norm is calculated as returning the maximum value of the vector, hence the name.\n",
    "||v||inf = max a1, a2, a3\n",
    "\n",
    "\"\"\"\n",
    "# vector max norm\n",
    "from math import inf\n",
    "from numpy import array\n",
    "from numpy.linalg import norm\n",
    "# define vector\n",
    "a = array([1, 2, 3])\n",
    "print(a)\n",
    "# calculate norm\n",
    "maxnorm = norm(a, inf)\n",
    "print(maxnorm)"
   ]
  },
  {
   "cell_type": "code",
   "execution_count": null,
   "metadata": {},
   "outputs": [],
   "source": [
    "\"\"\"\n",
    "Max norm is also used as a regularization in machine learning, such as on neural network\n",
    "weights, called max norm regularization\n",
    "\"\"\""
   ]
  },
  {
   "cell_type": "code",
   "execution_count": null,
   "metadata": {},
   "outputs": [],
   "source": []
  }
 ],
 "metadata": {
  "kernelspec": {
   "display_name": "Python 3",
   "language": "python",
   "name": "python3"
  },
  "language_info": {
   "codemirror_mode": {
    "name": "ipython",
    "version": 3
   },
   "file_extension": ".py",
   "mimetype": "text/x-python",
   "name": "python",
   "nbconvert_exporter": "python",
   "pygments_lexer": "ipython3",
   "version": "3.6.8"
  }
 },
 "nbformat": 4,
 "nbformat_minor": 2
}
