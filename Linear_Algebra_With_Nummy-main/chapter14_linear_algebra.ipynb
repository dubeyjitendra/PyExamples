{
 "cells": [
  {
   "cell_type": "markdown",
   "metadata": {},
   "source": [
    "# Factorization"
   ]
  },
  {
   "cell_type": "markdown",
   "metadata": {},
   "source": [
    "### Matrix Decompositions"
   ]
  },
  {
   "cell_type": "code",
   "execution_count": null,
   "metadata": {},
   "outputs": [],
   "source": [
    "\"\"\"A matrix decomposition is a way of reducing a matrix into its constituent parts. It is an\n",
    "approach that can simplify more complex matrix operations that can be performed on the\n",
    "decomposed matrix rather than on the original matrix itself. A common analogy for matrix\n",
    "decomposition is the factoring of numbers. \n",
    "such as the factoring of 10 into 2 × 5. For this reason,\n",
    "matrix decomposition is also called matrix factorization. \"\"\"\n",
    "\n",
    "\n",
    "\"\"\"there are a range of different matrix decomposition techniques. \"\"\"\n",
    "1- LU matrix decomposition \n",
    "2- QR matrix decomposition"
   ]
  },
  {
   "cell_type": "markdown",
   "metadata": {},
   "source": [
    "### LU Decomposition"
   ]
  },
  {
   "cell_type": "code",
   "execution_count": null,
   "metadata": {},
   "outputs": [],
   "source": [
    "\"\"\"The LU decomposition is for square matrices and decomposes a matrix into L and U components.\"\"\"\n",
    "\n",
    "A = L · U\n",
    "\n",
    "Or, without the dot notation.\n",
    "\n",
    "A = LU\n",
    "\n",
    "Where A is the square matrix that we wish to decompose, L is the lower triangle matrix\n",
    "and U is the upper triangle matrix."
   ]
  },
  {
   "cell_type": "code",
   "execution_count": null,
   "metadata": {},
   "outputs": [],
   "source": [
    "\"\"\"The LU decomposition is found using an iterative numerical process and can fail for those\n",
    "matrices that cannot be decomposed or decomposed easily. A variation of this decomposition\n",
    "that is numerically more stable to solve in practice is called the LUP decomposition, or the LU\n",
    "decomposition with partial pivoting.\n",
    "\n",
    "A = L · U · P\n",
    "\n",
    "The LU decomposition can be implemented in Python with the lu() function. More\n",
    "specifically, this function calculates an LPU decomposition. The example below first defines a\n",
    "3×3 square matrix. The LU decomposition is calculated, then the original matrix is reconstructed\n",
    "from the components.\n",
    "\"\"\""
   ]
  },
  {
   "cell_type": "code",
   "execution_count": 2,
   "metadata": {},
   "outputs": [
    {
     "name": "stdout",
     "output_type": "stream",
     "text": [
      "[[1 2 3]\n",
      " [4 5 6]\n",
      " [7 8 9]]\n",
      "[[0. 1. 0.]\n",
      " [0. 0. 1.]\n",
      " [1. 0. 0.]]\n",
      "----------\n",
      "[[1.         0.         0.        ]\n",
      " [0.14285714 1.         0.        ]\n",
      " [0.57142857 0.5        1.        ]]\n",
      "----------\n",
      "[[7.         8.         9.        ]\n",
      " [0.         0.85714286 1.71428571]\n",
      " [0.         0.         0.        ]]\n",
      "----------\n",
      "[[1. 2. 3.]\n",
      " [4. 5. 6.]\n",
      " [7. 8. 9.]]\n"
     ]
    }
   ],
   "source": [
    "# LU decomposition\n",
    "from numpy import array\n",
    "from scipy.linalg import lu\n",
    "# define a square matrix\n",
    "A = array([\n",
    "[1, 2, 3],\n",
    "[4, 5, 6],\n",
    "[7, 8, 9]])\n",
    "print(A)\n",
    "# factorize\n",
    "P, L, U = lu(A)\n",
    "print(P)\n",
    "print(\"----------\")\n",
    "print(L)\n",
    "print(\"----------\")\n",
    "print(U)\n",
    "print(\"----------\")\n",
    "# reconstruct\n",
    "\"\"\"Running the example first prints the defined 3 × 3 matrix, then the P, L, and U components\n",
    "of the decomposition, then finally the original matrix is reconstructed.\"\"\"\n",
    "B = P.dot(L).dot(U)\n",
    "print(B)\n"
   ]
  },
  {
   "cell_type": "markdown",
   "metadata": {},
   "source": [
    "### QR Decomposition"
   ]
  },
  {
   "cell_type": "code",
   "execution_count": null,
   "metadata": {},
   "outputs": [],
   "source": [
    "\"\"\"The QR decomposition is for n × m matrices (not limited to square matrices) and decomposes\n",
    "a matrix into Q and R components\n",
    "\n",
    "A = Q · R\n",
    "\n",
    "Or, without the dot notation.\n",
    "\n",
    "A = QR\n",
    "\n",
    "Where A is the matrix that we wish to decompose, Q a matrix with the size m × m, and R is\n",
    "an upper triangle matrix with the size m × n\n",
    "\"\"\""
   ]
  },
  {
   "cell_type": "code",
   "execution_count": null,
   "metadata": {},
   "outputs": [],
   "source": [
    "\"\"\"The QR decomposition is found using an iterative\n",
    "numerical method that can fail for those matrices that cannot be decomposed, or decomposed\n",
    "easily. Like the LU decomposition, the QR decomposition is often used to solve systems of\n",
    "linear equations, although is not limited to square matrices\n",
    "\n",
    "We can change this to return the expected sizes of m × m for Q and m × n for\n",
    "R by specifying the mode argument as ‘complete’, although this is not required for most\n",
    "applications. The example below defines a 3 × 2 matrix, calculates the QR decomposition, then\n",
    "reconstructs the original matrix from the decomposed elements\n",
    "\"\"\""
   ]
  },
  {
   "cell_type": "code",
   "execution_count": 3,
   "metadata": {},
   "outputs": [
    {
     "name": "stdout",
     "output_type": "stream",
     "text": [
      "[[1 2]\n",
      " [3 4]\n",
      " [5 6]]\n",
      "[[-0.16903085  0.89708523  0.40824829]\n",
      " [-0.50709255  0.27602622 -0.81649658]\n",
      " [-0.84515425 -0.34503278  0.40824829]]\n",
      "[[-5.91607978 -7.43735744]\n",
      " [ 0.          0.82807867]\n",
      " [ 0.          0.        ]]\n",
      "[[1. 2.]\n",
      " [3. 4.]\n",
      " [5. 6.]]\n"
     ]
    }
   ],
   "source": [
    "# QR decomposition\n",
    "from numpy import array\n",
    "from numpy.linalg import qr\n",
    "# define rectangular matrix\n",
    "A = array([\n",
    "[1, 2],\n",
    "[3, 4],\n",
    "[5, 6]])\n",
    "print(A)\n",
    "# factorize\n",
    "Q, R = qr(A, 'complete')\n",
    "print(Q)\n",
    "print(R)\n",
    "# reconstruct\n",
    "\"\"\"Running the example first prints the defined 3 × 2 matrix, then the Q and R elements, then\n",
    "finally the reconstructed matrix that matches what we started with.\"\"\"\n",
    "\n",
    "B = Q.dot(R)\n",
    "print(B)"
   ]
  },
  {
   "cell_type": "markdown",
   "metadata": {},
   "source": [
    "### Cholesky Decomposition"
   ]
  },
  {
   "cell_type": "code",
   "execution_count": null,
   "metadata": {},
   "outputs": [],
   "source": [
    "\"\"\"The Cholesky decomposition is for square symmetric matrices where all values are greater than\n",
    "zero, so-called positive definite matrices. For our interests in machine learning, we will focus on\n",
    "the Cholesky decomposition for real-valued matrices and ignore the cases when working with\n",
    "complex numbers\n",
    "\n",
    "The decomposition is defined as follows:\n",
    "\n",
    "A = L · LT(T is superscript)\n",
    "\n",
    "Where A is the matrix being decomposed, L is the lower triangular matrix and LT(T is super script)\n",
    "is the transpose of L. The decompose can also be written as the product of the upper triangular\n",
    "matrix, for example:\n",
    "\n",
    "\"\"\""
   ]
  },
  {
   "cell_type": "code",
   "execution_count": 4,
   "metadata": {},
   "outputs": [
    {
     "name": "stdout",
     "output_type": "stream",
     "text": [
      "[[2 1 1]\n",
      " [1 2 1]\n",
      " [1 1 2]]\n",
      "[[1.41421356 0.         0.        ]\n",
      " [0.70710678 1.22474487 0.        ]\n",
      " [0.70710678 0.40824829 1.15470054]]\n",
      "[[2. 1. 1.]\n",
      " [1. 2. 1.]\n",
      " [1. 1. 2.]]\n"
     ]
    }
   ],
   "source": [
    "\"\"\"The Cholesky decomposition can be implemented in NumPy by calling the cholesky()\n",
    "function. The function only returns L as we can easily access the L transpose as needed. The\n",
    "example below defines a 3×3 symmetric and positive definite matrix and calculates the Cholesky\n",
    "decomposition, then the original matrix is reconstructed.\"\"\"\n",
    "\n",
    "# Cholesky decomposition\n",
    "from numpy import array\n",
    "from numpy.linalg import cholesky\n",
    "# define symmetrical matrix\n",
    "A = array([\n",
    "[2, 1, 1],\n",
    "[1, 2, 1],\n",
    "[1, 1, 2]])\n",
    "print(A)\n",
    "# factorize\n",
    "L = cholesky(A)\n",
    "print(L)\n",
    "# reconstruct\n",
    "B = L.dot(L.T)\n",
    "print(B)\n"
   ]
  },
  {
   "cell_type": "code",
   "execution_count": null,
   "metadata": {},
   "outputs": [],
   "source": []
  }
 ],
 "metadata": {
  "kernelspec": {
   "display_name": "Python 3",
   "language": "python",
   "name": "python3"
  },
  "language_info": {
   "codemirror_mode": {
    "name": "ipython",
    "version": 3
   },
   "file_extension": ".py",
   "mimetype": "text/x-python",
   "name": "python",
   "nbconvert_exporter": "python",
   "pygments_lexer": "ipython3",
   "version": "3.6.8"
  }
 },
 "nbformat": 4,
 "nbformat_minor": 2
}
