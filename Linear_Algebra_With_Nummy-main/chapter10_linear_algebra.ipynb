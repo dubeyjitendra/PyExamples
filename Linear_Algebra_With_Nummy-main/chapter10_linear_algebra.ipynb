{
 "cells": [
  {
   "cell_type": "markdown",
   "metadata": {},
   "source": [
    "# Types of Matrices"
   ]
  },
  {
   "cell_type": "code",
   "execution_count": null,
   "metadata": {},
   "outputs": [],
   "source": [
    "\"\"\"\n",
    "A lot of linear algebra is concerned with operations on vectors and matrices, and there are many\n",
    "different types of matrices. There are a few types of matrices that you may encounter again and\n",
    "again when getting started in linear algebra, particularity the parts of linear algebra relevant to\n",
    "machine learning. In this tutorial, you will discover a suite of different types of matrices from\n",
    "the field of linear algebra that you may encounter in machine learning. After completing this\n",
    "tutorial, you will know:\n",
    " Square, symmetric, triangular, and diagonal matrices that are much as their names suggest.\n",
    " Identity matrices that are all zero values except along the main diagonal where the values\n",
    "are 1.\n",
    " Orthogonal matrices that generalize the idea of perpendicular vectors and have useful\n",
    "computational properties\n",
    "\n",
    "1. Square Matrix\n",
    "2. Symmetric Matrix\n",
    "3. Triangular Matrix\n",
    "4. Diagonal Matrix\n",
    "5. Identity Matrix\n",
    "6. Orthogonal Matrix\n",
    "\"\"\""
   ]
  },
  {
   "cell_type": "code",
   "execution_count": null,
   "metadata": {},
   "outputs": [],
   "source": [
    "# Square Matrix\n",
    "\n",
    "\"\"\"\n",
    "A square matrix is a matrix where the number of rows (n) is equivalent to the number of\n",
    "columns (m).\n",
    "\n",
    "n ≡ m \n",
    "\n",
    "The square matrix is contrasted with the rectangular matrix where the number of rows and\n",
    "columns are not equal. Given that the number of rows and columns match, the dimensions are\n",
    "usually denoted as n, e.g. n × n. The size of the matrix is called the order, so an order 4 square\n",
    "matrix is 4 × 4. The vector of values along the diagonal of the matrix from the top left to the\n",
    "bottom right is called the main diagonal. Below is an example of an order 3 square matrix.\n",
    "\n",
    "M = (1 2 3\n",
    "    1 2 3\n",
    "    1 2 3)\n",
    "\n",
    "\"\"\"\n",
    "\"\"\"Square matrices are readily added and multiplied together and are the basis of many simple\n",
    "linear transformations, such as rotations (as in the rotations of images)\"\"\""
   ]
  },
  {
   "cell_type": "code",
   "execution_count": null,
   "metadata": {},
   "outputs": [],
   "source": [
    "# Symmetric Matrix\n",
    "\n",
    "\"\"\"A symmetric matrix is a type of square matrix where the top-right triangle is the same as the\n",
    "bottom-left triangle.\n",
    "\"\"\"\n",
    "\"\"\"To be symmetric, the axis of symmetry is always the main diagonal of the matrix, from the\n",
    "top left to the bottom right. Below is an example of a 5 × 5 symmetric matrix.\"\"\"\n",
    "\n",
    "\"\"\"M =  (1 2 3 4 5\n",
    "        2 1 2 3 4\n",
    "        3 2 1 2 3\n",
    "        4 3 2 1 2\n",
    "        5 4 3 2 1)\"\"\"\n",
    "\n",
    "\"\"\"A symmetric matrix is always square and equal to its own transpose\"\"\""
   ]
  },
  {
   "cell_type": "code",
   "execution_count": 1,
   "metadata": {},
   "outputs": [
    {
     "name": "stdout",
     "output_type": "stream",
     "text": [
      "[[1 2 3]\n",
      " [1 2 3]\n",
      " [1 2 3]]\n",
      "[[1 0 0]\n",
      " [1 2 0]\n",
      " [1 2 3]]\n",
      "[[1 2 3]\n",
      " [0 2 3]\n",
      " [0 0 3]]\n"
     ]
    }
   ],
   "source": [
    "# Triangular Matrix\n",
    "\n",
    "\"\"\"A triangular matrix is a type of square matrix that has all values in the upper-right or lower-left\n",
    "of the matrix with the remaining elements filled with zero values. A triangular matrix with\n",
    "values only above the main diagonal is called an upper triangular matrix. Whereas, a triangular\n",
    "matrix with values only below the main diagonal is called a lower triangular matrix. Below is\n",
    "an example of a 3 × 3 upper triangular matrix.\n",
    "\"\"\"\n",
    "# triangular matrices\n",
    "from numpy import array\n",
    "from numpy import tril\n",
    "from numpy import triu\n",
    "# define square matrix\n",
    "M = array([\n",
    "[1, 2, 3],\n",
    "[1, 2, 3],\n",
    "[1, 2, 3]])\n",
    "print(M)\n",
    "# lower triangular matrix\n",
    "lower = tril(M)\n",
    "print(lower)\n",
    "# upper triangular matrix\n",
    "upper = triu(M)\n",
    "print(upper)"
   ]
  },
  {
   "cell_type": "code",
   "execution_count": 2,
   "metadata": {},
   "outputs": [
    {
     "name": "stdout",
     "output_type": "stream",
     "text": [
      "[[1 2 3]\n",
      " [1 2 3]\n",
      " [1 2 3]]\n",
      "[1 2 3]\n",
      "[[1 0 0]\n",
      " [0 2 0]\n",
      " [0 0 3]]\n"
     ]
    }
   ],
   "source": [
    "#  Diagonal Matrix\n",
    "\n",
    "\"\"\"A diagonal matrix is one where values outside of the main diagonal have a zero value, where the\n",
    "main diagonal is taken from the top left of the matrix to the bottom right. A diagonal matrix\n",
    "is often denoted with the variable D and may be represented as a full matrix or as a vector of\n",
    "values on the main diagonal.\"\"\"\n",
    "\n",
    "\"\"\"Diagonal matrices consist mostly of zeros and have non-zero entries only along the\n",
    "main diagonal.\"\"\"\n",
    "# diagonal matrix\n",
    "from numpy import array\n",
    "from numpy import diag\n",
    "# define square matrix\n",
    "M = array([\n",
    "[1, 2, 3],\n",
    "[1, 2, 3],\n",
    "[1, 2, 3]])\n",
    "print(M)\n",
    "# extract diagonal vector\n",
    "d = diag(M)\n",
    "print(d)\n",
    "# create diagonal matrix from vector\n",
    "D = diag(d)\n",
    "print(D)\n"
   ]
  },
  {
   "cell_type": "code",
   "execution_count": 3,
   "metadata": {},
   "outputs": [
    {
     "name": "stdout",
     "output_type": "stream",
     "text": [
      "[[1. 0. 0.]\n",
      " [0. 1. 0.]\n",
      " [0. 0. 1.]]\n"
     ]
    }
   ],
   "source": [
    "# Identity Matrix\n",
    "\"\"\"An identity matrix is a square matrix that does not change a vector when multiplied. The\n",
    "values of an identity matrix are known. All of the scalar values along the main diagonal (top-left\n",
    "to bottom-right) have the value one, while all other values are zero.\"\"\"\n",
    "\n",
    "# identity matrix\n",
    "from numpy import identity\n",
    "I = identity(3)\n",
    "print(I)\n"
   ]
  },
  {
   "cell_type": "code",
   "execution_count": 4,
   "metadata": {},
   "outputs": [
    {
     "name": "stdout",
     "output_type": "stream",
     "text": [
      "[[ 1  0]\n",
      " [ 0 -1]]\n",
      "[[ 1  0]\n",
      " [ 0 -1]]\n",
      "[[ 1.  0.]\n",
      " [-0. -1.]]\n",
      "[[1 0]\n",
      " [0 1]]\n"
     ]
    }
   ],
   "source": [
    "# Orthogonal Matrix\n",
    "\n",
    "\"\"\"Two vectors are orthogonal when their dot product equals zero. The length of each vector is 1\n",
    "then the vectors are called orthonormal because they are both orthogonal and normalized.\n",
    "v · w = 0 \n",
    "\"\"\"\n",
    "# orthogonal matrix\n",
    "from numpy import array\n",
    "from numpy.linalg import inv\n",
    "# define orthogonal matrix\n",
    "Q = array([\n",
    "[1, 0],\n",
    "[0, -1]])\n",
    "print(Q)\n",
    "# inverse equivalence\n",
    "V = inv(Q)\n",
    "print(Q.T)\n",
    "print(V)\n",
    "# identity equivalence\n",
    "I = Q.dot(Q.T)\n",
    "print(I)"
   ]
  },
  {
   "cell_type": "code",
   "execution_count": null,
   "metadata": {},
   "outputs": [],
   "source": []
  }
 ],
 "metadata": {
  "kernelspec": {
   "display_name": "Python 3",
   "language": "python",
   "name": "python3"
  },
  "language_info": {
   "codemirror_mode": {
    "name": "ipython",
    "version": 3
   },
   "file_extension": ".py",
   "mimetype": "text/x-python",
   "name": "python",
   "nbconvert_exporter": "python",
   "pygments_lexer": "ipython3",
   "version": "3.6.8"
  }
 },
 "nbformat": 4,
 "nbformat_minor": 2
}
