{
 "cells": [
  {
   "cell_type": "code",
   "execution_count": null,
   "metadata": {},
   "outputs": [],
   "source": [
    "# Array Broadcasting\n",
    "\"\"\"Arrays with different sizes cannot be added, subtracted, or generally be used in arithmetic. A\n",
    "way to overcome this is to duplicate the smaller array so that it has the dimensionality and\n",
    "size as the larger array. This is called array broadcasting and is available in NumPy when\n",
    "performing array arithmetic, which can greatly reduce and simplify your code\"\"\""
   ]
  },
  {
   "cell_type": "code",
   "execution_count": 1,
   "metadata": {},
   "outputs": [
    {
     "name": "stdout",
     "output_type": "stream",
     "text": [
      "[1 2 3]\n",
      "2\n",
      "[3 4 5]\n"
     ]
    }
   ],
   "source": [
    "# broadcast scalar to one-dimensional array\n",
    "from numpy import array\n",
    "# define array\n",
    "a = array([1, 2, 3])\n",
    "print(a)\n",
    "# define scalar\n",
    "b = 2\n",
    "print(b)\n",
    "# broadcast\n",
    "c = a + b\n",
    "print(c)\n",
    "\"\"\"  \n",
    "Ci,j = Ai,j + bj\n",
    "\n",
    "In other words, the vector b is added to each row of the matrix.\n",
    "This shorthand eliminates the need to define a matrix with b copied into each row\n",
    "before doing the addition. This implicit copying of b to many locations is called\n",
    "broadcasting\"\"\"\n"
   ]
  },
  {
   "cell_type": "code",
   "execution_count": null,
   "metadata": {},
   "outputs": [],
   "source": [
    "#  Scalar and Two-Dimensional Array\n",
    "\"\"\"A scalar value can be used in arithmetic with a two-dimensional array. For example, we can\n",
    "imagine a two-dimensional array A with 2 rows and 3 columns added to the scalar b.\n",
    "A =\n",
    "(a1,1 a1,2 a1,3\n",
    "a2,1 a2,2 a2,3)\n",
    "\n",
    "The scalar will need to be broadcast across each row of the two-dimensional array by\n",
    "duplicating it 5 more times.\n",
    "B =\n",
    "(b1,1 b1,2 b1,3\n",
    "b2,1 b2,2 b2,3)\n",
    "\n",
    "The two two-dimensional arrays can then be added directly.\n",
    "C = A + B\n",
    "C =\n",
    "(a1,1 + b1,1 a1,2 + b1,2 a1,3 + b1,3\n",
    " a2,1 + b2,1 a2,2 + b2,2 a2,3 + b2,3)\n",
    "\"\"\""
   ]
  },
  {
   "cell_type": "code",
   "execution_count": 2,
   "metadata": {},
   "outputs": [
    {
     "name": "stdout",
     "output_type": "stream",
     "text": [
      "[[1 2 3]\n",
      " [1 2 3]]\n",
      "2\n",
      "[[3 4 5]\n",
      " [3 4 5]]\n"
     ]
    }
   ],
   "source": [
    "# broadcast scalar to two-dimensional array\n",
    "from numpy import array\n",
    "# define array\n",
    "A = array([\n",
    "[1, 2, 3],\n",
    "[1, 2, 3]])\n",
    "print(A)\n",
    "# define scalar\n",
    "b = 2\n",
    "print(b)\n",
    "# broadcast\n",
    "C = A + b\n",
    "print(C)\n"
   ]
  },
  {
   "cell_type": "code",
   "execution_count": 4,
   "metadata": {},
   "outputs": [
    {
     "name": "stdout",
     "output_type": "stream",
     "text": [
      "[[1 2 3]\n",
      " [1 2 3]]\n",
      "[1 2 3]\n",
      "One-Dimensional and Two-Dimensional Arrays\n",
      "[[2 4 6]\n",
      " [2 4 6]]\n"
     ]
    }
   ],
   "source": [
    "# broadcast one-dimensional array to two-dimensional array\n",
    "from numpy import array\n",
    "# define two-dimensional array\n",
    "A = array([\n",
    "[1, 2, 3],\n",
    "[1, 2, 3]])\n",
    "print(A)\n",
    "# define one-dimensional array\n",
    "b = array([1, 2, 3])\n",
    "print(b)\n",
    "# broadcast\n",
    "C = A + b\n",
    "print(\"One-Dimensional and Two-Dimensional Arrays\")\n",
    "print(C) # g broadcasting, can only be performed when the shape of each dimension in the arrays are equal or one has the dimension size of 1\n"
   ]
  },
  {
   "cell_type": "code",
   "execution_count": 5,
   "metadata": {},
   "outputs": [
    {
     "name": "stdout",
     "output_type": "stream",
     "text": [
      "(2, 3)\n",
      "(2,)\n"
     ]
    },
    {
     "ename": "ValueError",
     "evalue": "operands could not be broadcast together with shapes (2,3) (2,) ",
     "output_type": "error",
     "traceback": [
      "\u001b[1;31m---------------------------------------------------------------------------\u001b[0m",
      "\u001b[1;31mValueError\u001b[0m                                Traceback (most recent call last)",
      "\u001b[1;32m<ipython-input-5-148e0b503499>\u001b[0m in \u001b[0;36m<module>\u001b[1;34m\u001b[0m\n\u001b[0;32m     11\u001b[0m \u001b[0mprint\u001b[0m\u001b[1;33m(\u001b[0m\u001b[0mb\u001b[0m\u001b[1;33m.\u001b[0m\u001b[0mshape\u001b[0m\u001b[1;33m)\u001b[0m\u001b[1;33m\u001b[0m\u001b[1;33m\u001b[0m\u001b[0m\n\u001b[0;32m     12\u001b[0m \u001b[1;31m# attempt broadcast\u001b[0m\u001b[1;33m\u001b[0m\u001b[1;33m\u001b[0m\u001b[1;33m\u001b[0m\u001b[0m\n\u001b[1;32m---> 13\u001b[1;33m \u001b[0mC\u001b[0m \u001b[1;33m=\u001b[0m \u001b[0mA\u001b[0m \u001b[1;33m+\u001b[0m \u001b[0mb\u001b[0m\u001b[1;33m\u001b[0m\u001b[1;33m\u001b[0m\u001b[0m\n\u001b[0m\u001b[0;32m     14\u001b[0m \u001b[0mprint\u001b[0m\u001b[1;33m(\u001b[0m\u001b[0mC\u001b[0m\u001b[1;33m)\u001b[0m\u001b[1;33m\u001b[0m\u001b[1;33m\u001b[0m\u001b[0m\n",
      "\u001b[1;31mValueError\u001b[0m: operands could not be broadcast together with shapes (2,3) (2,) "
     ]
    }
   ],
   "source": [
    "# Broadcasting Error\n",
    "# broadcasting error\n",
    "from numpy import array\n",
    "# define two-dimensional array\n",
    "A = array([\n",
    "[1, 2, 3],\n",
    "[1, 2, 3]])\n",
    "print(A.shape)\n",
    "# define one-dimensional array\n",
    "b = array([1, 2])\n",
    "print(b.shape)\n",
    "# attempt broadcast\n",
    "C = A + b\n",
    "print(C)\n"
   ]
  },
  {
   "cell_type": "code",
   "execution_count": null,
   "metadata": {},
   "outputs": [],
   "source": []
  }
 ],
 "metadata": {
  "kernelspec": {
   "display_name": "Python 3",
   "language": "python",
   "name": "python3"
  },
  "language_info": {
   "codemirror_mode": {
    "name": "ipython",
    "version": 3
   },
   "file_extension": ".py",
   "mimetype": "text/x-python",
   "name": "python",
   "nbconvert_exporter": "python",
   "pygments_lexer": "ipython3",
   "version": "3.6.8"
  }
 },
 "nbformat": 4,
 "nbformat_minor": 2
}
