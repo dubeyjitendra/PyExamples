{
 "cells": [
  {
   "cell_type": "markdown",
   "metadata": {},
   "source": [
    "# Sparse Matrices"
   ]
  },
  {
   "cell_type": "code",
   "execution_count": null,
   "metadata": {},
   "outputs": [],
   "source": [
    "\"\"\"Matrices that contain mostly zero values are called sparse,distinct from matrices where most\n",
    "of the values are non-zero, called dense\"\"\""
   ]
  },
  {
   "cell_type": "code",
   "execution_count": null,
   "metadata": {},
   "outputs": [],
   "source": [
    "\"\"\"Large sparse matrices are common in general and\n",
    "especially in applied machine learning, such as in data that contains counts, data encodings\n",
    "that map categories to counts, and even in whole subfields of machine learning such as natural\n",
    "language processing. It is computationally expensive to represent and work with sparse matrices\n",
    "as though they are dense, and much improvement in performance can be achieved by using\n",
    "representations and operations that specifically handle the matrix sparsity.\"\"\"\n",
    "\n",
    "\"\"\"\n",
    "1- That sparse matrices contain mostly zero values and are distinct from dense matrices.\n",
    "2- The myriad of areas where you are likely to encounter sparse matrices in data, data\n",
    "preparation, and sub-fields of machine learning.\n",
    "3- That there are many efficient ways to store and work with sparse matrices and SciPy\n",
    "provides implementations that you can use directly.\n",
    "\"\"\"\n",
    "\n",
    "\"\"\"\n",
    "1. Sparse Matrix\n",
    "2. Problems with Sparsity\n",
    "3. Sparse Matrices in Machine Learning\n",
    "4. Working with Sparse Matrices\n",
    "5. Sparse Matrices in Python\n",
    "\"\"\""
   ]
  },
  {
   "cell_type": "code",
   "execution_count": null,
   "metadata": {},
   "outputs": [],
   "source": [
    "# Sparse Matrix\n",
    "\"\"\"A sparse matrix is a matrix that is comprised of mostly zero values. Sparse matrices are distinct\n",
    "from matrices with mostly non-zero values, which are referred to as dense matrices.\n",
    "\"\"\"\n",
    "\"\"\"\n",
    "The sparsity of a matrix can be quantified with a score, which is the number of zero values\n",
    "in the matrix divided by the total number of elements in the matrix.\n",
    "\n",
    "sparsity =count of non-zero elements / total elements\n",
    "\n",
    "\"\"\"\n",
    "\n",
    "\"\"\"Below is an example of a small 3 × 6 sparse matrix.\n",
    "A = (1 0 0 1 0 0\n",
    "    0 0 2 0 0 1\n",
    "    0 0 0 2 0 0)\n",
    "    \n",
    "The example has 13 zero values of the 18 elements in the matrix, giving this matrix a sparsity\n",
    "score of 0.722 or about 72%.\n",
    "\"\"\"\n",
    "\"\"\"Space Complexity\"\"\"\n",
    "\n",
    "\"\"\"Very large matrices require a lot of memory, and some very large matrices that we wish to work\n",
    "with are sparse.\n",
    "In practice, most large matrices are sparse — almost all entries are zeros\"\"\"\n",
    "\n",
    "\"\"\"\n",
    "An example of a very large matrix that is too large to be stored in memory is a link matrix\n",
    "that shows the links from one website to another. An example of a smaller sparse matrix might\n",
    "be a word or term occurrence matrix for words in one book against all known words in English.\n",
    "In both cases, the matrix contained is sparse with many more zero values than data values. The\n",
    "problem with representing these sparse matrices as dense matrices is that memory is required\n",
    "and must be allocated for each 32-bit or even 64-bit zero value in the matrix. This is clearly a\n",
    "waste of memory resources as those zero values do not contain any information\n",
    "\"\"\"\n",
    "\n",
    "# Time Complexity \n",
    "\n",
    "\"\"\"Assuming a very large sparse matrix can be fit into memory, we will want to perform operations\n",
    "on this matrix. Simply, if the matrix contains mostly zero-values, i.e. no data, then performing\n",
    "operations across this matrix may take a long time where the bulk of the computation performed\n",
    "will involve adding or multiplying zero values together.\"\"\"\n",
    "\n",
    "\"\"\"It is wasteful to use general methods of linear algebra on such problems, because\n",
    "most of the O(N3) arithmetic operations devoted to solving the set of equations or\n",
    "inverting the matrix involve zero operands\"\"\"\n",
    "\n",
    "\"\"\"\n",
    "This is a problem of increased time complexity of matrix operations that increases with the\n",
    "size of the matrix. This problem is compounded when we consider that even trivial machine\n",
    "learning methods may require many operations on each row, column, or even across the entire\n",
    "matrix, resulting in vastly longer execution times.\n",
    "\n",
    "\"\"\""
   ]
  },
  {
   "cell_type": "markdown",
   "metadata": {},
   "source": [
    "# Data Preparation"
   ]
  },
  {
   "cell_type": "code",
   "execution_count": null,
   "metadata": {},
   "outputs": [],
   "source": [
    "\"\"\"\n",
    "Sparse matrices come up in encoding schemes used in the preparation of data. Three common\n",
    "examples include:\n",
    " One hot encoding, used to represent categorical data as sparse binary vectors.\n",
    " Count encoding, used to represent the frequency of words in a vocabulary for a document\n",
    " TF-IDF encoding, used to represent normalized word frequency scores in a vocabulary.\n",
    "\"\"\"\n",
    "\n",
    "# Working with Sparse Matrices\n",
    "\"\"\"\n",
    "Areas of Study\n",
    "Some areas of study within machine learning must develop specialized methods to address\n",
    "sparsity directly as the input data is almost always sparse. Three examples include:\n",
    " Natural language processing for working with documents of text.\n",
    " Recommender systems for working with product usage within a catalog.\n",
    " Computer vision when working with images that contain lots of black pixels.\n",
    "\n",
    "If there are 100,000 words in the language model, then the feature vector has length\n",
    "100,000, but for a short email message almost all the features will have count zero.\n",
    "\"\"\"\n"
   ]
  },
  {
   "cell_type": "markdown",
   "metadata": {},
   "source": [
    "# Working with Sparse Matrices"
   ]
  },
  {
   "cell_type": "code",
   "execution_count": null,
   "metadata": {},
   "outputs": [],
   "source": [
    "\"\"\"\n",
    "The solution to representing and working with sparse matrices is to use an alternate data\n",
    "structure to represent the sparse data. The zero values can be ignored and only the data or\n",
    "non-zero values in the sparse matrix need to be stored or acted upon. There are multiple data\n",
    "structures that can be used to efficiently construct a sparse matrix; three common examples are\n",
    "listed below.\n",
    " Dictionary of Keys. A dictionary is used where a row and column index is mapped to\n",
    "a value.\n",
    " List of Lists. Each row of the matrix is stored as a list, with each sublist containing the\n",
    "column index and the value.\n",
    " Coordinate List. A list of tuples is stored with each tuple containing the row index,\n",
    "column index, and the value\n",
    "\"\"\"\n",
    "\n",
    "\"\"\"\n",
    "There are also data structures that are more suitable for performing efficient operations; two\n",
    "commonly used examples are listed below.\n",
    " Compressed Sparse Row. The sparse matrix is represented using three one-dimensional\n",
    "arrays for the non-zero values, the extents of the rows, and the column indexes.\n",
    " Compressed Sparse Column. The same as the Compressed Sparse Row method except\n",
    "the column indices are compressed and read first before the row indices.\n",
    "\"\"\""
   ]
  },
  {
   "cell_type": "markdown",
   "metadata": {},
   "source": [
    "# Sparse Matrices in Python"
   ]
  },
  {
   "cell_type": "code",
   "execution_count": 2,
   "metadata": {},
   "outputs": [
    {
     "name": "stdout",
     "output_type": "stream",
     "text": [
      "[[1 0 0 1 0 0]\n",
      " [0 0 2 0 0 1]\n",
      " [0 0 0 2 0 0]]\n",
      "  (0, 0)\t1\n",
      "  (0, 3)\t1\n",
      "  (1, 2)\t2\n",
      "  (1, 5)\t1\n",
      "  (2, 3)\t2\n",
      "[[1 0 0 1 0 0]\n",
      " [0 0 2 0 0 1]\n",
      " [0 0 0 2 0 0]]\n"
     ]
    }
   ],
   "source": [
    "\"\"\"\n",
    "SciPy provides tools for creating sparse matrices using multiple data structures, as well as\n",
    "tools for converting a dense matrix to a sparse matrix\n",
    "\"\"\"\n",
    "\n",
    "\"\"\"\n",
    "A dense matrix stored in a NumPy array can be converted into a sparse matrix using the\n",
    "CSR representation by calling the csr matrix() function. In the example below, we define a\n",
    "3×6 sparse matrix as a dense array (e.g. an ndarray), convert it to a CSR sparse representation,\n",
    "and then convert it back to a dense array by calling the todense() function.\n",
    "\"\"\"\n",
    "\n",
    "## Example of converting between dense and sparse matrices.\n",
    "\n",
    "# sparse matrix\n",
    "from numpy import array\n",
    "from scipy.sparse import csr_matrix\n",
    "# create dense matrix\n",
    "A = array([\n",
    "[1, 0, 0, 1, 0, 0],\n",
    "[0, 0, 2, 0, 0, 1],\n",
    "[0, 0, 0, 2, 0, 0]])\n",
    "print(A)\n",
    "# convert to sparse matrix (CSR method)\n",
    "S = csr_matrix(A)\n",
    "print(S)\n",
    "# reconstruct dense matrix\n",
    "B = S.todense()\n",
    "print(B)\n"
   ]
  },
  {
   "cell_type": "code",
   "execution_count": 3,
   "metadata": {},
   "outputs": [
    {
     "name": "stdout",
     "output_type": "stream",
     "text": [
      "[[1 0 0 1 0 0]\n",
      " [0 0 2 0 0 1]\n",
      " [0 0 0 2 0 0]]\n",
      "0.7222222222222222\n"
     ]
    }
   ],
   "source": [
    "# sparsity = 1.0 - count_nonzero(A) / A.size\n",
    "\n",
    "# sparsity calculation\n",
    "from numpy import array\n",
    "from numpy import count_nonzero\n",
    "# create dense matrix\n",
    "A = array([\n",
    "[1, 0, 0, 1, 0, 0],\n",
    "[0, 0, 2, 0, 0, 1],\n",
    "[0, 0, 0, 2, 0, 0]])\n",
    "print(A)\n",
    "# calculate sparsity\n",
    "sparsity = 1.0 - count_nonzero(A) / A.size\n",
    "print(sparsity)"
   ]
  },
  {
   "cell_type": "code",
   "execution_count": null,
   "metadata": {},
   "outputs": [],
   "source": []
  }
 ],
 "metadata": {
  "kernelspec": {
   "display_name": "Python 3",
   "language": "python",
   "name": "python3"
  },
  "language_info": {
   "codemirror_mode": {
    "name": "ipython",
    "version": 3
   },
   "file_extension": ".py",
   "mimetype": "text/x-python",
   "name": "python",
   "nbconvert_exporter": "python",
   "pygments_lexer": "ipython3",
   "version": "3.6.8"
  }
 },
 "nbformat": 4,
 "nbformat_minor": 2
}
