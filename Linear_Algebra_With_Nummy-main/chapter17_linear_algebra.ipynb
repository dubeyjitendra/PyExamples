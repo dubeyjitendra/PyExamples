{
 "cells": [
  {
   "cell_type": "markdown",
   "metadata": {},
   "source": [
    "# Introduction to Multivariate Statistics"
   ]
  },
  {
   "cell_type": "code",
   "execution_count": null,
   "metadata": {},
   "outputs": [],
   "source": [
    "\"\"\"\n",
    "1. Expected Value and Mean\n",
    "2. Variance and Standard Deviation\n",
    "3. Covariance and Correlation\n",
    "4. Covariance Matrix\n",
    "\"\"\""
   ]
  },
  {
   "cell_type": "markdown",
   "metadata": {},
   "source": [
    "### Expected Value and Mean"
   ]
  },
  {
   "cell_type": "code",
   "execution_count": null,
   "metadata": {},
   "outputs": [],
   "source": [
    "\"\"\"In probability, the average value of some random variable X is called the expected value or the\n",
    "expectation\n",
    "\n",
    "The expected value uses the notation E with square brackets around the name of\n",
    "the variable; for example:\n",
    "\n",
    "E[X]\n",
    "\n",
    "It is calculated as the probability weighted sum of values that can be drawn.\n",
    "\n",
    "E[X] = Summation of (x1 × p1, x2 × p2, x3 × p3, · · · , xn × pn)\n",
    "\n",
    "In simple cases, such as the flipping of a coin or rolling a dice, the probability of each event is\n",
    "just as likely. Therefore, the expected value can be calculated as the sum of all values multiplied\n",
    "by the reciprocal of the number of values.\n",
    "\n",
    "E[X] = 1/n × SUMMATION OF(x1, x2, x3, · · · , xn)\n",
    "\n",
    "In statistics, the mean, or more technically the arithmetic mean or sample mean, can be\n",
    "estimated from a sample of examples drawn from the domain. It is confusing because mean,\n",
    "average, and expected value are used interchangeably. In the abstract, the mean is denoted by\n",
    "the lower case Greek letter mu µ and is calculated from the sample of observations, rather than\n",
    "all possible values.\n",
    "\n",
    "µ =1/n × SUMMATION OF(x1, x2, x3, · · · , xn)\n",
    "\n",
    "µ = P(x) × SUMMATION OF(x)\n",
    "\n",
    "Where x is the vector of observations and P(x) is the calculated probability for each value.\n",
    "When calculated for a specific variable, such as x, the mean is denoted as a lower case variable\n",
    "name with a line above, called x-bar e.g. ¯x.\n",
    "\n",
    "x¯ =1/n × SUMMATION OF i=1 to n(xi)\n",
    "\n",
    "The arithmetic mean can be calculated for a vector or matrix in NumPy by using the mean()\n",
    "function. The example below defines a 6-element vector and calculates the mean\n",
    "\"\"\""
   ]
  },
  {
   "cell_type": "code",
   "execution_count": 1,
   "metadata": {},
   "outputs": [
    {
     "name": "stdout",
     "output_type": "stream",
     "text": [
      "[1 2 3 4 5 6]\n",
      "3.5\n"
     ]
    }
   ],
   "source": [
    "### Example of calculating a vector mean.\n",
    "# vector mean\n",
    "from numpy import array\n",
    "from numpy import mean\n",
    "# define vector\n",
    "v = array([1,2,3,4,5,6])\n",
    "print(v)\n",
    "# calculate mean\n",
    "result = mean(v)\n",
    "print(result)\n"
   ]
  },
  {
   "cell_type": "code",
   "execution_count": 2,
   "metadata": {},
   "outputs": [
    {
     "name": "stdout",
     "output_type": "stream",
     "text": [
      "[[1 2 3 4 5 6]\n",
      " [1 2 3 4 5 6]]\n",
      "[1. 2. 3. 4. 5. 6.]\n",
      "[3.5 3.5]\n"
     ]
    }
   ],
   "source": [
    "\"\"\"\n",
    "The mean function can calculate the row or column means of a matrix by specifying the\n",
    "axis argument and the value 0 or 1 respectively. The example below defines a 2 × 6 matrix and\n",
    "calculates both column and row means.\n",
    "\"\"\"\n",
    "### Example of calculating matrix means\n",
    "# matrix means\n",
    "from numpy import array\n",
    "from numpy import mean\n",
    "# define matrix\n",
    "M = array([\n",
    "[1,2,3,4,5,6],\n",
    "[1,2,3,4,5,6]])\n",
    "print(M)\n",
    "# column means\n",
    "col_mean = mean(M, axis=0)\n",
    "print(col_mean)\n",
    "# row means\n",
    "row_mean = mean(M, axis=1)\n",
    "print(row_mean)\n"
   ]
  },
  {
   "cell_type": "markdown",
   "metadata": {},
   "source": [
    "###  Variance and Standard Deviation"
   ]
  },
  {
   "cell_type": "code",
   "execution_count": null,
   "metadata": {},
   "outputs": [],
   "source": [
    "\"\"\"\n",
    "In probability, the variance of some random variable X is a measure of how much values in the\n",
    "distribution vary on average with respect to the mean. The variance is denoted as the function\n",
    "Var() on the variable.\n",
    "\n",
    "Var[X]\n",
    "\n",
    "Variance is calculated as the average squared difference of each value in the distribution\n",
    "from the expected value. Or the expected squared difference from the expected value.\n",
    "Var[X] = E[(X − E[X])2]\n",
    "\n",
    "Assuming the expected value of the variable has been calculated (E[X]), the variance of the\n",
    "random variable can be calculated as the sum of the squared difference of each example from\n",
    "the expected value multiplied by the probability of that value.\n",
    "\n",
    "Var[X] = SUMMMATION OF (p(x1) × (x1 − E[X])2, p(x2) × (x2 − E[X])2, · · · , p(xn) × (xn − E[X])2)\n",
    "\n",
    "If the probability of each example in the distribution is equal, variance calculation can drop\n",
    "the individual probabilities and multiply the sum of squared differences by the reciprocal of the\n",
    "number of examples in the distribution.\n",
    "\n",
    "Var[X] = 1/n × SUMMATION OF (x1 − E[X])2 ,(x2 − E[X])2, · · · ,(xn − E[X])2\n",
    "\n",
    "\n",
    "In statistics, the variance can be estimated from a sample of examples drawn from the\n",
    "domain. In the abstract, the sample variance is denoted by the lower case sigma with a 2\n",
    "superscript indicating the units are squared (e.g. σ2), not that you must square the final value.\n",
    "The sum of the squared differences is multiplied by the reciprocal of the number of examples\n",
    "minus 1 to correct for a bias (bias is related to a deeper discussion on degrees of freedom and I\n",
    "refer you to references at the end of the lesson).\n",
    "\n",
    "σ2 =1/n − 1 × SUMMMATION OF i=1 of n (xi − µ)2\n",
    "\n",
    "\"\"\""
   ]
  },
  {
   "cell_type": "code",
   "execution_count": 3,
   "metadata": {},
   "outputs": [
    {
     "name": "stdout",
     "output_type": "stream",
     "text": [
      "[1 2 3 4 5 6]\n",
      "3.5\n"
     ]
    }
   ],
   "source": [
    "# vector variance\n",
    "from numpy import array\n",
    "from numpy import var\n",
    "# define vector\n",
    "v = array([1,2,3,4,5,6])\n",
    "print(v)\n",
    "# calculate variance\n",
    "result = var(v, ddof=1)\n",
    "print(result)"
   ]
  },
  {
   "cell_type": "code",
   "execution_count": 4,
   "metadata": {},
   "outputs": [
    {
     "name": "stdout",
     "output_type": "stream",
     "text": [
      "[[1 2 3 4 5 6]\n",
      " [1 2 3 4 5 6]]\n",
      "[0. 0. 0. 0. 0. 0.]\n",
      "[3.5 3.5]\n"
     ]
    }
   ],
   "source": [
    "# matrix variances\n",
    "from numpy import array\n",
    "from numpy import var\n",
    "# define matrix\n",
    "M = array([\n",
    "[1,2,3,4,5,6],\n",
    "[1,2,3,4,5,6]])\n",
    "print(M)\n",
    "\n",
    "# column variances\n",
    "col_var = var(M, ddof=1, axis=0)\n",
    "print(col_var)\n",
    "# row variances\n",
    "row_var = var(M, ddof=1, axis=1)\n",
    "print(row_var)"
   ]
  },
  {
   "cell_type": "markdown",
   "metadata": {},
   "source": [
    "# standard deviation\n",
    "The standard deviation is calculated as the square root of the variance and is denoted as\n",
    "lowercase s."
   ]
  },
  {
   "cell_type": "code",
   "execution_count": null,
   "metadata": {},
   "outputs": [],
   "source": [
    "s =√σ2 # formula\n",
    "\n",
    "\"\"\"\n",
    "To keep with this notation, sometimes the variance is indicated as s2\n",
    ", with 2 as a superscript,again showing that the units are squared. NumPy also provides a function for calculating\n",
    "the standard deviation directly via the std() function. As with the var() function, the ddof\n",
    "argument must be set to 1 to calculate the unbiased sample standard deviation and column and\n",
    "row standard deviations can be calculated by setting the axis argument to 0 and 1 respectively.\n",
    "The example below demonstrates how to calculate the sample standard deviation for the rows\n",
    "and columns of a matrix\n",
    "\"\"\""
   ]
  },
  {
   "cell_type": "code",
   "execution_count": 5,
   "metadata": {},
   "outputs": [
    {
     "name": "stdout",
     "output_type": "stream",
     "text": [
      "[[1 2 3 4 5 6]\n",
      " [1 2 3 4 5 6]]\n",
      "[0. 0. 0. 0. 0. 0.]\n",
      "[1.87082869 1.87082869]\n"
     ]
    }
   ],
   "source": [
    "# matrix standard deviation\n",
    "from numpy import array\n",
    "from numpy import std\n",
    "# define matrix\n",
    "M = array([\n",
    "[1,2,3,4,5,6],\n",
    "[1,2,3,4,5,6]])\n",
    "print(M)\n",
    "# column standard deviations\n",
    "col_std = std(M, ddof=1, axis=0)\n",
    "print(col_std)\n",
    "# row standard deviations\n",
    "row_std = std(M, ddof=1, axis=1)\n",
    "print(row_std)"
   ]
  },
  {
   "cell_type": "markdown",
   "metadata": {},
   "source": [
    "### Covariance and Correlation\n"
   ]
  },
  {
   "cell_type": "code",
   "execution_count": null,
   "metadata": {},
   "outputs": [],
   "source": [
    "\"\"\"\n",
    "In probability, covariance is the measure of the joint probability for two random variables. It\n",
    "describes how the two variables change together. It is denoted as the function cov(X, Y ), where\n",
    "X and Y are the two random variables being considered.\n",
    "\n",
    "cov(X, Y )\n",
    "\n",
    "Covariance is calculated as expected value or average of the product of the differences of\n",
    "each random variable from their expected values, where E[X] is the expected value for X and\n",
    "E[Y] is the expected value of y.\n",
    "\n",
    "cov(X, Y ) = E[(X − E[X] × (Y − E[Y ])]\n",
    "\n",
    "cov(X, Y ) = 1/n × SUMMATION OF(x − E[X]) × (y − E[Y ])\n",
    "\n",
    "In statistics, the sample covariance can be calculated in the same way, although with a bias\n",
    "correction, the same as with the variance\n",
    "\n",
    "cov(X, Y ) = 1/n − 1 × SUMMATION OF(x − E[X]) × (y − E[Y ])\n",
    "\n",
    "The sign of the covariance can be interpreted as whether the two variables increase together\n",
    "(positive) or decrease together (negative). The magnitude of the covariance is not easily\n",
    "interpreted. A covariance value of zero indicates that both variables are completely independent.\n",
    "NumPy does not have a function to calculate the covariance between two variables directly.\n",
    "Instead, it has a function for calculating a covariance matrix called cov() that we can use to\n",
    "retrieve the covariance. By default, the cov()function will calculate the unbiased or sample\n",
    "covariance between the provided random variables.\n",
    "\"\"\""
   ]
  },
  {
   "cell_type": "code",
   "execution_count": 6,
   "metadata": {},
   "outputs": [
    {
     "name": "stdout",
     "output_type": "stream",
     "text": [
      "[1 2 3 4 5 6 7 8 9]\n",
      "[9 8 7 6 5 4 3 2 1]\n",
      "-7.5\n"
     ]
    }
   ],
   "source": [
    "# vector covariance\n",
    "from numpy import array\n",
    "from numpy import cov\n",
    "# define first vector\n",
    "x = array([1,2,3,4,5,6,7,8,9])\n",
    "print(x)\n",
    "# define second covariance\n",
    "y = array([9,8,7,6,5,4,3,2,1])\n",
    "print(y)\n",
    "# calculate covariance\n",
    "Sigma = cov(x,y)[0,1]\n",
    "print(Sigma)"
   ]
  },
  {
   "cell_type": "code",
   "execution_count": null,
   "metadata": {},
   "outputs": [],
   "source": [
    "\"\"\"\n",
    "The covariance can be normalized to a score between -1 and 1 to make the magnitude\n",
    "interpretable by dividing it by the standard deviation of X and Y . The result is called the\n",
    "correlation of the variables, also called the Pearson correlation coefficient, named for the\n",
    "developer of the method.\n",
    "\n",
    "r =cov(X, Y ) / sX × sY\n",
    "\n",
    "Where r is the correlation coefficient of X and Y , cov(X, Y ) is the sample covariance of X\n",
    "and Y and sX and sY are the standard deviations of X and Y respectively. NumPy provides\n",
    "the corrcoef() function for calculating the correlation between two variables directly. Like\n",
    "cov(), it returns a matrix, in this case a correlation matrix. As with the results from cov() we\n",
    "can access just the correlation of interest from the [0,1] value from the returned squared matrix.\n",
    "\"\"\""
   ]
  },
  {
   "cell_type": "code",
   "execution_count": 7,
   "metadata": {},
   "outputs": [
    {
     "name": "stdout",
     "output_type": "stream",
     "text": [
      "[1 2 3 4 5 6 7 8 9]\n",
      "[9 8 7 6 5 4 3 2 1]\n",
      "-1.0\n"
     ]
    }
   ],
   "source": [
    "# vector correlation\n",
    "from numpy import array\n",
    "from numpy import corrcoef\n",
    "# define first vector\n",
    "x = array([1,2,3,4,5,6,7,8,9])\n",
    "print(x)\n",
    "# define second vector\n",
    "y = array([9,8,7,6,5,4,3,2,1])\n",
    "print(y)\n",
    "# calculate correlation\n",
    "corr = corrcoef(x,y)[0,1]\n",
    "print(corr)\n"
   ]
  },
  {
   "cell_type": "markdown",
   "metadata": {},
   "source": [
    "# Covariance Matrix"
   ]
  },
  {
   "cell_type": "code",
   "execution_count": null,
   "metadata": {},
   "outputs": [],
   "source": [
    "\"\"\"\n",
    "The covariance matrix is a square and symmetric matrix that describes the covariance between\n",
    "two or more random variables. The diagonal of the covariance matrix are the variances of each\n",
    "of the random variables, as such it is often called the variance-covariance matrix. A covariance\n",
    "matrix is a generalization of the covariance of two variables and captures the way in which all\n",
    "variables in the dataset may change together. The covariance matrix is denoted as the uppercase\n",
    "Greek letter Sigma, e.g. Σ. The covariance for each pair of random variables is calculated as\n",
    "above.\n",
    "Σ = E[(X − E[X] × (Y − E[Y ])]\n",
    "Σi,j = cov(Xi, Xj )\n",
    "Below is an example that defines a dataset with 5 observations across 3 features\n",
    "and calculates the covariance matrix.\n",
    "\"\"\""
   ]
  },
  {
   "cell_type": "code",
   "execution_count": 1,
   "metadata": {},
   "outputs": [
    {
     "name": "stdout",
     "output_type": "stream",
     "text": [
      "[[ 1  5  8]\n",
      " [ 3  5 11]\n",
      " [ 2  4  9]\n",
      " [ 3  6 10]\n",
      " [ 1  5 10]]\n",
      "[[1.   0.25 0.75]\n",
      " [0.25 0.5  0.25]\n",
      " [0.75 0.25 1.3 ]]\n"
     ]
    }
   ],
   "source": [
    "# covariance matrix\n",
    "from numpy import array\n",
    "from numpy import cov\n",
    "# define matrix of observations\n",
    "X = array([\n",
    "[1, 5, 8],\n",
    "[3, 5, 11],\n",
    "[2, 4, 9],\n",
    "[3, 6, 10],\n",
    "[1, 5, 10]])\n",
    "print(X)\n",
    "# calculate covariance matrix\n",
    "Sigma = cov(X.T)\n",
    "print(Sigma)\n"
   ]
  },
  {
   "cell_type": "code",
   "execution_count": null,
   "metadata": {},
   "outputs": [],
   "source": []
  }
 ],
 "metadata": {
  "kernelspec": {
   "display_name": "Python 3",
   "language": "python",
   "name": "python3"
  },
  "language_info": {
   "codemirror_mode": {
    "name": "ipython",
    "version": 3
   },
   "file_extension": ".py",
   "mimetype": "text/x-python",
   "name": "python",
   "nbconvert_exporter": "python",
   "pygments_lexer": "ipython3",
   "version": "3.6.8"
  }
 },
 "nbformat": 4,
 "nbformat_minor": 2
}
