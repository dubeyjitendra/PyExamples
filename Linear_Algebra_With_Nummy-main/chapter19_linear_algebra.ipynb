{
 "cells": [
  {
   "cell_type": "markdown",
   "metadata": {},
   "source": [
    "# Linear Regression"
   ]
  },
  {
   "cell_type": "code",
   "execution_count": null,
   "metadata": {},
   "outputs": [],
   "source": [
    "\"\"\"\n",
    "Linear regression is a method for modeling the relationship between one or more independent\n",
    "variables and a dependent variable. It is a staple of statistics and is often considered a good\n",
    "introductory machine learning method. It is also a method that can be reformulated using\n",
    "matrix notation and solved using matrix operations. In this tutorial, you will discover the\n",
    "matrix formulation of linear regression and how to solve it using direct and matrix factorization\n",
    "methods.\n",
    "\n",
    "1. What is Linear Regression\n",
    "2. Matrix Formulation of Linear Regression\n",
    "3. Linear Regression Dataset\n",
    "4. Solve via Inverse\n",
    "5. Solve via QR Decomposition\n",
    "6. Solve via SVD and Pseudoinverse\n",
    "7. Solve via Convenience Function\n",
    "\n",
    "\"\"\""
   ]
  },
  {
   "cell_type": "markdown",
   "metadata": {},
   "source": [
    "### What is Linear Regression"
   ]
  },
  {
   "cell_type": "code",
   "execution_count": null,
   "metadata": {},
   "outputs": [],
   "source": [
    "\"\"\"\n",
    "Linear regression is a method for modeling the relationship between two scalar values: the\n",
    "input variable x and the output variable y. The model assumes that y is a linear function or a\n",
    "weighted sum of the input variable.\n",
    "\n",
    "y = f(x)\n",
    "Or, stated with the coefficients.\n",
    "\n",
    "y = b0 + b1 × x1\n",
    "\n",
    "The model can also be used to model an output variable given multiple input variables called\n",
    "multivariate linear regression (below, brackets were added for readability).\n",
    "\n",
    "y = b0 + (b1 × x1) + (b2 × x2) + · · ·\n",
    "\n",
    "The objective of creating a linear regression model is to find the values for the coefficient\n",
    "values (b) that minimize the error in the prediction of the output variable y.\n",
    "\n",
    "\"\"\""
   ]
  },
  {
   "cell_type": "markdown",
   "metadata": {},
   "source": [
    "# Matrix Formulation of Linear Regression"
   ]
  },
  {
   "cell_type": "code",
   "execution_count": null,
   "metadata": {},
   "outputs": [],
   "source": [
    "\"\"\"\n",
    "Linear regression can be stated using Matrix notation; for example:\n",
    "\n",
    "y = X · b\n",
    "\n",
    "Or, without the dot notation.\n",
    "\n",
    "y = Xb\n",
    "\n",
    "Where X is the input data and each column is a data feature, b is a vector of coefficients\n",
    "and y is a vector of output variables for each row in X\n",
    "\n",
    "X = (x1,1 x1,2 x1,3\n",
    "    x2,1 x2,2 x2,3\n",
    "    x3,1 x3,2 x3,3\n",
    "    x4,1 x4,2 x4,3)\n",
    "\n",
    "b =(b1\n",
    "    b2\n",
    "    b3)\n",
    "\n",
    "y =(y1\n",
    "    y2\n",
    "    y3\n",
    "    y4)\n",
    "\n",
    "Reformulated, the problem becomes a system of linear equations where the b vector values\n",
    "are unknown. This type of system is referred to as overdetermined because there are more\n",
    "equations than there are unknowns, i.e. each coefficient is used on each row of data. It is a\n",
    "challenging problem to solve analytically because there are multiple inconsistent solutions, e.g.\n",
    "multiple possible values for the coefficients. Further, all solutions will have some error because\n",
    "there is no line that will pass nearly through all points, therefore the approach to solving the\n",
    "equations must be able to handle that. The way this is typically achieved is by finding a solution\n",
    "where the values for b in the model minimize the squared error. This is called linear least\n",
    "squares.\n",
    "\n",
    "||X · b − y||2 =Xmi=1Xnj=1Xi,j · (bj − yi)2\n",
    "This formulation has a unique solution as long as the input columns are independent (e.g.\n",
    "uncorrelated).\n",
    "\n",
    "In matrix notation, this problem is formulated using the so-named normal equation:\n",
    "\n",
    "XT· X · b = XT· y\n",
    "This can be re-arranged in order to specify the solution for b as:\n",
    "b = (XT· X)−1· XT· y\n",
    "\n",
    "\"\"\""
   ]
  },
  {
   "cell_type": "markdown",
   "metadata": {},
   "source": [
    "# Linear Regression Dataset"
   ]
  },
  {
   "cell_type": "code",
   "execution_count": null,
   "metadata": {},
   "outputs": [],
   "source": [
    "\"\"\"\n",
    "In order to explore the matrix formulation of linear regression, let’s first define a dataset as a\n",
    "context. We will use a simple 2D dataset where the data is easy to visualize as a scatter plot\n",
    "and models are easy to visualize as a line that attempts to fit the data points. The example\n",
    "below defines a 5 × 2 matrix dataset, splits it into X and y components, and plots the dataset\n",
    "as a scatter plot.\n",
    "\"\"\""
   ]
  },
  {
   "cell_type": "code",
   "execution_count": 1,
   "metadata": {},
   "outputs": [
    {
     "name": "stdout",
     "output_type": "stream",
     "text": [
      "[[0.05 0.12]\n",
      " [0.18 0.22]\n",
      " [0.31 0.35]\n",
      " [0.42 0.38]\n",
      " [0.5  0.49]]\n"
     ]
    },
    {
     "data": {
      "text/plain": [
       "<Figure size 640x480 with 1 Axes>"
      ]
     },
     "metadata": {},
     "output_type": "display_data"
    }
   ],
   "source": [
    "# linear regression dataset\n",
    "from numpy import array\n",
    "from matplotlib import pyplot\n",
    "# define dataset\n",
    "data = array([\n",
    "[0.05, 0.12],\n",
    "[0.18, 0.22],\n",
    "[0.31, 0.35],\n",
    "[0.42, 0.38],\n",
    "[0.5, 0.49]])\n",
    "print(data)\n",
    "# split into inputs and outputs\n",
    "X, y = data[:,0], data[:,1]\n",
    "X = X.reshape((len(X), 1))\n",
    "# scatter plot\n",
    "pyplot.scatter(X, y)\n",
    "pyplot.show()\n"
   ]
  },
  {
   "cell_type": "markdown",
   "metadata": {},
   "source": [
    "# Solve via Inverse"
   ]
  },
  {
   "cell_type": "code",
   "execution_count": null,
   "metadata": {},
   "outputs": [],
   "source": [
    "\"\"\"\n",
    "The first approach is to attempt to solve the regression problem directly using the matrix inverse.\n",
    "That is, given X, what are the set of coefficients b that when multiplied by X will give y. As\n",
    "we saw in a previous section, the normal equations define how to calculate b directly.\n",
    "b = (XT· X)−1· XT· y\n",
    "\n",
    "b = inv(X.T.dot(X)).dot(X.T).dot(y)\n",
    "yhat = X.dot(b)\n",
    "\n",
    "Putting this together with the dataset defined in the previous section, the complete example\n",
    "is listed below.\n",
    "\"\"\""
   ]
  },
  {
   "cell_type": "code",
   "execution_count": 2,
   "metadata": {},
   "outputs": [
    {
     "name": "stdout",
     "output_type": "stream",
     "text": [
      "[1.00233226]\n"
     ]
    },
    {
     "data": {
      "image/png": "[encoded data removed]",
      "text/plain": [
       "<Figure size 432x288 with 1 Axes>"
      ]
     },
     "metadata": {
      "needs_background": "light"
     },
     "output_type": "display_data"
    }
   ],
   "source": [
    "# direct solution to linear least squares\n",
    "from numpy import array\n",
    "from numpy.linalg import inv\n",
    "from matplotlib import pyplot\n",
    "# define dataset\n",
    "data = array([\n",
    "[0.05, 0.12],\n",
    "[0.18, 0.22],\n",
    "[0.31, 0.35],\n",
    "[0.42, 0.38],\n",
    "[0.5, 0.49]])\n",
    "# split into inputs and outputs\n",
    "X, y = data[:,0], data[:,1]\n",
    "X = X.reshape((len(X), 1))\n",
    "# linear least squares\n",
    "b = inv(X.T.dot(X)).dot(X.T).dot(y)\n",
    "print(b)\n",
    "# predict using coefficients\n",
    "yhat = X.dot(b)\n",
    "# plot data and predictions\n",
    "pyplot.scatter(X, y)\n",
    "pyplot.plot(X, yhat, color='red')\n",
    "pyplot.show()"
   ]
  },
  {
   "cell_type": "code",
   "execution_count": 3,
   "metadata": {},
   "outputs": [
    {
     "name": "stdout",
     "output_type": "stream",
     "text": [
      "[1.00233226]\n"
     ]
    },
    {
     "data": {
      "image/png": "[encoded data removed]",
      "text/plain": [
       "<Figure size 432x288 with 1 Axes>"
      ]
     },
     "metadata": {
      "needs_background": "light"
     },
     "output_type": "display_data"
    }
   ],
   "source": [
    "# QR decomposition solution to linear least squares\n",
    "from numpy import array\n",
    "from numpy.linalg import inv\n",
    "from numpy.linalg import qr\n",
    "from matplotlib import pyplot\n",
    "# define dataset\n",
    "data = array([\n",
    "[0.05, 0.12],\n",
    "[0.18, 0.22],\n",
    "[0.31, 0.35],\n",
    "[0.42, 0.38],\n",
    "[0.5, 0.49]])\n",
    "# split into inputs and outputs\n",
    "X, y = data[:,0], data[:,1]\n",
    "X = X.reshape((len(X), 1))\n",
    "# factorize\n",
    "Q, R = qr(X)\n",
    "b = inv(R).dot(Q.T).dot(y)\n",
    "print(b)\n",
    "# predict using coefficients\n",
    "yhat = X.dot(b)\n",
    "# plot data and predictions\n",
    "pyplot.scatter(X, y)\n",
    "pyplot.plot(X, yhat, color='red')\n",
    "pyplot.show()\n"
   ]
  },
  {
   "cell_type": "code",
   "execution_count": 4,
   "metadata": {},
   "outputs": [
    {
     "name": "stdout",
     "output_type": "stream",
     "text": [
      "[1.00233226]\n"
     ]
    },
    {
     "data": {
      "image/png": "[encoded data removed]",
      "text/plain": [
       "<Figure size 432x288 with 1 Axes>"
      ]
     },
     "metadata": {
      "needs_background": "light"
     },
     "output_type": "display_data"
    }
   ],
   "source": [
    "# SVD solution via pseudoinverse to linear least squares\n",
    "from numpy import array\n",
    "from numpy.linalg import pinv\n",
    "from matplotlib import pyplot\n",
    "# define dataset\n",
    "data = array([\n",
    "[0.05, 0.12],\n",
    "[0.18, 0.22],\n",
    "[0.31, 0.35],\n",
    "[0.42, 0.38],\n",
    "[0.5, 0.49]])\n",
    "# split into inputs and outputs\n",
    "X, y = data[:,0], data[:,1]\n",
    "X = X.reshape((len(X), 1))\n",
    "# calculate coefficients\n",
    "b = pinv(X).dot(y)\n",
    "print(b)\n",
    "# predict using coefficients\n",
    "yhat = X.dot(b)\n",
    "# plot data and predictions\n",
    "pyplot.scatter(X, y)\n",
    "pyplot.plot(X, yhat, color='red')\n",
    "pyplot.show()\n"
   ]
  },
  {
   "cell_type": "code",
   "execution_count": null,
   "metadata": {},
   "outputs": [],
   "source": []
  }
 ],
 "metadata": {
  "kernelspec": {
   "display_name": "Python 3",
   "language": "python",
   "name": "python3"
  },
  "language_info": {
   "codemirror_mode": {
    "name": "ipython",
    "version": 3
   },
   "file_extension": ".py",
   "mimetype": "text/x-python",
   "name": "python",
   "nbconvert_exporter": "python",
   "pygments_lexer": "ipython3",
   "version": "3.6.8"
  }
 },
 "nbformat": 4,
 "nbformat_minor": 2
}
