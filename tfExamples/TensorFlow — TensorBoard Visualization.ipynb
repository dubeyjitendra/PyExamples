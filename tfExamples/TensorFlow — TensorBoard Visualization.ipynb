{
 "cells": [
  {
   "cell_type": "code",
   "execution_count": 18,
   "metadata": {},
   "outputs": [
    {
     "name": "stdout",
     "output_type": "stream",
     "text": [
      "190\n"
     ]
    }
   ],
   "source": [
    "import tensorflow as tf\n",
    "# Constants creation for TensorBoard visualization\n",
    "a = tf.constant(10,name=\"a\")\n",
    "b = tf.constant(90,name=\"b\")\n",
    "y = tf.Variable(a+b*2,name='y')\n",
    "model = tf.initialize_all_variables() #Creation of model\n",
    "with tf.Session() as session:\n",
    "    merged = tf.summary.merge #tf.merge_all_summaries()\n",
    "    writer = tf.summary.FileWriter(\"C:\\\\Users\\\\hp\\\\tmptest\\\\\",session.graph)\n",
    "    session.run(model)\n",
    "    print(session.run(y))\n"
   ]
  },
  {
   "cell_type": "code",
   "execution_count": 22,
   "metadata": {},
   "outputs": [
    {
     "name": "stderr",
     "output_type": "stream",
     "text": [
      "c:\\users\\hp\\appdata\\local\\programs\\python\\python36\\lib\\site-packages\\tensorflow\\python\\framework\\dtypes.py:493: FutureWarning: Passing (type, 1) or '1type' as a synonym of type is deprecated; in a future version of numpy, it will be understood as (type, (1,)) / '(1,)type'.\n",
      "  _np_qint8 = np.dtype([(\"qint8\", np.int8, 1)])\n",
      "c:\\users\\hp\\appdata\\local\\programs\\python\\python36\\lib\\site-packages\\tensorflow\\python\\framework\\dtypes.py:494: FutureWarning: Passing (type, 1) or '1type' as a synonym of type is deprecated; in a future version of numpy, it will be understood as (type, (1,)) / '(1,)type'.\n",
      "  _np_quint8 = np.dtype([(\"quint8\", np.uint8, 1)])\n",
      "c:\\users\\hp\\appdata\\local\\programs\\python\\python36\\lib\\site-packages\\tensorflow\\python\\framework\\dtypes.py:495: FutureWarning: Passing (type, 1) or '1type' as a synonym of type is deprecated; in a future version of numpy, it will be understood as (type, (1,)) / '(1,)type'.\n",
      "  _np_qint16 = np.dtype([(\"qint16\", np.int16, 1)])\n",
      "c:\\users\\hp\\appdata\\local\\programs\\python\\python36\\lib\\site-packages\\tensorflow\\python\\framework\\dtypes.py:496: FutureWarning: Passing (type, 1) or '1type' as a synonym of type is deprecated; in a future version of numpy, it will be understood as (type, (1,)) / '(1,)type'.\n",
      "  _np_quint16 = np.dtype([(\"quint16\", np.uint16, 1)])\n",
      "c:\\users\\hp\\appdata\\local\\programs\\python\\python36\\lib\\site-packages\\tensorflow\\python\\framework\\dtypes.py:497: FutureWarning: Passing (type, 1) or '1type' as a synonym of type is deprecated; in a future version of numpy, it will be understood as (type, (1,)) / '(1,)type'.\n",
      "  _np_qint32 = np.dtype([(\"qint32\", np.int32, 1)])\n",
      "c:\\users\\hp\\appdata\\local\\programs\\python\\python36\\lib\\site-packages\\tensorflow\\python\\framework\\dtypes.py:502: FutureWarning: Passing (type, 1) or '1type' as a synonym of type is deprecated; in a future version of numpy, it will be understood as (type, (1,)) / '(1,)type'.\n",
      "  np_resource = np.dtype([(\"resource\", np.ubyte, 1)])\n",
      "Traceback (most recent call last):\n",
      "  File \"c:\\users\\hp\\appdata\\local\\programs\\python\\python36\\lib\\runpy.py\", line 193, in _run_module_as_main\n",
      "    \"__main__\", mod_spec)\n",
      "  File \"c:\\users\\hp\\appdata\\local\\programs\\python\\python36\\lib\\runpy.py\", line 85, in _run_code\n",
      "    exec(code, run_globals)\n",
      "  File \"C:\\Users\\hp\\AppData\\Local\\Programs\\Python\\Python36\\Scripts\\tensorboard.exe\\__main__.py\", line 4, in <module>\n",
      "  File \"c:\\users\\hp\\appdata\\local\\programs\\python\\python36\\lib\\site-packages\\tensorboard\\main.py\", line 31, in <module>\n",
      "    from tensorboard import program\n",
      "  File \"c:\\users\\hp\\appdata\\local\\programs\\python\\python36\\lib\\site-packages\\tensorboard\\program.py\", line 43, in <module>\n",
      "    from tensorboard.backend import application\n",
      "  File \"c:\\users\\hp\\appdata\\local\\programs\\python\\python36\\lib\\site-packages\\tensorboard\\backend\\application.py\", line 38, in <module>\n",
      "    from tensorboard import db\n",
      "  File \"c:\\users\\hp\\appdata\\local\\programs\\python\\python36\\lib\\site-packages\\tensorboard\\db.py\", line 42, in <module>\n",
      "    class TensorBase(object):\n",
      "  File \"c:\\users\\hp\\appdata\\local\\programs\\python\\python36\\lib\\site-packages\\tensorboard\\db.py\", line 48, in TensorBase\n",
      "    def __init__(self, db_connection_provider, retrier_factory=util.Retrier):\n",
      "AttributeError: module 'tensorboard.util' has no attribute 'Retrier'\n"
     ]
    }
   ],
   "source": [
    "tensorboard --logdir=.\\train\\linreg"
   ]
  },
  {
   "cell_type": "code",
   "execution_count": null,
   "metadata": {},
   "outputs": [],
   "source": []
  }
 ],
 "metadata": {
  "kernelspec": {
   "display_name": "Python 3",
   "language": "python",
   "name": "python3"
  },
  "language_info": {
   "codemirror_mode": {
    "name": "ipython",
    "version": 3
   },
   "file_extension": ".py",
   "mimetype": "text/x-python",
   "name": "python",
   "nbconvert_exporter": "python",
   "pygments_lexer": "ipython3",
   "version": "3.6.8"
  }
 },
 "nbformat": 4,
 "nbformat_minor": 2
}
