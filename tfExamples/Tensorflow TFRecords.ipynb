{
 "cells": [
  {
   "cell_type": "markdown",
   "metadata": {},
   "source": [
    "# Tensorflow Records"
   ]
  },
  {
   "cell_type": "markdown",
   "metadata": {},
   "source": [
    "see this link to get more details: https://medium.com/mostly-ai/tensorflow-records-what-they-are-and-how-to-use-them-c46bc4bbb564"
   ]
  },
  {
   "cell_type": "markdown",
   "metadata": {},
   "source": [
    "## TFRecords:\n",
    "\n",
    "A lesser-known component of Tensorflow is the TFRecord file format, Tensorflow’s own binary storage format.\n",
    "\n",
    "If you are working with large datasets, using a binary file format for storage of your data can have a significant impact on the performance of your import pipeline and as a consequence on the training time of your model. Binary data takes up less space on disk, takes less time to copy and can be read much more efficiently from disk. This is especially true if your data is stored on spinning disks, due to the much lower read/write performance in comparison with SSDs.\n",
    "\n",
    "A TFRecord file stores your data as a sequence of binary strings\n",
    "\n",
    "#### Advantage:\n",
    "\n",
    "1- Especially for datasets that are too large to be stored fully in memory this is an advantage as only the data that is required at the time (e.g. a batch) is loaded from disk and then processed\n",
    "\n",
    "2- This means you need to specify the structure of your data before you write it to the file. \n",
    "\n",
    "3- Tensorflow provides two components for this purpose:\n",
    " 1- tf.train.Example \n",
    " 2-tf.train.SequenceExample\n",
    "\n",
    "4- You have to store each sample of your data in one of these structures, then serialize it and use a tf.python_io.TFRecordWriter to write it to disk.\n",
    "\n",
    "5- tf.train.Example isn’t a normal Python class, but a protocol buffer.\n",
    "\n",
    "6- For instance, for tf.train.Example only a “.proto” file with cryptic structures called “message” is provided, along with examples in pseudocode. The reason for this is that tf.train.Example isn’t a normal Python class, but a protocol buffer.\n",
    "\n",
    "7- A protocol buffer is a method developed by Google to serialize structured data in an efficient way. \n",
    "\n",
    "8- TFRecords is that it is possible to store sequence data — for instance, a time series or word encodings"
   ]
  },
  {
   "cell_type": "markdown",
   "metadata": {},
   "source": [
    "# Example\n",
    "\n",
    "Reading and writing TFRecords using tf.train.Example."
   ]
  },
  {
   "cell_type": "code",
   "execution_count": 1,
   "metadata": {},
   "outputs": [
    {
     "name": "stderr",
     "output_type": "stream",
     "text": [
      "C:\\Users\\Admin\\Anaconda3\\lib\\site-packages\\h5py\\__init__.py:36: FutureWarning: Conversion of the second argument of issubdtype from `float` to `np.floating` is deprecated. In future, it will be treated as `np.float64 == np.dtype(float).type`.\n",
      "  from ._conv import register_converters as _register_converters\n"
     ]
    }
   ],
   "source": [
    "import tensorflow as tf"
   ]
  },
  {
   "cell_type": "code",
   "execution_count": 2,
   "metadata": {},
   "outputs": [
    {
     "name": "stdout",
     "output_type": "stream",
     "text": [
      "{'Age': 29, 'Movie': ['The Shawshank Redemption', 'Fight Club'], 'Movie Ratings': [9.0, 9.7], 'Suggestion': 'Inception', 'Suggestion Purchased': 1.0, 'Purchase Price': 9.99}\n"
     ]
    }
   ],
   "source": [
    "# Create example data\n",
    "data = {\n",
    "    'Age': 29,\n",
    "    'Movie': ['The Shawshank Redemption', 'Fight Club'],\n",
    "    'Movie Ratings': [9.0, 9.7],\n",
    "    'Suggestion': 'Inception',\n",
    "    'Suggestion Purchased': 1.0,\n",
    "    'Purchase Price': 9.99\n",
    "}\n",
    "\n",
    "print(data)"
   ]
  },
  {
   "cell_type": "code",
   "execution_count": 3,
   "metadata": {},
   "outputs": [
    {
     "name": "stdout",
     "output_type": "stream",
     "text": [
      "features {\n",
      "  feature {\n",
      "    key: \"Age\"\n",
      "    value {\n",
      "      int64_list {\n",
      "        value: 29\n",
      "      }\n",
      "    }\n",
      "  }\n",
      "  feature {\n",
      "    key: \"Movie\"\n",
      "    value {\n",
      "      bytes_list {\n",
      "        value: \"The Shawshank Redemption\"\n",
      "        value: \"Fight Club\"\n",
      "      }\n",
      "    }\n",
      "  }\n",
      "  feature {\n",
      "    key: \"Movie Ratings\"\n",
      "    value {\n",
      "      float_list {\n",
      "        value: 9.0\n",
      "        value: 9.699999809265137\n",
      "      }\n",
      "    }\n",
      "  }\n",
      "  feature {\n",
      "    key: \"Purchase Price\"\n",
      "    value {\n",
      "      float_list {\n",
      "        value: 9.989999771118164\n",
      "      }\n",
      "    }\n",
      "  }\n",
      "  feature {\n",
      "    key: \"Suggestion\"\n",
      "    value {\n",
      "      bytes_list {\n",
      "        value: \"Inception\"\n",
      "      }\n",
      "    }\n",
      "  }\n",
      "  feature {\n",
      "    key: \"Suggestion Purchased\"\n",
      "    value {\n",
      "      float_list {\n",
      "        value: 1.0\n",
      "      }\n",
      "    }\n",
      "  }\n",
      "}\n",
      "\n"
     ]
    }
   ],
   "source": [
    "# Create the Example\n",
    "example = tf.train.Example(features=tf.train.Features(feature={\n",
    "    'Age': tf.train.Feature(\n",
    "        int64_list=tf.train.Int64List(value=[data['Age']])),\n",
    "    'Movie': tf.train.Feature(\n",
    "        bytes_list=tf.train.BytesList(\n",
    "            value=[m.encode('utf-8') for m in data['Movie']])),\n",
    "    'Movie Ratings': tf.train.Feature(\n",
    "        float_list=tf.train.FloatList(value=data['Movie Ratings'])),\n",
    "    'Suggestion': tf.train.Feature(\n",
    "        bytes_list=tf.train.BytesList(\n",
    "            value=[data['Suggestion'].encode('utf-8')])),\n",
    "    'Suggestion Purchased': tf.train.Feature(\n",
    "        float_list=tf.train.FloatList(\n",
    "            value=[data['Suggestion Purchased']])),\n",
    "    'Purchase Price': tf.train.Feature(\n",
    "        float_list=tf.train.FloatList(value=[data['Purchase Price']]))\n",
    "}))\n",
    "\n",
    "print(example)"
   ]
  },
  {
   "cell_type": "code",
   "execution_count": 4,
   "metadata": {},
   "outputs": [],
   "source": [
    "# Write TFrecord file\n",
    "with tf.python_io.TFRecordWriter('customer_1.tfrecord') as writer:\n",
    "    writer.write(example.SerializeToString())"
   ]
  },
  {
   "cell_type": "code",
   "execution_count": 5,
   "metadata": {},
   "outputs": [
    {
     "name": "stdout",
     "output_type": "stream",
     "text": [
      "WARNING:tensorflow:From C:\\Users\\Admin\\Anaconda3\\lib\\site-packages\\tensorflow\\python\\training\\input.py:187: QueueRunner.__init__ (from tensorflow.python.training.queue_runner_impl) is deprecated and will be removed in a future version.\n",
      "Instructions for updating:\n",
      "To construct input pipelines, use the `tf.data` module.\n",
      "WARNING:tensorflow:From C:\\Users\\Admin\\Anaconda3\\lib\\site-packages\\tensorflow\\python\\training\\input.py:187: add_queue_runner (from tensorflow.python.training.queue_runner_impl) is deprecated and will be removed in a future version.\n",
      "Instructions for updating:\n",
      "To construct input pipelines, use the `tf.data` module.\n",
      "WARNING:tensorflow:From <ipython-input-5-2c80973f3117>:25: start_queue_runners (from tensorflow.python.training.queue_runner_impl) is deprecated and will be removed in a future version.\n",
      "Instructions for updating:\n",
      "To construct input pipelines, use the `tf.data` module.\n",
      "Movie: SparseTensorValue(indices=array([[0],\n",
      "       [1]], dtype=int64), values=array([b'The Shawshank Redemption', b'Fight Club'], dtype=object), dense_shape=array([2], dtype=int64))\n",
      "Movie Ratings: SparseTensorValue(indices=array([[0],\n",
      "       [1]], dtype=int64), values=array([9. , 9.7], dtype=float32), dense_shape=array([2], dtype=int64))\n",
      "Age: 29\n",
      "Purchase Price: 9.989999771118164\n",
      "Suggestion: b'Inception'\n",
      "Suggestion Purchased: 1.0\n"
     ]
    }
   ],
   "source": [
    "# Read and print data:\n",
    "sess = tf.InteractiveSession()\n",
    "\n",
    "# Read TFRecord file\n",
    "reader = tf.TFRecordReader()\n",
    "filename_queue = tf.train.string_input_producer(['customer_1.tfrecord'])\n",
    "\n",
    "_, serialized_example = reader.read(filename_queue)\n",
    "\n",
    "# Define features\n",
    "read_features = {\n",
    "    'Age': tf.FixedLenFeature([], dtype=tf.int64),\n",
    "    'Movie': tf.VarLenFeature(dtype=tf.string),\n",
    "    'Movie Ratings': tf.VarLenFeature(dtype=tf.float32),\n",
    "    'Suggestion': tf.FixedLenFeature([], dtype=tf.string),\n",
    "    'Suggestion Purchased': tf.FixedLenFeature([], dtype=tf.float32),\n",
    "    'Purchase Price': tf.FixedLenFeature([], dtype=tf.float32)}\n",
    "\n",
    "# Extract features from serialized data\n",
    "read_data = tf.parse_single_example(serialized=serialized_example,\n",
    "                                    features=read_features)\n",
    "\n",
    "# Many tf.train functions use tf.train.QueueRunner,\n",
    "# so we need to start it before we read\n",
    "tf.train.start_queue_runners(sess)\n",
    "\n",
    "# Print features\n",
    "for name, tensor in read_data.items():\n",
    "    print('{}: {}'.format(name, tensor.eval()))\n"
   ]
  },
  {
   "cell_type": "code",
   "execution_count": null,
   "metadata": {},
   "outputs": [],
   "source": []
  }
 ],
 "metadata": {
  "kernelspec": {
   "display_name": "Python 3",
   "language": "python",
   "name": "python3"
  },
  "language_info": {
   "codemirror_mode": {
    "name": "ipython",
    "version": 3
   },
   "file_extension": ".py",
   "mimetype": "text/x-python",
   "name": "python",
   "nbconvert_exporter": "python",
   "pygments_lexer": "ipython3",
   "version": "3.6.5"
  }
 },
 "nbformat": 4,
 "nbformat_minor": 2
}
