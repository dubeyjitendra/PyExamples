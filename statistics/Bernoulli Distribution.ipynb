{
 "cells": [
  {
   "cell_type": "code",
   "execution_count": null,
   "metadata": {},
   "outputs": [],
   "source": [
    "### https://www.statisticshowto.com/bernoulli-distribution/"
   ]
  },
  {
   "cell_type": "markdown",
   "metadata": {},
   "source": [
    "# What is a Bernoulli Distribution?"
   ]
  },
  {
   "cell_type": "markdown",
   "metadata": {},
   "source": [
    "A Bernoulli distribution is a discrete probability distribution for a Bernoulli trial — a random experiment that has only two outcomes (usually called a “Success” or a “Failure”).\n",
    "\n",
    "**For example**, the probability of getting a heads (a “success”) while flipping a coin is 0.5. The probability of “failure” is 1 – P (1 minus the probability of success, which also equals 0.5 for a coin toss). It is a special case of the binomial distribution for n = 1. In other words, it is a binomial distribution with a single trial (e.g. a single coin toss).\n",
    "\n",
    "Success = 0.5\n",
    "\n",
    "failure = 1-p\n",
    "\n",
    "The probability of a failure is labeled on the x-axis as 0 and success is labeled as 1. In the following Bernoulli distribution, the probability of success (1) is 0.4, and the probability of failure (0) is 0.6:\n",
    "\n",
    "![](https://www.statisticshowto.com/wp-content/uploads/2016/07/bernoulli-distribution.png)"
   ]
  },
  {
   "cell_type": "markdown",
   "metadata": {},
   "source": [
    "The probability density function (pdf) for this distribution is px (1 – p)1 – x, which can also be written as:\n",
    "\n",
    "![](https://www.statisticshowto.com/wp-content/uploads/2016/07/pdf-bernoulli.png)"
   ]
  },
  {
   "cell_type": "markdown",
   "metadata": {},
   "source": [
    "The expected value for a random variable, X, for a Bernoulli distribution is:\n",
    "\n",
    "E[X] = p.\n",
    "\n",
    "For example, if p = .04, then E[X] = 0.4.\n",
    "\n",
    "The variance of a Bernoulli random variable is:\n",
    "\n",
    "Var[X] = p(1 – p)."
   ]
  },
  {
   "cell_type": "markdown",
   "metadata": {},
   "source": [
    "### What is a Bernoulli Trial?\n",
    "A Bernoulli trial is one of the simplest experiments you can conduct. It’s an experiment where you can have one of two possible outcomes. For example, “Yes” and “No” or “Heads” and “Tails.” A few examples:\n",
    "\n",
    "Coin tosses: record how many coins land heads up and how many land tails up.\n",
    "Births: how many boys are born and how many girls are born each day.\n",
    "Rolling Dice: the probability of a roll of two die resulting in a double six.\n",
    "\n",
    "Bernoulli trials are usually phrased in terms of success and failure. Success doesn’t mean success in the usual way—it just refers to an outcome you want to keep track of. For example, you might want to find out how many boys are born each day, so you call a boy birth a “success” and a girl birth a “failure.” In the dice rolling example, a double six die roll would be your “success” and everything else rolled would be considered a “failure.”\n",
    "\n",
    "Use of the Bernoulli Distribution in Epidemiology\n",
    "\n",
    "In experiments and clinical trials, the Bernoulli distribution is sometimes used to model a single individual experiencing an event like death, a disease, or disease exposure. The model is an excellent indicator of the probability a person has the event in question.\n",
    "\n",
    "1 = “event” (P = p)\n",
    "\n",
    "0 = “non event” (P = 1 – p)"
   ]
  },
  {
   "cell_type": "markdown",
   "metadata": {},
   "source": [
    "# What is a Binomial Distribution?"
   ]
  },
  {
   "cell_type": "markdown",
   "metadata": {},
   "source": [
    "A binomial distribution can be thought of as simply the probability of a SUCCESS or FAILURE outcome in an experiment or survey that is repeated multiple times. The binomial is a type of distribution that has two possible outcomes (the prefix “bi” means two, or twice). For example, a coin toss has only two possible outcomes: heads or tails and taking a test could have two possible outcomes: pass or fail.\n",
    "\n",
    "![](https://www.statisticshowto.com/wp-content/uploads/2013/07/Binomial_distribution_pmf.svg_-150x150.png)\n",
    "\n",
    "The first variable in the binomial formula, n, stands for the number of times the experiment runs.\n",
    "\n",
    "The second variable, p, represents the probability of one specific outcome.\n",
    "\n",
    "For example, let’s suppose you wanted to know the probability of getting a 1 on a die roll. if you were to roll a die 20 times, the probability of rolling a one on any throw is 1/6. Roll twenty times and you have a binomial distribution of (n=20, p=1/6). SUCCESS would be “roll a one” and FAILURE would be “roll anything else.” If the outcome in question was the probability of the die landing on an even number, the binomial distribution would then become (n=20, p=1/2). That’s because your probability of throwing an even number is one half.\n",
    "\n",
    "What is a Binomial Distribution? Real Life Examples\n",
    "\n",
    "Many instances of binomial distributions can be found in real life. For example, if a new drug is introduced to cure a disease, it either cures the disease (it’s successful) or it doesn’t cure the disease (it’s a failure). If you purchase a lottery ticket, you’re either going to win money, or you aren’t. Basically, anything you can think of that can only be a success or a failure can be represented by a binomial distribution."
   ]
  },
  {
   "cell_type": "markdown",
   "metadata": {},
   "source": [
    "------------------------------------------------------------------------------------------------------------------------\n",
    "A Bernoulli random variable has two possible outcomes: 0 or 1. A binomial distribution is the sum of independent and identically distributed Bernoulli random variables.\n",
    "\n",
    "So, for example, say I have a coin, and, when tossed, the probability it lands heads is p. So the probability that it lands tails is 1−p (there are no other possible outcomes for the coin toss). If the coin lands heads, you win one dollar. If the coin lands tails, you win nothing.\n",
    "\n",
    "For a single coin toss, the probability you win one dollar is p. The random variable that represents your winnings after one coin toss is a Bernoulli random variable.\n",
    "\n",
    "Now, if you toss the coin 5 times, your winnings could be any whole number of dollars from zero dollars to five dollars, inclusive. The probability that you win five dollars is p5, because each coin toss is independent of the others, and for each coin toss the probability of heads is p.\n",
    "\n",
    "What is the probability that you win exactly three dollars in five tosses? That would require you to toss the coin five times, getting exactly three heads and two tails. This can be achieved with probability (53)p3(1−p)2. And, in general, if there are n Bernoulli trials, then the sum of those trials is binomially distributed with parameters n and p.\n",
    "\n",
    "Note that a binomial random variable with parameter n=1 is equivalent to a Bernoulli random variable, i.e. there is only one trial."
   ]
  },
  {
   "cell_type": "code",
   "execution_count": null,
   "metadata": {},
   "outputs": [],
   "source": []
  },
  {
   "cell_type": "code",
   "execution_count": null,
   "metadata": {},
   "outputs": [],
   "source": []
  }
 ],
 "metadata": {
  "kernelspec": {
   "display_name": "Python 3",
   "language": "python",
   "name": "python3"
  },
  "language_info": {
   "codemirror_mode": {
    "name": "ipython",
    "version": 3
   },
   "file_extension": ".py",
   "mimetype": "text/x-python",
   "name": "python",
   "nbconvert_exporter": "python",
   "pygments_lexer": "ipython3",
   "version": "3.8.5"
  }
 },
 "nbformat": 4,
 "nbformat_minor": 4
}
