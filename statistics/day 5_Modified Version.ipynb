{
 "cells": [
  {
   "cell_type": "markdown",
   "metadata": {},
   "source": [
    "# Difference-between-correlation-and-correlation-coefficient\n",
    "\n",
    "`correlation tells you that you are naughty or funny in your friends group, and its coefficient tells that how much more naughty or funny are u in friends group if compared to best funny friend.`\n",
    "\n",
    "https://www.quora.com/Is-there-any-difference-between-correlation-and-correlation-coefficient\n",
    "\n",
    "Correlation is a measurement of how strong are two variables linearly related.\n",
    "\n",
    "Correlation coefficient is a number between -1 and 1 that shows the result of correlation. The closer it is to 1, the stronger positive linear relationship do the two variables have. The closer it is to -1, the stronger negative linear relationship do they have. If it's close to 0, weak linear relationship is indicated.\n",
    "\n",
    "The relationship between correlation and correlation coefficient can be interpreted as that of thermometer and temperature."
   ]
  },
  {
   "cell_type": "markdown",
   "metadata": {},
   "source": [
    "# Correlation Coefficient\n",
    "\n",
    "\n",
    "\n",
    "\n",
    "\n",
    "\n",
    "[Correlation Coefficient](https://www.statisticshowto.com/probability-and-statistics/correlation-coefficient-formula/)\n",
    "\n",
    "CORRELATION is relationship between the VARIABLES X and y VARIABLES\n",
    "\n",
    "CORRELATION COEFFICIENT is denoted by r Rho\n",
    "\n",
    "CORRELATION COEFFICIENT lies BETWEEN -1 and +1\n",
    "\n",
    "CORRELATION COEFFICIENT is positive and high if r is > 0.5\n",
    "\n",
    "CORRELATION. Coefficient is negative and if r is <0.5\n",
    "\n",
    "If. r=0 RELATION SHIP OR ASSOCIATION BETWEEN 2 VARIABLES is weak\n",
    "\n",
    "Positive relationship between X and y VARIABLES indicates that an increase in X VARIABLE tends to increase in y VARIABLE\n",
    "\n",
    "Relarion ship betwee Number of pensand cost of pens\n",
    "\n",
    "Negative relationship indicates increase in X VARIABLE tending decreasing trend in Y variable\n",
    "\n",
    "If sample size is 10 Rank CORRELATION method is used to calculate CORRELATION COEFFICIENT\n",
    "\n",
    "If N> 10 Karl Pearson formula is used to calculate CORRELATION COEFFICIENT\n",
    "\n",
    "Correlation coefficient as a measure to test relation ship between X and Y VARIABLES is mostly used in pyschlogical and educational researches"
   ]
  },
  {
   "cell_type": "markdown",
   "metadata": {},
   "source": [
    "#### Definition\n",
    "\n",
    "Correlation coefficients are used to measure how strong a relationship is between two variables.\n",
    "\n",
    "There are several types of correlation coefficient, but the most popular is Pearson’s. Pearson’s correlation (also called Pearson’s R) is a correlation coefficient commonly used in linear regression"
   ]
  },
  {
   "cell_type": "markdown",
   "metadata": {},
   "source": [
    "## Correlation Coefficient Formula: Definition"
   ]
  },
  {
   "cell_type": "markdown",
   "metadata": {},
   "source": [
    "Correlation coefficient formulas are used to find how strong a relationship is between data. The formulas return a value between -1 and 1, where:\n",
    "\n",
    "1 indicates a strong positive relationship.\n",
    "\n",
    "-1 indicates a strong negative relationship.\n",
    "\n",
    "A result of zero indicates no relationship at all.\n",
    "\n",
    "![title](https://www.statisticshowto.com/wp-content/uploads/2012/10/pearson-2-small.png)\n",
    "\n",
    "Graphs showing a correlation of -1, 0 and +1"
   ]
  },
  {
   "cell_type": "markdown",
   "metadata": {},
   "source": [
    "**Meaning**\n",
    "\n",
    "A correlation coefficient of 1 means that for every positive increase in one variable, there is a positive increase of a fixed proportion in the other. For example, shoe sizes go up in (almost) perfect correlation with foot length.\n",
    "\n",
    "A correlation coefficient of -1 means that for every positive increase in one variable, there is a negative decrease of a fixed proportion in the other. For example, the amount of gas in a tank decreases in (almost) perfect correlation with speed.\n",
    "\n",
    "Zero means that for every increase, there isn’t a positive or negative increase. The two just aren’t related.\n",
    "The absolute value of the correlation coefficient gives us the relationship strength. The larger the number, the stronger the relationship. \n",
    "For example, |-.75| = .75, which has a stronger relationship than .65."
   ]
  },
  {
   "cell_type": "markdown",
   "metadata": {},
   "source": [
    "# Types of correlation coefficient formulas."
   ]
  },
  {
   "cell_type": "markdown",
   "metadata": {},
   "source": [
    "There are several types of correlation coefficient formulas.\n",
    "\n",
    "One of the most commonly used formulas is Pearson’s correlation coefficient formula. If you’re taking a basic stats class, this is the one you’ll probably use:\n",
    "\n",
    "\n",
    "**Pearson correlation coefficient formula**\n",
    "![](https://www.statisticshowto.com/wp-content/uploads/2012/10/pearson.gif)"
   ]
  },
  {
   "cell_type": "markdown",
   "metadata": {},
   "source": [
    "Two other formulas are commonly used: the sample correlation coefficient and the population correlation coefficient.\n",
    "\n",
    "Sample correlation coefficient\n",
    "\n",
    "![](https://www.statisticshowto.com/wp-content/uploads/2012/12/sample-correlation-coefficient.png)\n",
    "\n",
    "\n",
    "Sx and sy are the sample standard deviations, and sxy is the sample covariance.\n",
    "\n",
    "Population correlation coefficient\n",
    "\n",
    "![](https://www.statisticshowto.com/wp-content/uploads/2012/12/population-correlation-coefficient.png)\n",
    "The population correlation coefficient uses σx and σy as the population standard deviations, and σxy as the population covariance."
   ]
  },
  {
   "cell_type": "markdown",
   "metadata": {},
   "source": [
    "# What is Pearson Correlation?"
   ]
  },
  {
   "cell_type": "markdown",
   "metadata": {},
   "source": [
    "Correlation between sets of data is a measure of how well they are related. The most common measure of correlation in stats is the Pearson Correlation. The full name is the Pearson Product Moment Correlation (PPMC). It shows the linear relationship between two sets of data. In simple terms, it answers the question, Can I draw a line graph to represent the data? Two letters are used to represent the Pearson correlation: Greek letter rho (ρ) for a population and the letter “r” for a sample"
   ]
  },
  {
   "cell_type": "markdown",
   "metadata": {},
   "source": [
    "# Potential problems with Pearson correlation."
   ]
  },
  {
   "cell_type": "markdown",
   "metadata": {},
   "source": [
    "The PPMC is not able to tell the difference between dependent variables and independent variables. For example, if you are trying to find the correlation between a high calorie diet and diabetes, you might find a high correlation of .8. However, you could also get the same result with the variables switched around. In other words, you could say that diabetes causes a high calorie diet. That obviously makes no sense. Therefore, as a researcher you have to be aware of the data you are plugging in. In addition, the PPMC will not give you any information about the slope of the line; it only tells you whether there is a relationship.\n",
    "\n",
    "\n",
    "Real Life Example\n",
    "\n",
    "Pearson correlation is used in thousands of real life situations. For example, scientists in China wanted to know if there was a relationship between how weedy rice populations are different genetically. The goal was to find out the evolutionary potential of the rice. Pearson’s correlation between the two groups was analyzed. It showed a positive Pearson Product Moment correlation of between 0.783 and 0.895 for weedy rice populations. This figure is quite high, which suggested a fairly strong relationship.\n",
    "\n"
   ]
  },
  {
   "cell_type": "markdown",
   "metadata": {},
   "source": [
    "# How to Find Pearson’s Correlation Coefficients By Hand"
   ]
  },
  {
   "cell_type": "markdown",
   "metadata": {},
   "source": [
    "[Find real example of Pearson's Correlation](https://openi.nlm.nih.gov/gridquery?q=pearson%20correlation&it=xg)"
   ]
  },
  {
   "cell_type": "markdown",
   "metadata": {},
   "source": [
    "Example question: Find the value of the correlation coefficient from the following table:\n",
    "        \n",
    "<!-- SUBJECT\tAGE X\tGLUCOSE LEVEL Y\n",
    "            1\t43\t99\n",
    "            2\t21\t65\n",
    "            3\t25\t79\n",
    "            4\t42\t75\n",
    "            5\t57\t87\n",
    "            6\t59\t81 \n",
    "-->\n",
    "apply this:\n",
    "\n",
    "![](https://www.statisticshowto.com/wp-content/uploads/2009/11/pearsons-300x156.gif)"
   ]
  },
  {
   "cell_type": "markdown",
   "metadata": {},
   "source": [
    "<!-- Step 5: Add up all of the numbers in the columns and put the result at the bottom of the column. The Greek letter sigma (Σ) is a short way of saying “sum of” or summation.\n",
    "\n",
    "SUBJECT\tAGE X\tGLUCOSE LEVEL Y\tXY\tX2\tY2\n",
    "1\t43\t99\t4257\t1849\t9801\n",
    "2\t21\t65\t1365\t441\t4225\n",
    "3\t25\t79\t1975\t625\t6241\n",
    "4\t42\t75\t3150\t1764\t5625\n",
    "5\t57\t87\t4959\t3249\t7569\n",
    "6\t59\t81\t4779\t3481\t6561\n",
    "Σ\t247\t486\t20485\t11409\t40022 -->"
   ]
  },
  {
   "cell_type": "markdown",
   "metadata": {},
   "source": [
    "# <!-- From our table:\n",
    "\n",
    "# <!-- Σx = 247\n",
    "# Σy = 486\n",
    "# Σxy = 20,485\n",
    "# Σx2 = 11,409\n",
    "# Σy2 = 40,022\n",
    "# n is the sample size, in our case = 6\n",
    "# The correlation coefficient =\n",
    "# 6(20,485) – (247 × 486) / [√[[6(11,409) – (61009)] × [6(40,022) – 236196]]]\n",
    "# = 0.5298 \n",
    "\n",
    "![](correlation2.jpg)\n",
    "![](correlation1.jpg)"
   ]
  },
  {
   "cell_type": "markdown",
   "metadata": {},
   "source": [
    "# Spearman Rank Correlation (Spearman’s Rho): \n",
    "\n",
    "Definition and How to Calculate it\n",
    "\n",
    "The Spearman rank correlation coefficient, rs, is the nonparametric version of the Pearson correlation coefficient."
   ]
  },
  {
   "cell_type": "markdown",
   "metadata": {},
   "source": [
    "### Assumptions for Spearman’s Rank Correlation"
   ]
  },
  {
   "cell_type": "markdown",
   "metadata": {},
   "source": [
    "Your data must be ordinal, interval or ratio.\n",
    "\n",
    "**In addition, because Spearman’s measures the strength of a monotonic relationship, your data has to be monotonically related. Basically, this means that if one variable increases (or decreases), the other variable also increases (or decreases)**"
   ]
  },
  {
   "cell_type": "code",
   "execution_count": 7,
   "metadata": {},
   "outputs": [],
   "source": [
    "# Test Results\n",
    "# Spearman’s returns a value from -1 to 1, where:\n",
    "# +1 = a perfect positive correlation between ranks\n",
    "# -1 = a perfect negative correlation between ranks\n",
    "# 0 = no correlation between ranks."
   ]
  },
  {
   "cell_type": "code",
   "execution_count": null,
   "metadata": {},
   "outputs": [],
   "source": [
    "# Spearman Rank Correlation: Worked Example (No Tied Ranks)\n",
    "# The formula for the Spearman rank correlation coefficient when there are no tied ranks is:"
   ]
  },
  {
   "cell_type": "markdown",
   "metadata": {},
   "source": [
    "![](https://www.statisticshowto.com/wp-content/uploads/2015/01/rank-correlation-coefficient-formula.jpg)"
   ]
  },
  {
   "cell_type": "code",
   "execution_count": 13,
   "metadata": {},
   "outputs": [],
   "source": [
    "#### Example Question:\n",
    "# The scores for nine students in physics and math are as follows:\n",
    "\n",
    "# Physics: 35, 23, 47, 17, 10, 43, 9, 6, 28\n",
    "# Mathematics: 30, 33, 45, 23, 8, 49, 12, 4, 31\n",
    "\n",
    "# Compute the student’s ranks in the two subjects and compute the Spearman rank correlation.\n",
    "\n",
    "\n",
    "# Step 1: Find the ranks for each individual subject. I used the Excel rank function to find the ranks. \n",
    "# If you want to rank by hand, order the scores from greatest to smallest; assign the rank 1 to the highest score,\n",
    "# 2 to the next highest and so on:\n",
    "\n",
    "# Step 2: Add a third column, d, to your data. The d is the difference between ranks. \n",
    "# For example, the first student’s physics rank is 3 and math rank is 5, so the difference is 2 points. \n",
    "# In a fourth column, square your d values.\n",
    "\n",
    "# Step 3: Sum (add up) all of your d-squared values.\n",
    "# 4 + 4 + 1 + 0 + 1 + 1 + 1 + 0 + 0 = 12. You’ll need this for the formula (the Σ d2 is just “the sum of d-squared values”)."
   ]
  },
  {
   "cell_type": "markdown",
   "metadata": {},
   "source": [
    "<!-- Step 1: Find the ranks for each individual subject. I used the Excel rank function to find the ranks. If you want to rank by hand, order the scores from greatest to smallest; assign the rank 1 to the highest score, 2 to the next highest and so on: -->\n",
    "![](https://www.statisticshowto.com/wp-content/uploads/2015/01/spearman-rank-correlation-1.jpg)"
   ]
  },
  {
   "cell_type": "markdown",
   "metadata": {},
   "source": [
    "<!-- Step 2: Add a third column, d, to your data. The d is the difference between ranks. For example, the first student’s physics rank is 3 and math rank is 5, so the difference is 2 points. In a fourth column, square your d values. -->\n",
    "\n",
    "![](https://www.statisticshowto.com/wp-content/uploads/2015/01/spreaman-2-300x158.jpg)"
   ]
  },
  {
   "cell_type": "markdown",
   "metadata": {},
   "source": [
    "Step 3: Sum (add up) all of your d-squared values.\n",
    " 4 + 4 + 1 + 0 + 1 + 1 + 1 + 0 + 0 = 12. You’ll need this for the formula (the Σ d2 is just “the sum of d-squared values”).\n",
    "\n",
    "Step 5: Insert the values into the formula. These ranks are not tied, so use the first formula:\n",
    "\n",
    "![](https://www.statisticshowto.com/wp-content/uploads/2015/01/rank-correlation-coefficient-formula.jpg)"
   ]
  },
  {
   "cell_type": "code",
   "execution_count": 1,
   "metadata": {},
   "outputs": [
    {
     "data": {
      "text/plain": [
       "0.1"
      ]
     },
     "execution_count": 1,
     "metadata": {},
     "output_type": "execute_result"
    }
   ],
   "source": [
    "72/720"
   ]
  },
  {
   "cell_type": "code",
   "execution_count": 2,
   "metadata": {},
   "outputs": [
    {
     "data": {
      "text/plain": [
       "0.9"
      ]
     },
     "execution_count": 2,
     "metadata": {},
     "output_type": "execute_result"
    }
   ],
   "source": [
    "1 -0.1"
   ]
  },
  {
   "cell_type": "code",
   "execution_count": 12,
   "metadata": {},
   "outputs": [],
   "source": [
    "# = 1 – (6*12)/(9(81-1))\n",
    "# = 1 – 72/720\n",
    "# = 1-0.1\n",
    "# p = 0.9\n",
    "#The Spearman Rank Correlation for this set of data is 0.9."
   ]
  },
  {
   "cell_type": "code",
   "execution_count": null,
   "metadata": {},
   "outputs": [],
   "source": []
  }
 ],
 "metadata": {
  "kernelspec": {
   "display_name": "Python 3",
   "language": "python",
   "name": "python3"
  },
  "language_info": {
   "codemirror_mode": {
    "name": "ipython",
    "version": 3
   },
   "file_extension": ".py",
   "mimetype": "text/x-python",
   "name": "python",
   "nbconvert_exporter": "python",
   "pygments_lexer": "ipython3",
   "version": "3.8.5"
  }
 },
 "nbformat": 4,
 "nbformat_minor": 4
}
