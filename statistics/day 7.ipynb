{
 "cells": [
  {
   "cell_type": "code",
   "execution_count": null,
   "metadata": {},
   "outputs": [],
   "source": [
    "# Understanding Hypothesis testing\n",
    "# Null Hypothesis\n",
    "# Alternative Hypothesis\n",
    "# Type I and Type II error\n",
    "# T-test,Z-test , p values\n",
    "\n"
   ]
  },
  {
   "cell_type": "code",
   "execution_count": null,
   "metadata": {},
   "outputs": [],
   "source": [
    "# p-value\n",
    "\n",
    "# p =0.05 > output Null hypothesis testing doen't reject\n",
    "# p = 0.05 < output null hypothesis testing reject accept alternative testing\n",
    "# p = 0.01 < output "
   ]
  },
  {
   "cell_type": "code",
   "execution_count": 1,
   "metadata": {},
   "outputs": [],
   "source": [
    "import pandas as pd\n",
    "import numpy as np\n",
    "corona = pd.read_csv('Corona_Updated.csv')\n",
    "corona['Temp_Cat'] = corona['Temprature'].apply(lambda x : 0 if x < 24 else 1)\n",
    "corona_t = corona[['Confirmed', 'Temp_Cat']]"
   ]
  },
  {
   "cell_type": "code",
   "execution_count": 2,
   "metadata": {},
   "outputs": [],
   "source": [
    "def TwoSampZ(X1, X2, sigma1, sigma2, N1, N2):\n",
    "    from numpy import sqrt, abs, round\n",
    "    from scipy.stats import norm\n",
    "    ovr_sigma = sqrt(sigma1**2/N1 + sigma2**2/N2)\n",
    "    z = (X1 - X2)/ovr_sigma\n",
    "    pval = 2*(1 - norm.cdf(abs(z)))\n",
    "    return z, pval"
   ]
  },
  {
   "cell_type": "code",
   "execution_count": 3,
   "metadata": {},
   "outputs": [
    {
     "name": "stdout",
     "output_type": "stream",
     "text": [
      "0.102054\n",
      "Do not reject Null Hypothesis : Not Significant\n"
     ]
    }
   ],
   "source": [
    "d1 = corona_t[(corona_t['Temp_Cat']==1)]['Confirmed']\n",
    "d2 = corona_t[(corona_t['Temp_Cat']==0)]['Confirmed']\n",
    "\n",
    "m1, m2 = d1.mean(), d2.mean()\n",
    "sd1, sd2 = d1.std(), d2.std()\n",
    "n1, n2 = d1.shape[0], d2.shape[0]\n",
    "\n",
    "z, p = TwoSampZ(m1, m2, sd1, sd2, n1, n2)\n",
    "\n",
    "z_score = np.round(z,8)\n",
    "p_val = np.round(p,6)\n",
    "\n",
    "if (p_val<0.05):\n",
    "    Hypothesis_Status = 'Reject Null Hypothesis : Significant'\n",
    "else:\n",
    "    Hypothesis_Status = 'Do not reject Null Hypothesis : Not Significant'\n",
    "\n",
    "print (p_val)\n",
    "print (Hypothesis_Status)"
   ]
  },
  {
   "cell_type": "code",
   "execution_count": null,
   "metadata": {},
   "outputs": [],
   "source": []
  }
 ],
 "metadata": {
  "kernelspec": {
   "display_name": "Python 3 (ipykernel)",
   "language": "python",
   "name": "python3"
  },
  "language_info": {
   "codemirror_mode": {
    "name": "ipython",
    "version": 3
   },
   "file_extension": ".py",
   "mimetype": "text/x-python",
   "name": "python",
   "nbconvert_exporter": "python",
   "pygments_lexer": "ipython3",
   "version": "3.8.2"
  }
 },
 "nbformat": 4,
 "nbformat_minor": 4
}
