{
 "cells": [
  {
   "cell_type": "code",
   "execution_count": null,
   "metadata": {},
   "outputs": [],
   "source": [
    "# what is statistics?\n",
    "# Type of statistics?\n",
    "# Measure of central tendency?\n",
    "# mean\n",
    "# median\n",
    "# mode\n",
    "# Meanure of dispersion?\n",
    "# range\n",
    "# variance\n",
    "# standard deviation"
   ]
  },
  {
   "cell_type": "markdown",
   "metadata": {},
   "source": [
    "`statistics` is branch of science which helps to understand the analysing, summarising, collecting the data, \n",
    "for making the decision."
   ]
  },
  {
   "cell_type": "code",
   "execution_count": null,
   "metadata": {},
   "outputs": [],
   "source": [
    "# Type of statistics?\n",
    "# - descriptive\n",
    "#     we use this(descriptive statistics) to analze and summrization of the data, based on numeric and graphial way.\n",
    "#     - pie chart, bar chart, scatter chart, histogram and others\n",
    "#     - frequncy table\n",
    "#     - pivot table \n",
    "    \n",
    "# - inferential\n",
    "#  to make a decison based of some sample of data, eg exit poll, blood group identify etc\n",
    "#     Z-test, hyposthesis  testing, t-test chi square testing , p value etc..\n",
    "    \n"
   ]
  },
  {
   "cell_type": "code",
   "execution_count": null,
   "metadata": {},
   "outputs": [],
   "source": [
    "# Measure of central tendency?\n",
    "# mean\n",
    "# median\n",
    "# mode"
   ]
  },
  {
   "cell_type": "markdown",
   "metadata": {},
   "source": [
    "# Mean"
   ]
  },
  {
   "cell_type": "code",
   "execution_count": 3,
   "metadata": {},
   "outputs": [
    {
     "data": {
      "text/plain": [
       "4.0"
      ]
     },
     "execution_count": 3,
     "metadata": {},
     "output_type": "execute_result"
    }
   ],
   "source": [
    "# mean  addition of total value/ tottal number of sample value\n",
    "\n",
    "# Or\n",
    "# Mean  sum of total number of records/ total count\n",
    "\n",
    "name=  [3,5,6,5,1]\n",
    "name= 3+5+6+5+1\n",
    "name = name/ 5\n",
    "name"
   ]
  },
  {
   "cell_type": "code",
   "execution_count": 1,
   "metadata": {},
   "outputs": [],
   "source": [
    "import numpy as np\n",
    "import statistics as s"
   ]
  },
  {
   "cell_type": "code",
   "execution_count": 2,
   "metadata": {},
   "outputs": [],
   "source": [
    "data=  [22,21,23,24]"
   ]
  },
  {
   "cell_type": "code",
   "execution_count": 4,
   "metadata": {},
   "outputs": [
    {
     "data": {
      "text/plain": [
       "22.5"
      ]
     },
     "execution_count": 4,
     "metadata": {},
     "output_type": "execute_result"
    }
   ],
   "source": [
    "np.mean(data)"
   ]
  },
  {
   "cell_type": "code",
   "execution_count": 5,
   "metadata": {},
   "outputs": [
    {
     "data": {
      "text/plain": [
       "22.5"
      ]
     },
     "execution_count": 5,
     "metadata": {},
     "output_type": "execute_result"
    }
   ],
   "source": [
    "s.mean(data)"
   ]
  },
  {
   "cell_type": "markdown",
   "metadata": {},
   "source": [
    "## Median"
   ]
  },
  {
   "cell_type": "code",
   "execution_count": 9,
   "metadata": {},
   "outputs": [
    {
     "data": {
      "text/plain": [
       "4.0"
      ]
     },
     "execution_count": 9,
     "metadata": {},
     "output_type": "execute_result"
    }
   ],
   "source": [
    "# mean  addition of total value/ tottal number of sample value\n",
    "\n",
    "# 14,15,17,19,27,38,54\n",
    "\n",
    "#odd = 7 \n",
    "# N+1 /2\n",
    "\n",
    "#Even\n",
    "#N/2 +1\n",
    "\n",
    "#formula\n",
    "# n + 1 / 2\n",
    "value = 7 + 1\n",
    "value = 8 / 2\n",
    "value"
   ]
  },
  {
   "cell_type": "code",
   "execution_count": 6,
   "metadata": {},
   "outputs": [
    {
     "data": {
      "text/plain": [
       "19.0"
      ]
     },
     "execution_count": 6,
     "metadata": {},
     "output_type": "execute_result"
    }
   ],
   "source": [
    "data2 = [14,15,17,19,27,38,54]\n",
    "np.median(data2)"
   ]
  },
  {
   "cell_type": "code",
   "execution_count": 8,
   "metadata": {},
   "outputs": [
    {
     "data": {
      "text/plain": [
       "19"
      ]
     },
     "execution_count": 8,
     "metadata": {},
     "output_type": "execute_result"
    }
   ],
   "source": [
    "s.median(data2)"
   ]
  },
  {
   "cell_type": "code",
   "execution_count": 12,
   "metadata": {},
   "outputs": [
    {
     "data": {
      "text/plain": [
       "4.5"
      ]
     },
     "execution_count": 12,
     "metadata": {},
     "output_type": "execute_result"
    }
   ],
   "source": [
    "# 14,15,17,19,27,38,54,84\n",
    "#formula\n",
    "#n + 1 / 2\n",
    "value = 8 + 1\n",
    "value =9 / 2\n",
    "value"
   ]
  },
  {
   "cell_type": "code",
   "execution_count": 15,
   "metadata": {},
   "outputs": [
    {
     "data": {
      "text/plain": [
       "46"
      ]
     },
     "execution_count": 15,
     "metadata": {},
     "output_type": "execute_result"
    }
   ],
   "source": [
    "19+27"
   ]
  },
  {
   "cell_type": "code",
   "execution_count": 16,
   "metadata": {},
   "outputs": [
    {
     "data": {
      "text/plain": [
       "23.0"
      ]
     },
     "execution_count": 16,
     "metadata": {},
     "output_type": "execute_result"
    }
   ],
   "source": [
    "46/2"
   ]
  },
  {
   "cell_type": "code",
   "execution_count": 14,
   "metadata": {},
   "outputs": [
    {
     "data": {
      "text/plain": [
       "23.0"
      ]
     },
     "execution_count": 14,
     "metadata": {},
     "output_type": "execute_result"
    }
   ],
   "source": [
    "data2 = [14,15,17,19,27,38,54,84]\n",
    "np.median(data2)"
   ]
  },
  {
   "cell_type": "code",
   "execution_count": 18,
   "metadata": {},
   "outputs": [
    {
     "data": {
      "text/plain": [
       "23.0"
      ]
     },
     "execution_count": 18,
     "metadata": {},
     "output_type": "execute_result"
    }
   ],
   "source": [
    "s.median(data2)"
   ]
  },
  {
   "cell_type": "markdown",
   "metadata": {},
   "source": [
    "## Mode"
   ]
  },
  {
   "cell_type": "code",
   "execution_count": null,
   "metadata": {},
   "outputs": [],
   "source": [
    "#2,3,56,7,8,8,9,9,9\n",
    "9"
   ]
  },
  {
   "cell_type": "code",
   "execution_count": 9,
   "metadata": {},
   "outputs": [
    {
     "data": {
      "text/plain": [
       "9"
      ]
     },
     "execution_count": 9,
     "metadata": {},
     "output_type": "execute_result"
    }
   ],
   "source": [
    "data3 = [2,3,56,7,8,8,9,9,9]\n",
    "s.mode(data3)"
   ]
  },
  {
   "cell_type": "code",
   "execution_count": 26,
   "metadata": {},
   "outputs": [
    {
     "data": {
      "text/plain": [
       "[8, 9]"
      ]
     },
     "execution_count": 26,
     "metadata": {},
     "output_type": "execute_result"
    }
   ],
   "source": [
    "data4 = [2,3,56,7,8,8,8,9,9,9]\n",
    "s.multimode(data4)"
   ]
  },
  {
   "cell_type": "code",
   "execution_count": 27,
   "metadata": {},
   "outputs": [
    {
     "data": {
      "text/plain": [
       "8"
      ]
     },
     "execution_count": 27,
     "metadata": {},
     "output_type": "execute_result"
    }
   ],
   "source": [
    "s.mode(data4)"
   ]
  },
  {
   "cell_type": "markdown",
   "metadata": {},
   "source": [
    "### Measure of dispersion"
   ]
  },
  {
   "cell_type": "markdown",
   "metadata": {},
   "source": [
    "### Variance"
   ]
  },
  {
   "cell_type": "markdown",
   "metadata": {},
   "source": [
    "![title](data:image/jpeg;base64,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)"
   ]
  },
  {
   "cell_type": "code",
   "execution_count": 2,
   "metadata": {},
   "outputs": [
    {
     "data": {
      "text/plain": [
       "8.0"
      ]
     },
     "execution_count": 2,
     "metadata": {},
     "output_type": "execute_result"
    }
   ],
   "source": [
    "data6 = [6,7,8,9,10]\n",
    "np.mean(data6)"
   ]
  },
  {
   "cell_type": "markdown",
   "metadata": {},
   "source": [
    "![title](data:image/png;base64,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)"
   ]
  },
  {
   "cell_type": "code",
   "execution_count": 8,
   "metadata": {},
   "outputs": [
    {
     "data": {
      "text/plain": [
       "2.5"
      ]
     },
     "execution_count": 8,
     "metadata": {},
     "output_type": "execute_result"
    }
   ],
   "source": [
    "# 10 /n-1\n",
    "# 10/5 -1\n",
    "10/4"
   ]
  },
  {
   "cell_type": "code",
   "execution_count": null,
   "metadata": {},
   "outputs": [],
   "source": [
    "10 /5"
   ]
  },
  {
   "cell_type": "code",
   "execution_count": 9,
   "metadata": {},
   "outputs": [],
   "source": [
    "# variance value  =2.5"
   ]
  },
  {
   "cell_type": "code",
   "execution_count": 10,
   "metadata": {},
   "outputs": [],
   "source": [
    "import numpy as np\n",
    "import statistics as s"
   ]
  },
  {
   "cell_type": "code",
   "execution_count": 12,
   "metadata": {},
   "outputs": [
    {
     "data": {
      "text/plain": [
       "2.5"
      ]
     },
     "execution_count": 12,
     "metadata": {},
     "output_type": "execute_result"
    }
   ],
   "source": [
    "# statistics calculate based on sample(n-1)\n",
    "data6 = [6,7,8,9,10] \n",
    "s.variance(data6) ## sample mean"
   ]
  },
  {
   "cell_type": "code",
   "execution_count": 13,
   "metadata": {},
   "outputs": [
    {
     "data": {
      "text/plain": [
       "2.0"
      ]
     },
     "execution_count": 13,
     "metadata": {},
     "output_type": "execute_result"
    }
   ],
   "source": [
    "# numpy calulate based on Poplualtion(N)\n",
    "data6 = [6,7,8,9,10]\n",
    "np.var(data6)  "
   ]
  },
  {
   "cell_type": "markdown",
   "metadata": {},
   "source": [
    "## standard  deviation"
   ]
  },
  {
   "cell_type": "markdown",
   "metadata": {},
   "source": [
    "![titlwe](https://vitalflux.com/wp-content/uploads/2020/08/Screenshot-2020-08-03-at-1.27.34-PM.png)"
   ]
  },
  {
   "cell_type": "code",
   "execution_count": 16,
   "metadata": {},
   "outputs": [
    {
     "data": {
      "text/plain": [
       "1.4142135623730951"
      ]
     },
     "execution_count": 16,
     "metadata": {},
     "output_type": "execute_result"
    }
   ],
   "source": [
    "# numpy calculate \n",
    "data7 = [6,7,8,9,10]\n",
    "np.std(data7)  ## N (population based output)"
   ]
  },
  {
   "cell_type": "code",
   "execution_count": 15,
   "metadata": {},
   "outputs": [
    {
     "data": {
      "text/plain": [
       "1.5811388300841898"
      ]
     },
     "execution_count": 15,
     "metadata": {},
     "output_type": "execute_result"
    }
   ],
   "source": [
    "# statistics calcuate \n",
    "data7 = [6,7,8,9,10]\n",
    "s.stdev(data7)   ### n-1  (sample based output)"
   ]
  },
  {
   "cell_type": "markdown",
   "metadata": {},
   "source": [
    "### Range"
   ]
  },
  {
   "cell_type": "markdown",
   "metadata": {},
   "source": [
    "![titlw](https://encrypted-tbn0.gstatic.com/images?q=tbn:ANd9GcQbnNH3964EvYHpguwSWPgEWpB8bFQFg0AMhg&usqp=CAU)"
   ]
  },
  {
   "cell_type": "code",
   "execution_count": 47,
   "metadata": {},
   "outputs": [],
   "source": [
    "# data8 = [14,19,20,24,25,28]\n",
    "# #range = higest value -lowest value\n",
    "# range = 28- 14 =14"
   ]
  },
  {
   "cell_type": "code",
   "execution_count": 17,
   "metadata": {},
   "outputs": [
    {
     "data": {
      "text/plain": [
       "14"
      ]
     },
     "execution_count": 17,
     "metadata": {},
     "output_type": "execute_result"
    }
   ],
   "source": [
    "data8 = [14,19,20,24,25,28]\n",
    "range_value = max(data8) - min(data8)\n",
    "range_value"
   ]
  },
  {
   "cell_type": "code",
   "execution_count": null,
   "metadata": {},
   "outputs": [],
   "source": []
  }
 ],
 "metadata": {
  "kernelspec": {
   "display_name": "Python 3 (ipykernel)",
   "language": "python",
   "name": "python3"
  },
  "language_info": {
   "codemirror_mode": {
    "name": "ipython",
    "version": 3
   },
   "file_extension": ".py",
   "mimetype": "text/x-python",
   "name": "python",
   "nbconvert_exporter": "python",
   "pygments_lexer": "ipython3",
   "version": "3.8.2"
  }
 },
 "nbformat": 4,
 "nbformat_minor": 4
}
