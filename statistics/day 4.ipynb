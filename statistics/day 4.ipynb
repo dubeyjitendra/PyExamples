{
 "cells": [
  {
   "cell_type": "code",
   "execution_count": null,
   "metadata": {},
   "outputs": [],
   "source": [
    "# Skewness of Data\n",
    "# Variance and covariance Covariance\n",
    "# Importance of Correlation"
   ]
  },
  {
   "cell_type": "markdown",
   "metadata": {},
   "source": [
    "### Variance and covariance\n",
    "\n",
    "Variance and covariance are mathematical terms frequently used in statistics and probability theory. Variance refers to the spread of a data set around its mean value, while a covariance refers to the measure of the directional relationship between two random variables."
   ]
  },
  {
   "cell_type": "code",
   "execution_count": 1,
   "metadata": {},
   "outputs": [],
   "source": [
    "import matplotlib.pyplot as plt\n",
    "import numpy as np\n",
    "%matplotlib inline"
   ]
  },
  {
   "cell_type": "code",
   "execution_count": 2,
   "metadata": {},
   "outputs": [
    {
     "data": {
      "text/plain": [
       "array([ 0.10445388, -0.07155566, -0.01099477, -0.05495354, -0.08445866,\n",
       "       -0.07741559,  0.0699062 ,  0.14933606, -0.0628933 ,  0.1062757 ,\n",
       "       -0.08324528, -0.02701744,  0.0386804 , -0.01168019,  0.06169784,\n",
       "       -0.01566541,  0.11896428,  0.0387804 ,  0.02146459,  0.26420871,\n",
       "       -0.10554117,  0.04336915,  0.14717166,  0.12516181, -0.12110026,\n",
       "       -0.13501344,  0.13261364, -0.12573338, -0.01148169, -0.12641587,\n",
       "        0.23761528, -0.03431446,  0.06642502, -0.08547196,  0.063777  ,\n",
       "       -0.20750225, -0.15343553, -0.18329218, -0.00446824,  0.1277646 ,\n",
       "        0.05294281, -0.09647009, -0.02951109, -0.00965138,  0.05749726,\n",
       "        0.01650833, -0.1546478 ,  0.02782192,  0.07625284,  0.00889735,\n",
       "        0.03220344, -0.03364641,  0.12777977,  0.13055026, -0.02020841,\n",
       "        0.00178298,  0.13511912, -0.08711943, -0.19076448, -0.02796916,\n",
       "        0.0558389 ,  0.04992433, -0.04619717, -0.1808763 , -0.14455176,\n",
       "        0.05546417, -0.11111022, -0.14122039,  0.08172001,  0.07981716,\n",
       "       -0.00495029,  0.03544271,  0.0535653 , -0.07154682,  0.02864605,\n",
       "        0.01637124, -0.07655703, -0.04090772, -0.08340633,  0.01013403,\n",
       "        0.04733215,  0.12682752, -0.11941883, -0.05127196, -0.01580665,\n",
       "        0.08321275, -0.0196798 ,  0.0375283 ,  0.02875271, -0.01340653,\n",
       "       -0.14105316, -0.24679736, -0.0918267 ,  0.04738121, -0.06360506,\n",
       "       -0.09051547,  0.07629535,  0.04280226, -0.10640579,  0.00951723])"
      ]
     },
     "execution_count": 2,
     "metadata": {},
     "output_type": "execute_result"
    }
   ],
   "source": [
    "mu, sigma = 0, 0.1 # mean and standard deviation \n",
    "s = np.random.normal(mu, sigma, 100)\n",
    "s"
   ]
  },
  {
   "cell_type": "code",
   "execution_count": 13,
   "metadata": {},
   "outputs": [
    {
     "data": {
      "text/plain": [
       "array([[<AxesSubplot:title={'center':'0'}>]], dtype=object)"
      ]
     },
     "execution_count": 13,
     "metadata": {},
     "output_type": "execute_result"
    },
    {
     "data": {
      "image/png": "[encoded data removed]",
      "text/plain": [
       "<Figure size 432x288 with 1 Axes>"
      ]
     },
     "metadata": {
      "needs_background": "light"
     },
     "output_type": "display_data"
    }
   ],
   "source": [
    "s1 =[23,7,12,45,56,23,78,21,34,23,23,12,45,5,6,65,3]\n",
    "import pandas as pd\n",
    "df = pd.DataFrame(s1)\n",
    "df.hist()\n"
   ]
  },
  {
   "cell_type": "code",
   "execution_count": 9,
   "metadata": {},
   "outputs": [
    {
     "data": {
      "image/png": "[encoded data removed]",
      "text/plain": [
       "<Figure size 432x288 with 1 Axes>"
      ]
     },
     "metadata": {
      "needs_background": "light"
     },
     "output_type": "display_data"
    }
   ],
   "source": [
    "count, bins, ignored = plt.hist(s, 30, density=True)\n",
    "plt.scatter(bins, 1/(sigma * np.sqrt(2 * np.pi)) * np.exp( - (bins - mu)**2 / (2 * sigma**2) ),linewidth=4, color='r')\n",
    "plt.show()"
   ]
  },
  {
   "cell_type": "markdown",
   "metadata": {},
   "source": [
    "# Skewness"
   ]
  },
  {
   "cell_type": "markdown",
   "metadata": {},
   "source": [
    "If the values of a specific independent variable (feature) are skewed, depending on the model, skewness may violate model assumptions or may reduce the interpretation of feature importance.\n",
    "\n",
    "![title](https://www.gstatic.com/education/formulas2/397133473/en/skewness.svg)"
   ]
  },
  {
   "cell_type": "markdown",
   "metadata": {},
   "source": [
    "“Skewness essentially measures the symmetry of the distribution, while kurtosis determines the heaviness of the distribution tails.”\n",
    "\n",
    "The understanding shape of data is a crucial action. It helps to understand where the most information is lying and analyze the outliers in a given data. In this article, we’ll learn about the shape of data, the importance of skewness, and kurtosis. The types of skewness and kurtosis and Analyze the shape of data in the given dataset."
   ]
  },
  {
   "cell_type": "code",
   "execution_count": null,
   "metadata": {},
   "outputs": [],
   "source": [
    "# N = number of variables in the distribution\n",
    "# Xi= random variable\n",
    "# barX = mean of the distribution\n",
    "# sigma\t= standard deviation\n",
    "# mu (mu3)= skewness"
   ]
  },
  {
   "cell_type": "markdown",
   "metadata": {},
   "source": [
    "![title](https://editor.analyticsvidhya.com/uploads/96971skw1.png)"
   ]
  },
  {
   "cell_type": "markdown",
   "metadata": {},
   "source": [
    "When data is symmetrically distributed, the left-hand side, and right-hand side, contain the same number of observations. (If the dataset has 90 values, then the left-hand side has 45 observations, and the right-hand side has 45 observations.). But, what if not symmetrical distributed? That data is called asymmetrical data, and that time skewness\n",
    "\n",
    "comes into the picture."
   ]
  },
  {
   "cell_type": "markdown",
   "metadata": {},
   "source": [
    "# Types of skewness \n",
    "    \n",
    "    \n",
    "- 1. Positive skewed or right-skewed  \n",
    "    \n",
    "    In statistics, a positively skewed distribution is a sort of distribution where, unlike symmetrically distributed data where all measures of the central tendency (mean, median, and mode) equal each other, with positively skewed data, the measures are dispersing, which means Positively Skewed Distribution is a type of distribution where the mean, median, and mode of the distribution are positive rather than negative or zero.\n",
    "    \n",
    " ![](https://editor.analyticsvidhya.com/uploads/64710new_positive.png)"
   ]
  },
  {
   "cell_type": "markdown",
   "metadata": {},
   "source": [
    "2. Negative skewed or left-skewed"
   ]
  },
  {
   "cell_type": "markdown",
   "metadata": {},
   "source": [
    "![](https://editor.analyticsvidhya.com/uploads/36018new_negative.png)"
   ]
  },
  {
   "cell_type": "markdown",
   "metadata": {},
   "source": [
    "# Covariance"
   ]
  },
  {
   "cell_type": "markdown",
   "metadata": {},
   "source": [
    "Covariance is a statistical tool that is used to determine the relationship between the movement of two asset prices. When two stocks tend to move together, they are seen as having a positive covariance; when they move inversely, the covariance is negative.\n",
    "\n",
    "![](https://i.investopedia.com/dimages/graphics/covariance.jpg)"
   ]
  },
  {
   "cell_type": "markdown",
   "metadata": {},
   "source": [
    "![](https://cdn.educba.com/academy/wp-content/uploads/2019/05/Covariance-Formula.jpg)\n",
    "\n",
    "![](https://slideplayer.com/slide/780314/3/images/26/Variance+vs.+Covariance.jpg)"
   ]
  },
  {
   "cell_type": "markdown",
   "metadata": {},
   "source": [
    "Covariance and Correlation are two mathematical concepts which are quite commonly used in statistics. Both of these two determine the relationship and measures the dependency between two random variables. Despite, some similarities between these two mathematical terms, they are different from each other. Correlation is when the change in one item may result in the change in the another item. On the other hand, covariance is when two items vary together. Read the given article to know the differences between covariance and correlation.\n",
    "\n",
    "\n",
    "Key Differences Between Covariance and Correlation\n",
    "The following points are noteworthy so far as the difference between covariance and correlation is concerned:\n",
    "\n",
    "A measure used to indicate the extent to which two random variables change in tandem is known as covariance. A measure used to represent how strongly two random variables are related known as correlation.\n",
    "\n",
    "Covariance is nothing but a measure of correlation. On the contrary, correlation refers to the scaled form of covariance.\n",
    "The value of correlation takes place between -1 and +1. Conversely, the value of covariance lies between -∞ and +∞.\n",
    "\n",
    "Covariance is affected by the change in scale, i.e. if all the value of one variable is multiplied by a constant and all the value of another variable are multiplied, by a similar or different constant, then the covariance is changed. As against this, correlation is not influenced by the change in scale.\n",
    "\n",
    "Correlation is dimensionless, i.e. it is a unit-free measure of the relationship between variables. Unlike covariance, where the value is obtained by the product of the units of the two variables.\n"
   ]
  },
  {
   "cell_type": "markdown",
   "metadata": {},
   "source": [
    "importance of correlation\n",
    "\n",
    "(i) Correlation helps us in determining the degree of relationship between variables. It enables us to make our decision for the future course of actions. \n",
    "\n",
    "(ii) Correlation analysis helps us in understanding the nature and degree of relationship which can be used for future planning and forecasting."
   ]
  },
  {
   "cell_type": "markdown",
   "metadata": {},
   "source": [
    "Correlation"
   ]
  },
  {
   "cell_type": "markdown",
   "metadata": {},
   "source": [
    "\n",
    "[check this video link] (https://www.youtube.com/watch?v=sU8RsIsZ6Dg)\n",
    "\n",
    "![](data:image/png;base64,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)"
   ]
  },
  {
   "cell_type": "markdown",
   "metadata": {},
   "source": [
    "Covariance gives u direction only\n",
    "\n",
    "Correlation gives you direction and strength\n",
    "\n",
    "Covariance is give you measure of units like kg,mg etc\n",
    "\n",
    "Correlation is not give you units of meansure like kg,mg etc\n",
    "\n",
    "Correlation is range -1 to +1\n",
    "\n",
    "-1 is strong negative\n",
    "\n",
    "+1 is strong positive"
   ]
  },
  {
   "cell_type": "code",
   "execution_count": null,
   "metadata": {},
   "outputs": [],
   "source": []
  }
 ],
 "metadata": {
  "kernelspec": {
   "display_name": "Python 3 (ipykernel)",
   "language": "python",
   "name": "python3"
  },
  "language_info": {
   "codemirror_mode": {
    "name": "ipython",
    "version": 3
   },
   "file_extension": ".py",
   "mimetype": "text/x-python",
   "name": "python",
   "nbconvert_exporter": "python",
   "pygments_lexer": "ipython3",
   "version": "3.8.2"
  }
 },
 "nbformat": 4,
 "nbformat_minor": 4
}
