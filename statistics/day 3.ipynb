{
 "cells": [
  {
   "cell_type": "code",
   "execution_count": null,
   "metadata": {},
   "outputs": [],
   "source": [
    "# Gaussian/Normal Distribution\n",
    "# Percentiles and quantiles \n",
    "# IQR\n",
    "# Frequency table, frequency distribution and cumulative distribution"
   ]
  },
  {
   "cell_type": "markdown",
   "metadata": {},
   "source": [
    "# Gaussian/Normal Distribution\n",
    "\n",
    "![title](https://miro.medium.com/max/1400/1*IdGgdrY_n_9_YfkaCh-dag.png)"
   ]
  },
  {
   "cell_type": "markdown",
   "metadata": {},
   "source": [
    "## Empirical Rule"
   ]
  },
  {
   "cell_type": "code",
   "execution_count": null,
   "metadata": {},
   "outputs": [],
   "source": [
    "# Rule1 - Pr[mu-sigma <=x <=mu+sigma] ~ 68%\n",
    "# Rule2 - Pr[mu-2sigma <=x <=mu+2sigma] ~ 95%\n",
    "# Rule3 - Pr[mu-3sigma <=x <=mu+3sigma] ~ 99.7%"
   ]
  },
  {
   "cell_type": "markdown",
   "metadata": {},
   "source": [
    "## Percentiles"
   ]
  },
  {
   "cell_type": "code",
   "execution_count": null,
   "metadata": {},
   "outputs": [],
   "source": [
    "# Percentiles and quantiles"
   ]
  },
  {
   "cell_type": "code",
   "execution_count": 1,
   "metadata": {},
   "outputs": [
    {
     "data": {
      "text/plain": [
       "[1, 2, 3, 4, 5, 6, 7, 8, 9, 10]"
      ]
     },
     "execution_count": 1,
     "metadata": {},
     "output_type": "execute_result"
    }
   ],
   "source": [
    "data =[10,2,3,4,9,6,7,8,5,1]\n",
    "# step 1 sort to ascending order\n",
    "data.sort()\n",
    "data"
   ]
  },
  {
   "cell_type": "code",
   "execution_count": 4,
   "metadata": {},
   "outputs": [
    {
     "data": {
      "text/plain": [
       "80.0"
      ]
     },
     "execution_count": 4,
     "metadata": {},
     "output_type": "execute_result"
    }
   ],
   "source": [
    "data = [1, 2, 3, 4, 5, 6, 7, 8, 9, 10]\n",
    "## assume 5 \n",
    "#                 number of value of X \n",
    "#      percentile =-------------------   * 100\n",
    "#                 total of observations values \n",
    "\n",
    "data = 8 /10\n",
    "data * 100 #(percentile)\n"
   ]
  },
  {
   "cell_type": "code",
   "execution_count": 6,
   "metadata": {},
   "outputs": [
    {
     "data": {
      "text/plain": [
       "90.0"
      ]
     },
     "execution_count": 6,
     "metadata": {},
     "output_type": "execute_result"
    }
   ],
   "source": [
    "data = 9 /10\n",
    "data * 100 "
   ]
  },
  {
   "cell_type": "markdown",
   "metadata": {},
   "source": [
    "### Quantiles & IQR  (Q1 and Q2 and Q3)\n",
    "\n",
    "[check this link](https://www.statisticshowto.com/probability-and-statistics/statistics-definitions/what-are-quartiles/)"
   ]
  },
  {
   "cell_type": "code",
   "execution_count": 1,
   "metadata": {},
   "outputs": [],
   "source": [
    "#we are distribuate data in 4 parts\n",
    "data = [2,7,6,8,14,7,8]\n",
    "data.sort() ## set ascending order"
   ]
  },
  {
   "cell_type": "code",
   "execution_count": 3,
   "metadata": {},
   "outputs": [
    {
     "data": {
      "text/plain": [
       "[2, 6, 7, 7, 8, 8, 14]"
      ]
     },
     "execution_count": 3,
     "metadata": {},
     "output_type": "execute_result"
    }
   ],
   "source": [
    "data"
   ]
  },
  {
   "cell_type": "markdown",
   "metadata": {},
   "source": [
    "![](data:image/png;base64,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)"
   ]
  },
  {
   "cell_type": "markdown",
   "metadata": {},
   "source": [
    "Box Plot example Of Quartile============================\n",
    "\n",
    "![](https://www.simplypsychology.org/boxplot.jpg?ezimgfmt=rs:382x196/rscb30/ng:webp/ngcb30)"
   ]
  },
  {
   "cell_type": "code",
   "execution_count": 4,
   "metadata": {},
   "outputs": [],
   "source": [
    "data =[2, 6, 7, 7, 8, 8, 14] \n",
    "\n",
    "Q1 = 1 / 4 * (7 + 1)\n",
    "\n",
    "Q1 = 8/4\n",
    "#Q1 = 2 of index value is = 6\n",
    "Q1 = 6 "
   ]
  },
  {
   "cell_type": "code",
   "execution_count": null,
   "metadata": {},
   "outputs": [],
   "source": [
    "Q2 = 8/2 = 4 th of index =  7\n",
    "Q3 = 24 /4 = 6 th of index = 8"
   ]
  },
  {
   "cell_type": "code",
   "execution_count": 12,
   "metadata": {},
   "outputs": [
    {
     "data": {
      "text/plain": [
       "2"
      ]
     },
     "execution_count": 12,
     "metadata": {},
     "output_type": "execute_result"
    }
   ],
   "source": [
    "#IQR = Q3-Q1\n",
    "IQR = 8 - 6\n",
    "IQR"
   ]
  },
  {
   "cell_type": "markdown",
   "metadata": {},
   "source": [
    "# Examples  2"
   ]
  },
  {
   "cell_type": "code",
   "execution_count": 5,
   "metadata": {},
   "outputs": [],
   "source": [
    "data2= [1, 2, 5, 6, 7, 9, 12, 15, 18, 19]\n",
    "data2.sort()"
   ]
  },
  {
   "cell_type": "code",
   "execution_count": 6,
   "metadata": {},
   "outputs": [
    {
     "data": {
      "text/plain": [
       "[1, 2, 5, 6, 7, 9, 12, 15, 18, 19]"
      ]
     },
     "execution_count": 6,
     "metadata": {},
     "output_type": "execute_result"
    }
   ],
   "source": [
    "data2"
   ]
  },
  {
   "cell_type": "code",
   "execution_count": 7,
   "metadata": {},
   "outputs": [],
   "source": [
    "data2 = [1, 2, 5, 6, 7, 9, 12, 15, 18, 19]"
   ]
  },
  {
   "cell_type": "code",
   "execution_count": 8,
   "metadata": {},
   "outputs": [],
   "source": [
    "Q1 = 1 / 4 * (10 + 1)"
   ]
  },
  {
   "cell_type": "code",
   "execution_count": 9,
   "metadata": {},
   "outputs": [
    {
     "data": {
      "text/plain": [
       "2.75"
      ]
     },
     "execution_count": 9,
     "metadata": {},
     "output_type": "execute_result"
    }
   ],
   "source": [
    "Q1"
   ]
  },
  {
   "cell_type": "code",
   "execution_count": null,
   "metadata": {},
   "outputs": [],
   "source": [
    "q1 = 2.75 # Index() is the value is 5 "
   ]
  },
  {
   "cell_type": "code",
   "execution_count": 10,
   "metadata": {},
   "outputs": [],
   "source": [
    "Q3 = 3 /4 * (10 + 1)"
   ]
  },
  {
   "cell_type": "code",
   "execution_count": 12,
   "metadata": {},
   "outputs": [
    {
     "data": {
      "text/plain": [
       "8.25"
      ]
     },
     "execution_count": 12,
     "metadata": {},
     "output_type": "execute_result"
    }
   ],
   "source": [
    "Q3  # index 8.25 index is 9 anvalue will be 18 "
   ]
  },
  {
   "cell_type": "code",
   "execution_count": null,
   "metadata": {},
   "outputs": [],
   "source": [
    "Q2 = Q3 - Q1 #(Index)"
   ]
  },
  {
   "cell_type": "code",
   "execution_count": 15,
   "metadata": {},
   "outputs": [],
   "source": [
    "Q2  = 8.25 - 2.75 # finding the index values"
   ]
  },
  {
   "cell_type": "code",
   "execution_count": 16,
   "metadata": {},
   "outputs": [
    {
     "data": {
      "text/plain": [
       "5.5"
      ]
     },
     "execution_count": 16,
     "metadata": {},
     "output_type": "execute_result"
    }
   ],
   "source": [
    "Q2  # 6 index values"
   ]
  },
  {
   "cell_type": "code",
   "execution_count": null,
   "metadata": {},
   "outputs": [],
   "source": [
    "Q2 = 9"
   ]
  },
  {
   "cell_type": "code",
   "execution_count": null,
   "metadata": {},
   "outputs": [],
   "source": [
    "IQR = Q3 - Q1  # finding the values"
   ]
  },
  {
   "cell_type": "code",
   "execution_count": 17,
   "metadata": {},
   "outputs": [],
   "source": [
    "IQR = 18 - 5 "
   ]
  },
  {
   "cell_type": "code",
   "execution_count": 18,
   "metadata": {},
   "outputs": [
    {
     "data": {
      "text/plain": [
       "13"
      ]
     },
     "execution_count": 18,
     "metadata": {},
     "output_type": "execute_result"
    }
   ],
   "source": [
    "IQR"
   ]
  },
  {
   "cell_type": "markdown",
   "metadata": {},
   "source": [
    " # Frequency table or frequency distribution table  and cumulative distribution"
   ]
  },
  {
   "cell_type": "markdown",
   "metadata": {},
   "source": [
    "## Frequency table / frequency distribution table\n",
    "\n",
    "By counting frequencies we can make a Frequency Distribution table.\n",
    "\n",
    "![](https://encrypted-tbn0.gstatic.com/images?q=tbn:ANd9GcR2caZS-YsfrlgWD6nzCq1TALezkh0AWFVqEQ&usqp=CAU)"
   ]
  },
  {
   "cell_type": "code",
   "execution_count": 19,
   "metadata": {},
   "outputs": [],
   "source": [
    "data  = [2,2,2,2,3,4,4,5]\n",
    "data.sort()"
   ]
  },
  {
   "cell_type": "code",
   "execution_count": 20,
   "metadata": {},
   "outputs": [
    {
     "data": {
      "text/plain": [
       "[2, 2, 2, 2, 3, 4, 4, 5]"
      ]
     },
     "execution_count": 20,
     "metadata": {},
     "output_type": "execute_result"
    }
   ],
   "source": [
    "data"
   ]
  },
  {
   "cell_type": "code",
   "execution_count": 28,
   "metadata": {},
   "outputs": [
    {
     "data": {
      "text/plain": [
       "Counter({2: 4, 3: 1, 4: 2, 5: 1})"
      ]
     },
     "execution_count": 28,
     "metadata": {},
     "output_type": "execute_result"
    }
   ],
   "source": [
    "from collections import Counter\n",
    "Counter(data)"
   ]
  },
  {
   "cell_type": "markdown",
   "metadata": {},
   "source": [
    "##  Cumulative distribution¶\n",
    "\n",
    "![](https://www.aplustopper.com/wp-content/uploads/2016/09/What-is-Cumulative-Frequency-in-statistics-1.png)\n",
    "\n",
    "\n",
    "### data points\n",
    "![](https://encrypted-tbn0.gstatic.com/images?q=tbn:ANd9GcR2caZS-YsfrlgWD6nzCq1TALezkh0AWFVqEQ&usqp=CAU)"
   ]
  },
  {
   "cell_type": "markdown",
   "metadata": {},
   "source": [
    "### example of cummalative distribution table\n",
    "\n",
    "![](https://i.ibb.co/6Dg8BC8/cum.png)"
   ]
  },
  {
   "cell_type": "code",
   "execution_count": null,
   "metadata": {},
   "outputs": [],
   "source": []
  }
 ],
 "metadata": {
  "kernelspec": {
   "display_name": "Python 3 (ipykernel)",
   "language": "python",
   "name": "python3"
  },
  "language_info": {
   "codemirror_mode": {
    "name": "ipython",
    "version": 3
   },
   "file_extension": ".py",
   "mimetype": "text/x-python",
   "name": "python",
   "nbconvert_exporter": "python",
   "pygments_lexer": "ipython3",
   "version": "3.8.2"
  }
 },
 "nbformat": 4,
 "nbformat_minor": 4
}
