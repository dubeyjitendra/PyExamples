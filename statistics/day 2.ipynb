{
 "cells": [
  {
   "cell_type": "code",
   "execution_count": null,
   "metadata": {},
   "outputs": [],
   "source": [
    "# Variable Type or Data Type\n",
    "# Random Variables\n",
    "# Different Types of Random Variables\n",
    "# Population (Denoted by N)\n",
    "# sample Denoted by n)\n",
    "# Population mean (myu)\n",
    "# Sample Mean(X bar)\n",
    "# Population Distribution\n",
    "# Sample Distribution\n",
    "# Sampling Distribution"
   ]
  },
  {
   "cell_type": "markdown",
   "metadata": {},
   "source": [
    "![titlw](data:image/png;base64,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)"
   ]
  },
  {
   "cell_type": "code",
   "execution_count": null,
   "metadata": {},
   "outputs": [],
   "source": [
    "# variable or Data\n",
    "\n",
    "# qualitative == categorical\n",
    "\n",
    "#     1- nominal---> eg. TCS share \n",
    "#     2- ordinal  ---> human life cycle\n",
    "\n",
    "# quanatative == Numerical\n",
    "\n",
    "#     1- discreate ----> Arbitery number or whole number \n",
    "#     2- continue ---> Heights of human, weights,  pricing of houuse ,electricity bill,sudemnt marks\n",
    "    "
   ]
  },
  {
   "cell_type": "markdown",
   "metadata": {},
   "source": [
    "### Random Variable\n",
    "\n",
    "\n",
    "![titlw](https://cdn.corporatefinanceinstitute.com/assets/random-variable.png)"
   ]
  },
  {
   "cell_type": "markdown",
   "metadata": {},
   "source": [
    "<!-- Random varaible \n",
    "\n",
    "categorical random varaible\n",
    "\n",
    "Numerical Random  variable\n",
    "\n",
    "    1- discrete random varaible\n",
    "    2- continue random varaible\n",
    "    \n",
    "X ~ 25\n",
    "X ~ 24.46  -->"
   ]
  },
  {
   "cell_type": "code",
   "execution_count": null,
   "metadata": {},
   "outputs": [],
   "source": [
    "# Population (Denoted by N)\n",
    "# sample Denoted by n)\n",
    "# Population mean (myu)\n",
    "# Sample Mean(X bar)"
   ]
  },
  {
   "cell_type": "markdown",
   "metadata": {},
   "source": [
    "![title](https://i.ytimg.com/vi/YiuQmVoUFVQ/maxresdefault.jpg)"
   ]
  },
  {
   "cell_type": "markdown",
   "metadata": {},
   "source": [
    "![title](https://i0.wp.com/makemeanalyst.com/wp-content/uploads/2017/05/Sample-Population-Sampling-Distribution.png?resize=1045%2C704)"
   ]
  },
  {
   "cell_type": "code",
   "execution_count": null,
   "metadata": {},
   "outputs": [],
   "source": []
  }
 ],
 "metadata": {
  "kernelspec": {
   "display_name": "Python 3 (ipykernel)",
   "language": "python",
   "name": "python3"
  },
  "language_info": {
   "codemirror_mode": {
    "name": "ipython",
    "version": 3
   },
   "file_extension": ".py",
   "mimetype": "text/x-python",
   "name": "python",
   "nbconvert_exporter": "python",
   "pygments_lexer": "ipython3",
   "version": "3.8.2"
  }
 },
 "nbformat": 4,
 "nbformat_minor": 4
}
