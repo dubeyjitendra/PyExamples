{
 "cells": [
  {
   "cell_type": "markdown",
   "metadata": {},
   "source": [
    "# Types of Graphs and Charts"
   ]
  },
  {
   "cell_type": "markdown",
   "metadata": {},
   "source": [
    "- Types of Statistical graphs\n",
    "    - Bar graph\n",
    "    - Line graph\n",
    "    - Histogram\n",
    "    - Pie chart\n",
    "- Exponential graphs\n",
    "- Logarithmic graphs\n",
    "- Trigonometric graphs\n",
    "- Frequency distribution graph"
   ]
  },
  {
   "cell_type": "markdown",
   "metadata": {},
   "source": [
    "##----------------------------------------------------------------------------"
   ]
  },
  {
   "cell_type": "markdown",
   "metadata": {},
   "source": [
    "- Bar Graph\n",
    "- Segmented Bar Graph\n",
    "- Column Graph\n",
    "- Box and Whiskers Graph (also called a Box Plot)\n",
    "- Frequency Graph (Frequency Table)\n",
    "- Cumulative Frequency Table\n",
    "- Frequency Polygon\n",
    "- Histogram\n",
    "- Line Graph\n",
    "- Timeplot\n",
    "- Relative Frequency Histogram\n",
    "- Pie Chart\n",
    "- Scatter Plot\n",
    "- Stemplot\n",
    "- More Examples of Different Graphs"
   ]
  },
  {
   "cell_type": "code",
   "execution_count": 6,
   "metadata": {},
   "outputs": [],
   "source": [
    "## Check this link for all grpahs \n",
    "\n",
    "# https://www.statisticshowto.com/types-graphs/#bartypes"
   ]
  },
  {
   "cell_type": "code",
   "execution_count": null,
   "metadata": {},
   "outputs": [],
   "source": []
  }
 ],
 "metadata": {
  "kernelspec": {
   "display_name": "Python 3",
   "language": "python",
   "name": "python3"
  },
  "language_info": {
   "codemirror_mode": {
    "name": "ipython",
    "version": 3
   },
   "file_extension": ".py",
   "mimetype": "text/x-python",
   "name": "python",
   "nbconvert_exporter": "python",
   "pygments_lexer": "ipython3",
   "version": "3.8.5"
  }
 },
 "nbformat": 4,
 "nbformat_minor": 4
}
