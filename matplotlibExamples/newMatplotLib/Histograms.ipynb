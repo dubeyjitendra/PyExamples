{
 "cells": [
  {
   "cell_type": "markdown",
   "metadata": {},
   "source": [
    "### Histogram"
   ]
  },
  {
   "cell_type": "markdown",
   "metadata": {},
   "source": [
    "#### Histrogram is using for Frequency Distibution \n",
    " It is showing the number of observation within each interval \n",
    " \n",
    " ##### Example: Say you ask for the height of 190 people, you might end up with a histogram like this:"
   ]
  },
  {
   "cell_type": "code",
   "execution_count": 2,
   "metadata": {},
   "outputs": [],
   "source": [
    "%matplotlib inline\n",
    "from matplotlib import pyplot as plt\n",
    "import numpy as np"
   ]
  },
  {
   "cell_type": "code",
   "execution_count": 10,
   "metadata": {},
   "outputs": [
    {
     "name": "stdout",
     "output_type": "stream",
     "text": [
      "[140.51039581 153.08088931 114.76444208 137.32949561 138.14849852\n",
      " 143.83912086 145.63762903 145.16405701 128.88832293 149.96188166\n",
      " 127.83668835 153.50608199 155.92829904 128.08684995 154.33839606\n",
      " 139.89346709 157.15919466 134.45128009 139.47063098 128.92725512\n",
      " 143.1032188  161.81497735 132.45890406 132.63840514 155.74695132\n",
      " 142.44326218 139.27258055 141.88261297 144.67863902 134.34317671\n",
      " 140.87746314 136.80133542 136.64661118 146.49601301 134.75563636\n",
      " 145.80944447 147.89349112 136.7061054  133.44747505 154.16911935\n",
      " 149.28427984 146.78704658 127.56313184 146.8851904  136.18769329\n",
      " 128.52503646 143.59379865 144.76179305 137.87047427 159.05403005\n",
      " 120.85914425 128.8422736  137.94262125 147.40213667 148.32970227\n",
      " 138.49669551 137.15069071 151.13321492 141.53553617 150.36492483\n",
      " 142.00104649 132.95330478 142.16067577 154.39211324 137.66200622\n",
      " 140.48572419 134.22056523 140.45382067 152.37744741 134.9935537\n",
      " 144.19422271 151.61525794 142.68072889 135.49549021 148.66433586\n",
      " 130.85897248 120.69395908 129.86007623 149.94396652 130.02430441\n",
      " 131.5123975  134.47485654 135.38168837 144.37963892 144.62224938\n",
      " 133.87511715 140.72902822 141.66285146 135.28758048 142.03641562\n",
      " 147.65548665 121.63750851 161.4774385  132.43001898 147.54751645\n",
      " 140.13186152 144.40436842 137.14399699 129.59755895 123.78797631\n",
      " 148.59544342 138.68536666 123.39836062 147.08553014 148.37704991\n",
      " 132.7493979  151.02897093 153.02279439 152.60350007 144.41185343\n",
      " 140.10198836 158.67436778 133.603984   139.00092684 147.56526828\n",
      " 142.98862412 148.2453257  132.98304258 148.44194243 155.87459551\n",
      " 145.41082896 134.17128743 118.05076776 124.68055815 154.26611499\n",
      " 142.94130702 146.69448    148.48279008 134.45057775 138.26113013\n",
      " 133.15917295 125.77057308 130.79868983 138.6772704  155.47564435\n",
      " 134.7963435  150.97378367 159.07012171 140.05934887 127.74859183\n",
      " 145.68255888 143.24117215 140.32528644 153.45427008 151.60885185\n",
      " 128.15278148 132.17610363 128.77965346 145.05280891 141.60900727\n",
      " 142.82900344 143.50597275 136.97172495 162.46653911 145.9203193\n",
      " 125.35554507 132.47531541 141.96013729 132.53689671 122.5350803\n",
      " 120.16761577 129.11428331 151.51585771 150.94891393 129.63407358\n",
      " 140.09468552 129.86911262 121.36254516 150.77851638 134.33931846\n",
      " 151.30520486 138.18598799 139.00537872 139.16935669 148.05748851\n",
      " 134.85149226 135.31370777 146.99013913 132.42081294 137.30612547\n",
      " 138.20553571 148.17448623 136.84340999 148.80390268 152.73698239\n",
      " 135.99063329 147.29497287 136.48671301 135.5894782  113.65993984\n",
      " 129.29878188 138.04539549 130.11885539 118.11540412 138.92981276]\n",
      "195\n"
     ]
    }
   ],
   "source": [
    "x = np.random.normal(140,10,195) # random.normal(loc=0.0, scale=1.0, size=None) scale value can we changed \n",
    "print(x)\n",
    "print(len(x))"
   ]
  },
  {
   "cell_type": "markdown",
   "metadata": {},
   "source": [
    "#### For simplicity we use NumPy to randomly generate an array with 140 values, \n",
    "#### where the values will concentrate around 190, and the standard deviation is 10."
   ]
  },
  {
   "cell_type": "code",
   "execution_count": 5,
   "metadata": {},
   "outputs": [
    {
     "data": {
      "image/png": "[encoded data removed]",
      "text/plain": [
       "<Figure size 432x288 with 1 Axes>"
      ]
     },
     "metadata": {
      "needs_background": "light"
     },
     "output_type": "display_data"
    }
   ],
   "source": [
    "x = np.random.normal(140,10,195)  # random.normal(loc=0.0, scale=1.0, size=None) scale value can we changed \n",
    "plt.hist(x)\n",
    "plt.show()"
   ]
  },
  {
   "cell_type": "code",
   "execution_count": null,
   "metadata": {},
   "outputs": [],
   "source": []
  }
 ],
 "metadata": {
  "kernelspec": {
   "display_name": "Python 3",
   "language": "python",
   "name": "python3"
  },
  "language_info": {
   "codemirror_mode": {
    "name": "ipython",
    "version": 3
   },
   "file_extension": ".py",
   "mimetype": "text/x-python",
   "name": "python",
   "nbconvert_exporter": "python",
   "pygments_lexer": "ipython3",
   "version": "3.8.5"
  }
 },
 "nbformat": 4,
 "nbformat_minor": 4
}
