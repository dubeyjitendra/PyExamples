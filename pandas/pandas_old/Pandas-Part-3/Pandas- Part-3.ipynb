{
 "cells": [
  {
   "cell_type": "code",
   "execution_count": 1,
   "metadata": {},
   "outputs": [
    {
     "name": "stdout",
     "output_type": "stream",
     "text": [
      "  Number     Type  Capacity  \n",
      "0    SSD   Premio        1800\n",
      "1    KCN  Fielder        1500\n",
      "2    USG     Benz        2200\n",
      "3    TCH      BMW        2000\n",
      "4    KBQ    Range        3500\n",
      "5    TBD   Premio        1800\n",
      "6    KCP     Benz        2200\n",
      "7    USD  Fielder        1500\n",
      "8    UGB      BMW        2000\n",
      "9    TBG    Range        3200\n"
     ]
    }
   ],
   "source": [
    "# Importing the dataset\n",
    "import pandas as pd  \n",
    "data = pd.read_csv('cars.csv')  # \n",
    "print(data)  "
   ]
  },
  {
   "cell_type": "code",
   "execution_count": 11,
   "metadata": {},
   "outputs": [
    {
     "name": "stdout",
     "output_type": "stream",
     "text": [
      "  Number     Type  Capacity  \n",
      "0    SSD   Premio        1800\n",
      "1    KCN  Fielder        1500\n",
      "2    USG     Benz        2200\n",
      "3    TCH      BMW        2000\n",
      "4    KBQ    Range        3500\n",
      "5    TBD   Premio        1800\n",
      "6    KCP     Benz        2200\n",
      "7    USD  Fielder        1500\n",
      "8    UGB      BMW        2000\n",
      "9    TBG    Range        3200\n"
     ]
    }
   ],
   "source": [
    "data = pd.read_csv('cars.csv',delimiter = ',')  # delimiter = ','\n",
    "print(data)  "
   ]
  },
  {
   "cell_type": "code",
   "execution_count": 2,
   "metadata": {},
   "outputs": [
    {
     "data": {
      "text/html": [
       "<div>\n",
       "<style scoped>\n",
       "    .dataframe tbody tr th:only-of-type {\n",
       "        vertical-align: middle;\n",
       "    }\n",
       "\n",
       "    .dataframe tbody tr th {\n",
       "        vertical-align: top;\n",
       "    }\n",
       "\n",
       "    .dataframe thead th {\n",
       "        text-align: right;\n",
       "    }\n",
       "</style>\n",
       "<table border=\"1\" class=\"dataframe\">\n",
       "  <thead>\n",
       "    <tr style=\"text-align: right;\">\n",
       "      <th></th>\n",
       "      <th>Number</th>\n",
       "      <th>Type</th>\n",
       "      <th>Capacity</th>\n",
       "    </tr>\n",
       "  </thead>\n",
       "  <tbody>\n",
       "    <tr>\n",
       "      <th>0</th>\n",
       "      <td>SSD</td>\n",
       "      <td>Premio</td>\n",
       "      <td>1800</td>\n",
       "    </tr>\n",
       "    <tr>\n",
       "      <th>1</th>\n",
       "      <td>KCN</td>\n",
       "      <td>Fielder</td>\n",
       "      <td>1500</td>\n",
       "    </tr>\n",
       "    <tr>\n",
       "      <th>2</th>\n",
       "      <td>USG</td>\n",
       "      <td>Benz</td>\n",
       "      <td>2200</td>\n",
       "    </tr>\n",
       "    <tr>\n",
       "      <th>3</th>\n",
       "      <td>TCH</td>\n",
       "      <td>BMW</td>\n",
       "      <td>2000</td>\n",
       "    </tr>\n",
       "    <tr>\n",
       "      <th>4</th>\n",
       "      <td>KBQ</td>\n",
       "      <td>Range</td>\n",
       "      <td>3500</td>\n",
       "    </tr>\n",
       "  </tbody>\n",
       "</table>\n",
       "</div>"
      ],
      "text/plain": [
       "  Number     Type  Capacity  \n",
       "0    SSD   Premio        1800\n",
       "1    KCN  Fielder        1500\n",
       "2    USG     Benz        2200\n",
       "3    TCH      BMW        2000\n",
       "4    KBQ    Range        3500"
      ]
     },
     "execution_count": 2,
     "metadata": {},
     "output_type": "execute_result"
    }
   ],
   "source": [
    "data.head()  "
   ]
  },
  {
   "cell_type": "code",
   "execution_count": 14,
   "metadata": {},
   "outputs": [
    {
     "data": {
      "text/html": [
       "<div>\n",
       "<style scoped>\n",
       "    .dataframe tbody tr th:only-of-type {\n",
       "        vertical-align: middle;\n",
       "    }\n",
       "\n",
       "    .dataframe tbody tr th {\n",
       "        vertical-align: top;\n",
       "    }\n",
       "\n",
       "    .dataframe thead th {\n",
       "        text-align: right;\n",
       "    }\n",
       "</style>\n",
       "<table border=\"1\" class=\"dataframe\">\n",
       "  <thead>\n",
       "    <tr style=\"text-align: right;\">\n",
       "      <th></th>\n",
       "      <th>Type</th>\n",
       "    </tr>\n",
       "  </thead>\n",
       "  <tbody>\n",
       "    <tr>\n",
       "      <th>0</th>\n",
       "      <td>Premio</td>\n",
       "    </tr>\n",
       "    <tr>\n",
       "      <th>1</th>\n",
       "      <td>Fielder</td>\n",
       "    </tr>\n",
       "    <tr>\n",
       "      <th>2</th>\n",
       "      <td>Benz</td>\n",
       "    </tr>\n",
       "    <tr>\n",
       "      <th>3</th>\n",
       "      <td>BMW</td>\n",
       "    </tr>\n",
       "    <tr>\n",
       "      <th>4</th>\n",
       "      <td>Range</td>\n",
       "    </tr>\n",
       "    <tr>\n",
       "      <th>5</th>\n",
       "      <td>Premio</td>\n",
       "    </tr>\n",
       "    <tr>\n",
       "      <th>6</th>\n",
       "      <td>Benz</td>\n",
       "    </tr>\n",
       "    <tr>\n",
       "      <th>7</th>\n",
       "      <td>Fielder</td>\n",
       "    </tr>\n",
       "    <tr>\n",
       "      <th>8</th>\n",
       "      <td>BMW</td>\n",
       "    </tr>\n",
       "    <tr>\n",
       "      <th>9</th>\n",
       "      <td>Range</td>\n",
       "    </tr>\n",
       "  </tbody>\n",
       "</table>\n",
       "</div>"
      ],
      "text/plain": [
       "      Type\n",
       "0   Premio\n",
       "1  Fielder\n",
       "2     Benz\n",
       "3      BMW\n",
       "4    Range\n",
       "5   Premio\n",
       "6     Benz\n",
       "7  Fielder\n",
       "8      BMW\n",
       "9    Range"
      ]
     },
     "execution_count": 14,
     "metadata": {},
     "output_type": "execute_result"
    }
   ],
   "source": [
    "# print specific column\n",
    "data[['Type']]"
   ]
  },
  {
   "cell_type": "code",
   "execution_count": 3,
   "metadata": {},
   "outputs": [
    {
     "name": "stdout",
     "output_type": "stream",
     "text": [
      "      Type\n",
      "0   Premio\n",
      "4    Range\n",
      "7  Fielder\n"
     ]
    }
   ],
   "source": [
    "print(data.loc[[0, 4, 7], ['Type']])  "
   ]
  },
  {
   "cell_type": "code",
   "execution_count": 4,
   "metadata": {},
   "outputs": [
    {
     "name": "stdout",
     "output_type": "stream",
     "text": [
      "      Type  Capacity\n",
      "0   Premio       NaN\n",
      "1  Fielder       NaN\n",
      "2     Benz       NaN\n",
      "3      BMW       NaN\n",
      "4    Range       NaN\n",
      "5   Premio       NaN\n",
      "6     Benz       NaN\n",
      "7  Fielder       NaN\n",
      "8      BMW       NaN\n",
      "9    Range       NaN\n"
     ]
    },
    {
     "name": "stderr",
     "output_type": "stream",
     "text": [
      "C:\\Users\\Admin\\Anaconda3\\lib\\site-packages\\pandas\\core\\indexing.py:1472: FutureWarning: \n",
      "Passing list-likes to .loc or [] with any missing label will raise\n",
      "KeyError in the future, you can use .reindex() as an alternative.\n",
      "\n",
      "See the documentation here:\n",
      "https://pandas.pydata.org/pandas-docs/stable/indexing.html#deprecate-loc-reindex-listlike\n",
      "  return self._getitem_tuple(key)\n"
     ]
    }
   ],
   "source": [
    "print(data.loc[:, ['Type', 'Capacity']])  "
   ]
  },
  {
   "cell_type": "code",
   "execution_count": 6,
   "metadata": {},
   "outputs": [
    {
     "name": "stdout",
     "output_type": "stream",
     "text": [
      "  Number     Type  Capacity  \n",
      "0    SSD   Premio        1800\n",
      "1    KCN  Fielder        1500\n",
      "2    USG     Benz        2200\n",
      "3    TCH      BMW        2000\n",
      "4    KBQ    Range        3500\n",
      "5    TBD   Premio        1800\n",
      "6    KCP     Benz        2200\n",
      "7    USD  Fielder        1500\n",
      "8    UGB      BMW        2000\n",
      "9    TBG    Range        3200\n"
     ]
    }
   ],
   "source": [
    "# Reading in excel\n",
    "import pandas as pd  \n",
    "data = pd.read_excel('cars.xlsx')  \n",
    "print(data)  "
   ]
  },
  {
   "cell_type": "code",
   "execution_count": 7,
   "metadata": {},
   "outputs": [
    {
     "name": "stdout",
     "output_type": "stream",
     "text": [
      "   SSD   Premio  1800\n",
      "0  KCN  Fielder  1500\n",
      "1  USG     Benz  2200\n",
      "2  TCH      BMW  2000\n",
      "3  KBQ    Range  3500\n",
      "4  TBD   Premio  1800\n",
      "5  KCP     Benz  2200\n",
      "6  USD  Fielder  1500\n",
      "7  UGB      BMW  2000\n",
      "8  TBG    Range  3200\n"
     ]
    }
   ],
   "source": [
    "data = pd.read_excel('cars.xlsx',skiprows = 1)  \n",
    "print(data) "
   ]
  },
  {
   "cell_type": "code",
   "execution_count": null,
   "metadata": {},
   "outputs": [],
   "source": []
  }
 ],
 "metadata": {
  "kernelspec": {
   "display_name": "Python 3",
   "language": "python",
   "name": "python3"
  },
  "language_info": {
   "codemirror_mode": {
    "name": "ipython",
    "version": 3
   },
   "file_extension": ".py",
   "mimetype": "text/x-python",
   "name": "python",
   "nbconvert_exporter": "python",
   "pygments_lexer": "ipython3",
   "version": "3.6.5"
  }
 },
 "nbformat": 4,
 "nbformat_minor": 2
}
