{
 "cells": [
  {
   "cell_type": "markdown",
   "id": "2e740804",
   "metadata": {},
   "source": [
    "## Array creation"
   ]
  },
  {
   "cell_type": "markdown",
   "id": "5dbdf20d",
   "metadata": {},
   "source": [
    "##### There are 6 general mechanisms for creating arrays:"
   ]
  },
  {
   "cell_type": "markdown",
   "id": "ca223a9e",
   "metadata": {},
   "source": [
    "* Conversion from other Python structures (i.e. lists and tuples)\n",
    "\n",
    "* Intrinsic NumPy array creation functions (e.g. arange, ones, zeros, etc.)\n",
    "\n",
    "* Replicating, joining, or mutating existing arrays\n",
    "\n",
    "* Reading arrays from disk, either from standard or custom formats\n",
    "\n",
    "* Creating arrays from raw bytes through the use of strings or buffers\n",
    "\n",
    "* Use of special library functions (e.g., random)"
   ]
  },
  {
   "cell_type": "markdown",
   "id": "ed071081",
   "metadata": {},
   "source": [
    "### Conversion from other Python structures (i.e. lists and tuples)"
   ]
  },
  {
   "cell_type": "code",
   "execution_count": 2,
   "id": "e49be9bd",
   "metadata": {},
   "outputs": [],
   "source": [
    "import numpy as np"
   ]
  },
  {
   "cell_type": "code",
   "execution_count": 3,
   "id": "f917b486",
   "metadata": {},
   "outputs": [],
   "source": [
    "lst = [1,2,4,7,8]"
   ]
  },
  {
   "cell_type": "code",
   "execution_count": 6,
   "id": "405c9712",
   "metadata": {},
   "outputs": [],
   "source": [
    "cre_arry= np.array(lst) # 1D array"
   ]
  },
  {
   "cell_type": "code",
   "execution_count": 7,
   "id": "2aa63dd1",
   "metadata": {},
   "outputs": [
    {
     "data": {
      "text/plain": [
       "array([1, 2, 4, 7, 8])"
      ]
     },
     "execution_count": 7,
     "metadata": {},
     "output_type": "execute_result"
    }
   ],
   "source": [
    "cre_arry"
   ]
  },
  {
   "cell_type": "code",
   "execution_count": 8,
   "id": "08b300fe",
   "metadata": {},
   "outputs": [],
   "source": [
    "arry_2d= np.array([lst]) # 2D array"
   ]
  },
  {
   "cell_type": "code",
   "execution_count": 9,
   "id": "67a94e0c",
   "metadata": {},
   "outputs": [
    {
     "data": {
      "text/plain": [
       "array([[1, 2, 4, 7, 8]])"
      ]
     },
     "execution_count": 9,
     "metadata": {},
     "output_type": "execute_result"
    }
   ],
   "source": [
    "arry_2d"
   ]
  },
  {
   "cell_type": "code",
   "execution_count": 10,
   "id": "d1c99807",
   "metadata": {},
   "outputs": [
    {
     "data": {
      "text/plain": [
       "5"
      ]
     },
     "execution_count": 10,
     "metadata": {},
     "output_type": "execute_result"
    }
   ],
   "source": [
    "arry_2d.size # check total number of elements in the ndarray"
   ]
  },
  {
   "cell_type": "code",
   "execution_count": 13,
   "id": "2e89f6e2",
   "metadata": {},
   "outputs": [
    {
     "data": {
      "text/plain": [
       "2"
      ]
     },
     "execution_count": 13,
     "metadata": {},
     "output_type": "execute_result"
    }
   ],
   "source": [
    "arry_2d.ndim # Check Dimension (axes) of the ndarray"
   ]
  },
  {
   "cell_type": "code",
   "execution_count": 15,
   "id": "25e5812d",
   "metadata": {},
   "outputs": [
    {
     "data": {
      "text/plain": [
       "dtype('int32')"
      ]
     },
     "execution_count": 15,
     "metadata": {},
     "output_type": "execute_result"
    }
   ],
   "source": [
    "arry_2d.dtype   # Check dtypes"
   ]
  },
  {
   "cell_type": "code",
   "execution_count": 16,
   "id": "74b54716",
   "metadata": {},
   "outputs": [
    {
     "data": {
      "text/plain": [
       "(1, 5)"
      ]
     },
     "execution_count": 16,
     "metadata": {},
     "output_type": "execute_result"
    }
   ],
   "source": [
    "arry_2d.shape  # check shape"
   ]
  },
  {
   "cell_type": "code",
   "execution_count": 17,
   "id": "90d140ea",
   "metadata": {},
   "outputs": [
    {
     "data": {
      "text/plain": [
       "4"
      ]
     },
     "execution_count": 17,
     "metadata": {},
     "output_type": "execute_result"
    }
   ],
   "source": [
    "arry_2d.itemsize # itemsize returns the size (in bytes) of each element of a NumPy array."
   ]
  },
  {
   "cell_type": "code",
   "execution_count": 22,
   "id": "36187278",
   "metadata": {},
   "outputs": [],
   "source": [
    "my_array = np.array([ [1, 4, 5, 6], [7, 8, 9, 10], [11, 12, 14, 16] ],dtype=np.int32) # you can set int8, int16, float32,float64"
   ]
  },
  {
   "cell_type": "code",
   "execution_count": 23,
   "id": "f4f79b4b",
   "metadata": {},
   "outputs": [
    {
     "data": {
      "text/plain": [
       "array([[ 1,  4,  5,  6],\n",
       "       [ 7,  8,  9, 10],\n",
       "       [11, 12, 14, 16]])"
      ]
     },
     "execution_count": 23,
     "metadata": {},
     "output_type": "execute_result"
    }
   ],
   "source": [
    "my_array"
   ]
  },
  {
   "cell_type": "code",
   "execution_count": 25,
   "id": "4807ec63",
   "metadata": {},
   "outputs": [],
   "source": [
    "tup=(2,5,6,7)"
   ]
  },
  {
   "cell_type": "code",
   "execution_count": 26,
   "id": "ec9f1dcd",
   "metadata": {},
   "outputs": [],
   "source": [
    "tup_arry= np.array(tup) # 1D array"
   ]
  },
  {
   "cell_type": "code",
   "execution_count": 27,
   "id": "ab125164",
   "metadata": {},
   "outputs": [
    {
     "data": {
      "text/plain": [
       "array([2, 5, 6, 7])"
      ]
     },
     "execution_count": 27,
     "metadata": {},
     "output_type": "execute_result"
    }
   ],
   "source": [
    "tup_arry"
   ]
  },
  {
   "cell_type": "code",
   "execution_count": 28,
   "id": "7e30921a",
   "metadata": {},
   "outputs": [],
   "source": [
    "tup_arry= np.array([tup]) # 2D array"
   ]
  },
  {
   "cell_type": "code",
   "execution_count": 29,
   "id": "bc6f6ff5",
   "metadata": {},
   "outputs": [
    {
     "data": {
      "text/plain": [
       "array([[2, 5, 6, 7]])"
      ]
     },
     "execution_count": 29,
     "metadata": {},
     "output_type": "execute_result"
    }
   ],
   "source": [
    "tup_arry"
   ]
  },
  {
   "cell_type": "markdown",
   "id": "658d7789",
   "metadata": {},
   "source": [
    "### Intrinsic NumPy array creation functions"
   ]
  },
  {
   "cell_type": "code",
   "execution_count": 35,
   "id": "8b529502",
   "metadata": {},
   "outputs": [],
   "source": [
    "arrgne= np.arange(3)"
   ]
  },
  {
   "cell_type": "code",
   "execution_count": 36,
   "id": "1470285b",
   "metadata": {},
   "outputs": [
    {
     "data": {
      "text/plain": [
       "array([0, 1, 2])"
      ]
     },
     "execution_count": 36,
     "metadata": {},
     "output_type": "execute_result"
    }
   ],
   "source": [
    "arrgne"
   ]
  },
  {
   "cell_type": "code",
   "execution_count": 37,
   "id": "d9ad8aee",
   "metadata": {},
   "outputs": [],
   "source": [
    "arrgne= np.arange(3,10,dtype=np.float32) # 1D "
   ]
  },
  {
   "cell_type": "code",
   "execution_count": 38,
   "id": "2a54b71d",
   "metadata": {},
   "outputs": [
    {
     "data": {
      "text/plain": [
       "array([3., 4., 5., 6., 7., 8., 9.], dtype=float32)"
      ]
     },
     "execution_count": 38,
     "metadata": {},
     "output_type": "execute_result"
    }
   ],
   "source": [
    "arrgne"
   ]
  },
  {
   "cell_type": "code",
   "execution_count": 41,
   "id": "ffe220b2",
   "metadata": {},
   "outputs": [],
   "source": [
    "npline = np.linspace(2,2) # 1D"
   ]
  },
  {
   "cell_type": "code",
   "execution_count": 42,
   "id": "47713ad2",
   "metadata": {},
   "outputs": [
    {
     "data": {
      "text/plain": [
       "array([2., 2., 2., 2., 2., 2., 2., 2., 2., 2., 2., 2., 2., 2., 2., 2., 2.,\n",
       "       2., 2., 2., 2., 2., 2., 2., 2., 2., 2., 2., 2., 2., 2., 2., 2., 2.,\n",
       "       2., 2., 2., 2., 2., 2., 2., 2., 2., 2., 2., 2., 2., 2., 2., 2.])"
      ]
     },
     "execution_count": 42,
     "metadata": {},
     "output_type": "execute_result"
    }
   ],
   "source": [
    "npline"
   ]
  },
  {
   "cell_type": "code",
   "execution_count": 43,
   "id": "97a2ca12",
   "metadata": {},
   "outputs": [
    {
     "data": {
      "text/plain": [
       "array([[1., 0.],\n",
       "       [0., 1.]])"
      ]
     },
     "execution_count": 43,
     "metadata": {},
     "output_type": "execute_result"
    }
   ],
   "source": [
    "arr_2d= np.eye(2) #Return a 2-D array with ones on the diagonal and zeros elsewhere.\n",
    "arr_2d"
   ]
  },
  {
   "cell_type": "code",
   "execution_count": 46,
   "id": "0cacd3db",
   "metadata": {},
   "outputs": [
    {
     "data": {
      "text/plain": [
       "array([[ 2,  0,  0,  0,  0],\n",
       "       [ 0,  2,  0,  0,  0],\n",
       "       [ 0,  0,  3,  0,  0],\n",
       "       [ 0,  0,  0, 44,  0],\n",
       "       [ 0,  0,  0,  0,  4]])"
      ]
     },
     "execution_count": 46,
     "metadata": {},
     "output_type": "execute_result"
    }
   ],
   "source": [
    "arr_2d= np.diag([2,2,3,44,4]) ## 2D array diagonally represents\n",
    "arr_2d"
   ]
  },
  {
   "cell_type": "markdown",
   "id": "ad157be2",
   "metadata": {},
   "source": [
    "### general ndarray creation functions¶"
   ]
  },
  {
   "cell_type": "code",
   "execution_count": 49,
   "id": "4ddd9284",
   "metadata": {},
   "outputs": [
    {
     "data": {
      "text/plain": [
       "array([[0., 0.],\n",
       "       [0., 0.],\n",
       "       [0., 0.]])"
      ]
     },
     "execution_count": 49,
     "metadata": {},
     "output_type": "execute_result"
    }
   ],
   "source": [
    "zeros= np.zeros((3,2)) # if you create zeros\n",
    "zeros"
   ]
  },
  {
   "cell_type": "code",
   "execution_count": 50,
   "id": "193276ef",
   "metadata": {},
   "outputs": [
    {
     "data": {
      "text/plain": [
       "array([[0., 0.],\n",
       "       [0., 0.],\n",
       "       [0., 0.]])"
      ]
     },
     "execution_count": 50,
     "metadata": {},
     "output_type": "execute_result"
    }
   ],
   "source": [
    "emp= np.empty((3,2)) # if you create zeros\n",
    "emp"
   ]
  },
  {
   "cell_type": "code",
   "execution_count": 54,
   "id": "404720c2",
   "metadata": {},
   "outputs": [
    {
     "data": {
      "text/plain": [
       "array([[1., 1.],\n",
       "       [1., 1.],\n",
       "       [1., 1.],\n",
       "       [1., 1.],\n",
       "       [1., 1.],\n",
       "       [1., 1.],\n",
       "       [1., 1.],\n",
       "       [1., 1.],\n",
       "       [1., 1.],\n",
       "       [1., 1.]])"
      ]
     },
     "execution_count": 54,
     "metadata": {},
     "output_type": "execute_result"
    }
   ],
   "source": [
    "oness= np.ones((10,2))\n",
    "oness"
   ]
  },
  {
   "cell_type": "code",
   "execution_count": 55,
   "id": "f42f420c",
   "metadata": {},
   "outputs": [
    {
     "data": {
      "text/plain": [
       "array([[0.14817425, 0.75659144, 0.23791602],\n",
       "       [0.71797855, 0.01182494, 0.51333544]])"
      ]
     },
     "execution_count": 55,
     "metadata": {},
     "output_type": "execute_result"
    }
   ],
   "source": [
    "rad= np.random.rand(2,3)\n",
    "rad"
   ]
  },
  {
   "cell_type": "markdown",
   "id": "2c3d7850",
   "metadata": {},
   "source": [
    "### Replicating, joining, or mutating existing arrays"
   ]
  },
  {
   "cell_type": "code",
   "execution_count": 57,
   "id": "ca60de35",
   "metadata": {},
   "outputs": [],
   "source": [
    "a = np.array([1, 2, 3, 4, 5, 6])"
   ]
  },
  {
   "cell_type": "code",
   "execution_count": 58,
   "id": "f0b38238",
   "metadata": {},
   "outputs": [
    {
     "data": {
      "text/plain": [
       "array([1, 2])"
      ]
     },
     "execution_count": 58,
     "metadata": {},
     "output_type": "execute_result"
    }
   ],
   "source": [
    "b = a[:2]  ## Vector [0,1]\n",
    "b"
   ]
  },
  {
   "cell_type": "code",
   "execution_count": 59,
   "id": "725c94ef",
   "metadata": {},
   "outputs": [],
   "source": [
    "b += 1"
   ]
  },
  {
   "cell_type": "code",
   "execution_count": 60,
   "id": "dcff7617",
   "metadata": {},
   "outputs": [
    {
     "data": {
      "text/plain": [
       "array([2, 3])"
      ]
     },
     "execution_count": 60,
     "metadata": {},
     "output_type": "execute_result"
    }
   ],
   "source": [
    "b"
   ]
  },
  {
   "cell_type": "code",
   "execution_count": 61,
   "id": "a196aec8",
   "metadata": {},
   "outputs": [
    {
     "data": {
      "text/plain": [
       "array([2, 3, 3, 4, 5])"
      ]
     },
     "execution_count": 61,
     "metadata": {},
     "output_type": "execute_result"
    }
   ],
   "source": [
    "b =a[:-1]\n",
    "b"
   ]
  },
  {
   "cell_type": "code",
   "execution_count": 62,
   "id": "ee32029d",
   "metadata": {},
   "outputs": [
    {
     "data": {
      "text/plain": [
       "array([6])"
      ]
     },
     "execution_count": 62,
     "metadata": {},
     "output_type": "execute_result"
    }
   ],
   "source": [
    "b =a[-1:]\n",
    "b"
   ]
  },
  {
   "cell_type": "markdown",
   "id": "ab5f5f71",
   "metadata": {},
   "source": [
    "### Reading arrays from disk, either from standard or custom formats¶"
   ]
  },
  {
   "cell_type": "code",
   "execution_count": 63,
   "id": "217f3c5e",
   "metadata": {},
   "outputs": [],
   "source": [
    "ldtxt = np.loadtxt('simple.csv', delimiter = ',', skiprows = 1) "
   ]
  },
  {
   "cell_type": "code",
   "execution_count": 64,
   "id": "38f91f46",
   "metadata": {},
   "outputs": [
    {
     "data": {
      "text/plain": [
       "array([[0., 0.],\n",
       "       [1., 1.],\n",
       "       [2., 4.],\n",
       "       [3., 9.]])"
      ]
     },
     "execution_count": 64,
     "metadata": {},
     "output_type": "execute_result"
    }
   ],
   "source": [
    "ldtxt"
   ]
  },
  {
   "cell_type": "markdown",
   "id": "e6fd55c7",
   "metadata": {},
   "source": [
    "### Creating arrays from raw bytes through the use of strings or buffers"
   ]
  },
  {
   "cell_type": "markdown",
   "id": "bdbb310f",
   "metadata": {},
   "source": [
    "There are a variety of approaches one can use. If the file has a relatively simple format then one can write a simple I/O library and use the NumPy fromfile() function and .tofile() method to read and write NumPy arrays directly (mind your byteorder though!) If a good C or C++ library exists that read the data, one can wrap that library with a variety of techniques though that certainly is much more work and requires significantly more advanced knowledge to interface with C or C++."
   ]
  },
  {
   "cell_type": "markdown",
   "id": "2c1ee67c",
   "metadata": {},
   "source": [
    "### Use of special library functions (e.g., SciPy, Pandas, and OpenCV)"
   ]
  },
  {
   "cell_type": "markdown",
   "id": "02e40aa1",
   "metadata": {},
   "source": [
    "NumPy is the fundamental library for array containers in the Python Scientific Computing stack. Many Python libraries, including SciPy, Pandas, and OpenCV, use NumPy ndarrays as the common format for data exchange, These libraries can create, operate on, and work with NumPy arrays."
   ]
  },
  {
   "cell_type": "code",
   "execution_count": null,
   "id": "29d49314",
   "metadata": {},
   "outputs": [],
   "source": []
  }
 ],
 "metadata": {
  "kernelspec": {
   "display_name": "Python 3",
   "language": "python",
   "name": "python3"
  },
  "language_info": {
   "codemirror_mode": {
    "name": "ipython",
    "version": 3
   },
   "file_extension": ".py",
   "mimetype": "text/x-python",
   "name": "python",
   "nbconvert_exporter": "python",
   "pygments_lexer": "ipython3",
   "version": "3.6.6"
  }
 },
 "nbformat": 4,
 "nbformat_minor": 5
}
