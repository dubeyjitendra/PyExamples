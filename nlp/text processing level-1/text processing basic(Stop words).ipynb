{
 "cells": [
  {
   "cell_type": "markdown",
   "metadata": {},
   "source": [
    "# StopWords"
   ]
  },
  {
   "cell_type": "markdown",
   "metadata": {},
   "source": [
    "###### Definition:\n",
    "Stopwords are the most common words in any natural language. For the purpose of analyzing text data and building NLP models,\n",
    "these stopwords might not add much value to the meaning of the document. Generally, \n",
    "the most common words used in a text are “the”, “is”, “in”, “for”, “where”, “when”, “to”, “at” etc."
   ]
  },
  {
   "cell_type": "markdown",
   "metadata": {},
   "source": [
    "##### Why are they called stop words?\n"
   ]
  },
  {
   "cell_type": "markdown",
   "metadata": {},
   "source": [
    "Words like the in, at, that, which, and on are called stop words. Coined by Hans Peter Luhn, an early pioneer of information\n",
    "retrieval techniques, stop words are words so common they can be excluded from searches because \n",
    "they increase the work required by software to parse them while providing minimal benefit."
   ]
  },
  {
   "cell_type": "markdown",
   "metadata": {},
   "source": [
    "###### What English words are stop words for Google?"
   ]
  },
  {
   "cell_type": "markdown",
   "metadata": {},
   "source": [
    "Stop words are all those words that are filtered out and do not have a meaning by themselves. \n",
    "Google stop words are usually articles, prepositions, conjunctions, pronouns, etc"
   ]
  },
  {
   "cell_type": "markdown",
   "metadata": {},
   "source": [
    "### spacy"
   ]
  },
  {
   "cell_type": "code",
   "execution_count": null,
   "metadata": {},
   "outputs": [],
   "source": [
    "pip install spacy\n",
    "import spacy\n",
    "print('spaCy Version: %s' % (spacy.__version__))\n",
    "spacy_nlp = spacy.load('en_core_web_sm')\n",
    "# Check pre-defined stop words\n",
    "spacy_stopwords = spacy.lang.en.stop_words.STOP_WORDS\n",
    "print('Number of stop words: %d' % len(spacy_stopwords))\n",
    "print('First ten stop words: %s' % list(spacy_stopwords)[:10])\n",
    "# Remove stop words\n",
    "doc = spacy_nlp(article)\n",
    "tokens = [token.text for token in doc if not token.is_stop]\n",
    "print('Original Article: %s' % (article))\n",
    "print()\n",
    "print(tokens)\n",
    "# Add customize stop words\n",
    "customize_stop_words = [\n",
    "    'computing', 'filtered'\n",
    "]\n",
    "for w in customize_stop_words:\n",
    "    spacy_nlp.vocab[w].is_stop = True\n",
    "doc = spacy_nlp(article)\n",
    "tokens = [token.text for token in doc if not token.is_stop]\n",
    "print('Original Article: %s' % (article))\n",
    "print()\n",
    "print(tokens)"
   ]
  },
  {
   "cell_type": "markdown",
   "metadata": {},
   "source": [
    "### NLTK"
   ]
  },
  {
   "cell_type": "code",
   "execution_count": null,
   "metadata": {},
   "outputs": [],
   "source": [
    "pip install nltk\n",
    "# Import library\n",
    "import nltk \n",
    "print('NLTK Version: %s' % (nltk.__version__))\n",
    "nltk.download('stopwords')\n",
    "#Check pre-defined stop words\n",
    "nltk_stopwords = nltk.corpus.stopwords.words('english')\n",
    "print('Number of stop words: %d' % len(nltk_stopwords))\n",
    "print('First ten stop words: %s' % list(nltk_stopwords)[:10])\n",
    "# Remove stop words\n",
    "tokens = nltk.tokenize.word_tokenize(article)\n",
    "tokens = [token for token in tokens if not token in nltk_stopwords]\n",
    "print('Original Article: %s' % (article))\n",
    "print()\n",
    "print(tokens)"
   ]
  },
  {
   "cell_type": "code",
   "execution_count": null,
   "metadata": {},
   "outputs": [],
   "source": []
  }
 ],
 "metadata": {
  "kernelspec": {
   "display_name": "Python 3",
   "language": "python",
   "name": "python3"
  },
  "language_info": {
   "codemirror_mode": {
    "name": "ipython",
    "version": 3
   },
   "file_extension": ".py",
   "mimetype": "text/x-python",
   "name": "python",
   "nbconvert_exporter": "python",
   "pygments_lexer": "ipython3",
   "version": "3.6.8"
  }
 },
 "nbformat": 4,
 "nbformat_minor": 2
}
