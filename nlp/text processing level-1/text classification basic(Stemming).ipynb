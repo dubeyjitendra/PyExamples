{
 "cells": [
  {
   "cell_type": "markdown",
   "metadata": {},
   "source": [
    "# Stemming"
   ]
  },
  {
   "cell_type": "markdown",
   "metadata": {},
   "source": [
    "After tokenized word, we may want a root form rather than the original input form for post processing or \n",
    "modelling such as topic classification. The root word does not necessarily a word itself. For example, \n",
    "\"reduc\" is a root word of \"reduce\", \"suffici\" is a root word of \"sufficient\"."
   ]
  },
  {
   "cell_type": "markdown",
   "metadata": {},
   "source": [
    "eg:  studies--->studi\n",
    "     studying--->study\n",
    "     "
   ]
  },
  {
   "cell_type": "markdown",
   "metadata": {},
   "source": [
    "We already know that a word has one root-base form but having different variations, \n",
    "for example, “play” is a root-base word and playing, played, plays are the different forms of a single word. So, \n",
    "these words get stripped out, they might get the incorrect meanings or some other sort of errors. \n"
   ]
  },
  {
   "cell_type": "markdown",
   "metadata": {},
   "source": [
    "Stemming is a rule-based approach because it slices the inflected words from prefix or suffix as per \n",
    "the need using a set of commonly underused prefix and suffix, like “-ing”, “-ed”, “-es”, “-pre”, etc. \n",
    "It results in a word that is actually not a word.\n",
    "\n",
    "There are mainly two errors that occur while performing Stemming, Over-stemming, \n",
    "and Under-stemming. Over-steaming occurs when two words are stemmed from the same root of different stems. \n",
    "Under-stemming occurs when two words are stemmed from the same root of not a different stems.\n"
   ]
  },
  {
   "cell_type": "markdown",
   "metadata": {},
   "source": [
    "# Defining Porter Stemmer"
   ]
  },
  {
   "cell_type": "markdown",
   "metadata": {},
   "source": [
    "Porter Stemmer uses suffix striping to produce stems.\n",
    "\n",
    "It does not follow the linguistic set of rules to produce stem for phases in different cases,\n",
    "due to this reason porter stemmer does not generate stems,\n",
    "i.e. actual English words. "
   ]
  },
  {
   "cell_type": "code",
   "execution_count": null,
   "metadata": {},
   "outputs": [],
   "source": [
    "pip install nltk\n",
    "#  Import library\n",
    "import nltk \n",
    "print('NLTK Version: %s' % (nltk.__version__))\n",
    "porter_stemmer = nltk.stem.PorterStemmer()\n",
    "# Check stemming result\n",
    "tokens = nltk.word_tokenize(article)\n",
    "print('Original Article: %s' % (article))\n",
    "print()\n",
    "for token in tokens:\n",
    "    stemmed_token = porter_stemmer.stem(token)\n",
    "    \n",
    "    if token != stemmed_token:\n",
    "        print('Original : %s, New: %s' % (token, stemmed_token))"
   ]
  },
  {
   "cell_type": "markdown",
   "metadata": {},
   "source": [
    "# Snowball Stemmer"
   ]
  },
  {
   "cell_type": "markdown",
   "metadata": {},
   "source": [
    "Snowball programming language, developed it to support other languages. \n",
    "It’s an advanced version of Porter Stemmer, also named as  Porter2 Stemmer. \n",
    "\n",
    "Snowball Stemmer not only support English, but also Germanic and other languages as well. For detail, you may check on the Snowball website."
   ]
  },
  {
   "cell_type": "code",
   "execution_count": null,
   "metadata": {},
   "outputs": [],
   "source": [
    "#using snowball of the word of \"badly\"\n",
    "print(SnowballStemmer(\"English\").stem(\"badly\"))\n",
    "Output: bad\n",
    "    \n",
    "print(SnowballStemmer(\"porter\").stem(\"badly\"))\n",
    "Output: badli"
   ]
  },
  {
   "cell_type": "code",
   "execution_count": null,
   "metadata": {},
   "outputs": [],
   "source": [
    "article = 'In linguistic morphology and information retrieval, stemming is the process of \\\n",
    "reducing inflected (or sometimes derived) words to their word stem, base or root \\\n",
    "form—generally a written word form. The stem need not be identical to the morphological \\\n",
    "root of the word; it is usually sufficient that related words map to the same stem, even \\\n",
    "if this stem is not in itself a valid root.'"
   ]
  },
  {
   "cell_type": "code",
   "execution_count": null,
   "metadata": {},
   "outputs": [],
   "source": [
    "import nltk \n",
    "print('NLTK Version: %s' % (nltk.__version__))\n",
    "\n",
    "snowball_stemmer = nltk.stem.SnowballStemmer('english')"
   ]
  },
  {
   "cell_type": "code",
   "execution_count": null,
   "metadata": {},
   "outputs": [],
   "source": [
    "tokens = nltk.word_tokenize(article)\n",
    "\n",
    "print('Original Article: %s' % (article))\n",
    "print()\n",
    "\n",
    "for token in tokens:\n",
    "    stemmed_token = snowball_stemmer.stem(token)\n",
    "    \n",
    "    if token != stemmed_token:\n",
    "        print('Original : %s, New: %s' % (token, stemmed_token))"
   ]
  },
  {
   "cell_type": "code",
   "execution_count": null,
   "metadata": {},
   "outputs": [],
   "source": []
  }
 ],
 "metadata": {
  "kernelspec": {
   "display_name": "Python 3",
   "language": "python",
   "name": "python3"
  },
  "language_info": {
   "codemirror_mode": {
    "name": "ipython",
    "version": 3
   },
   "file_extension": ".py",
   "mimetype": "text/x-python",
   "name": "python",
   "nbconvert_exporter": "python",
   "pygments_lexer": "ipython3",
   "version": "3.6.8"
  }
 },
 "nbformat": 4,
 "nbformat_minor": 2
}
