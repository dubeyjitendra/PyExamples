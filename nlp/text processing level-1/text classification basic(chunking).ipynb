{
 "cells": [
  {
   "cell_type": "markdown",
   "metadata": {},
   "source": [
    "# Chunking"
   ]
  },
  {
   "cell_type": "markdown",
   "metadata": {},
   "source": [
    "Chunking is a process of extracting phrases from unstructured text. ... \n",
    "\n",
    "Chunking is a process of extracting phrases from unstructured text. Instead of just simple tokens which may not represent the actual meaning of the text, its advisable to use phrases such as “South Africa” as a single word instead of ‘South’ and ‘Africa’ separate words.\n",
    "\n",
    "Chunking is very important when you want to extract information from text such as Locations, Person Names etc. It will help to NER(Named Entity Extaction) \n",
    "\n",
    "Chunking works on top of POS tagging,it uses pos-tags as input and provides chunks as output.\n",
    "\n",
    "Similar to POS tags, there are a standard set of Chunk tags like Noun Phrase(NP), Verb Phrase (VP), etc\n",
    "\n",
    "There are two main library which we use for Chunking:\n",
    "1-  SpaCy\n",
    "2- TextBlob\n",
    "\n",
    "Note: NLTK just provides a mechanism using regular expressions to generate chunks"
   ]
  },
  {
   "cell_type": "markdown",
   "metadata": {},
   "source": [
    "##### Lets go more into depth"
   ]
  },
  {
   "cell_type": "markdown",
   "metadata": {},
   "source": [
    "We will consider Noun Phrase Chunking and we search for chunks corresponding to an individual noun phrase. \n",
    "In order to create NP chunk, we define the chunk grammar using POS tags. \n",
    "\n",
    "We will define this using a single regular expression rule.The rule states that whenever the chunk finds \n",
    "an optional determiner (DT) followed by any number of adjectives (JJ) and then a noun (NN) then \n",
    "the Noun Phrase(NP) chunk should be formed."
   ]
  },
  {
   "cell_type": "code",
   "execution_count": null,
   "metadata": {},
   "outputs": [],
   "source": [
    "# Example of a simple regular expression based NP chunker.\n",
    "import nltk"
   ]
  },
  {
   "cell_type": "code",
   "execution_count": null,
   "metadata": {},
   "outputs": [],
   "source": [
    "sentence = \"the little yellow dog barked at the cat\""
   ]
  },
  {
   "cell_type": "code",
   "execution_count": null,
   "metadata": {},
   "outputs": [],
   "source": [
    "#Define your grammar using regular expressions\n",
    "grammar = ('''\n",
    "    NP: {<DT>?<JJ>*<NN>} # NP\n",
    "    ''')\n",
    "\n",
    "### \n",
    "[('the', 'DT'),\n",
    " ('little', 'JJ'),\n",
    " ('yellow', 'JJ'),\n",
    " ('dog', 'NN'),\n",
    " ('barked', 'VBD'),\n",
    " ('at', 'IN'),\n",
    " ('the', 'DT'),\n",
    " ('cat', 'NN')]"
   ]
  },
  {
   "cell_type": "code",
   "execution_count": null,
   "metadata": {},
   "outputs": [],
   "source": [
    "tree = chunkParser.parse(tagged)"
   ]
  },
  {
   "cell_type": "code",
   "execution_count": null,
   "metadata": {},
   "outputs": [],
   "source": [
    "for subtree in tree.subtrees():\n",
    "    print(subtree)"
   ]
  },
  {
   "cell_type": "code",
   "execution_count": null,
   "metadata": {},
   "outputs": [],
   "source": [
    "## Output\n",
    "(S\n",
    "  (NP the/DT little/JJ yellow/JJ dog/NN)\n",
    "  barked/VBD\n",
    "  at/IN\n",
    "  (NP the/DT cat/NN))\n",
    "(NP the/DT little/JJ yellow/JJ dog/NN)\n",
    "(NP the/DT cat/NN)"
   ]
  },
  {
   "cell_type": "code",
   "execution_count": null,
   "metadata": {},
   "outputs": [],
   "source": [
    "tree.draw()"
   ]
  },
  {
   "cell_type": "code",
   "execution_count": 7,
   "metadata": {},
   "outputs": [
    {
     "name": "stderr",
     "output_type": "stream",
     "text": [
      "''https:' is not recognized as an internal or external command,\n",
      "operable program or batch file.\n"
     ]
    }
   ],
   "source": [
    "![title]('https://miro.medium.com/max/548/1*ZNcznQAcvThZwjF0mPjTqw.png')"
   ]
  },
  {
   "cell_type": "code",
   "execution_count": null,
   "metadata": {},
   "outputs": [],
   "source": []
  },
  {
   "cell_type": "markdown",
   "metadata": {},
   "source": []
  }
 ],
 "metadata": {
  "kernelspec": {
   "display_name": "Python 3",
   "language": "python",
   "name": "python3"
  },
  "language_info": {
   "codemirror_mode": {
    "name": "ipython",
    "version": 3
   },
   "file_extension": ".py",
   "mimetype": "text/x-python",
   "name": "python",
   "nbconvert_exporter": "python",
   "pygments_lexer": "ipython3",
   "version": "3.6.8"
  }
 },
 "nbformat": 4,
 "nbformat_minor": 2
}
