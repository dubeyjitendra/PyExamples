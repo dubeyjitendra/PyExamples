{
 "cells": [
  {
   "cell_type": "markdown",
   "metadata": {},
   "source": [
    "Difference between Stemming   &    Lemmatization\n",
    "\n",
    "1\n",
    "\n",
    "Stemming is faster because it chops words without knowing the context of the word in given sentences.\n",
    "\n",
    "Lemmatization is slower as compared to stemming but it knows the context of the word before proceeding.\n",
    "\n",
    "2\n",
    "\n",
    "It is a rule-based approach.\n",
    "\n",
    "It is a dictionary-based approach.\n",
    "\n",
    "3\n",
    "\n",
    "Accuracy is less.\n",
    "\n",
    "Accuracy is more as compared to Stemming.\n",
    "\n",
    "4\n",
    "\n",
    "When we convert any word into root-form then stemming may create the non-existence meaning of a word.\n",
    "\n",
    "Lemmatization always gives the dictionary meaning word while converting into root-form.\n",
    "\n",
    "5\n",
    "\n",
    "Stemming is preferred when the meaning of the word is not important for analysis.\n",
    "\n",
    "Example: Spam Detection\n",
    "\n",
    "Lemmatization would be recommended when the meaning of the word is important for analysis.\n",
    "\n",
    "Example: Question Answer\n",
    "\n",
    "6\n",
    "\n",
    "For Example:\n",
    "\n",
    "“Studies” => “Studi”\n",
    "\n",
    "For Example:\n",
    "\n",
    "“Studies” => “Study”"
   ]
  },
  {
   "cell_type": "markdown",
   "metadata": {},
   "source": [
    "<img src=\"https://lh3.googleusercontent.com/wISuZnvPoEmjZqtH4rgAA7SLnajSzLnHzfCDlnEcn15xH1_3dKIWfJfzXk4OEmG6WF8-9B5fyFNuxUs7MrbyCrGTzf1EOFM1Skyvda7IqJ--qw3Ko5mepOE7iqZY5X3cMoDAglbz\" width=600 height=600 />"
   ]
  },
  {
   "cell_type": "code",
   "execution_count": null,
   "metadata": {},
   "outputs": [],
   "source": []
  }
 ],
 "metadata": {
  "kernelspec": {
   "display_name": "Python 3",
   "language": "python",
   "name": "python3"
  },
  "language_info": {
   "codemirror_mode": {
    "name": "ipython",
    "version": 3
   },
   "file_extension": ".py",
   "mimetype": "text/x-python",
   "name": "python",
   "nbconvert_exporter": "python",
   "pygments_lexer": "ipython3",
   "version": "3.6.8"
  }
 },
 "nbformat": 4,
 "nbformat_minor": 2
}
