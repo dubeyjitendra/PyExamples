{
 "cells": [
  {
   "cell_type": "markdown",
   "metadata": {},
   "source": [
    "# What is N- Gram, Unigram, Bigram and Trigram?"
   ]
  },
  {
   "cell_type": "markdown",
   "metadata": {},
   "source": [
    "N-grams of texts are extensively used in text mining and natural language processing tasks.\n",
    "An n-gram is a contiguous sequence of n items from a given sample of text or speech. \n",
    "an n-gram of size 1 is referred to as a \"unigram\"; size 2 is a \"bigram\"; size 3 is a \"trigram\".\n",
    "When N>3 this is usually referred to as four grams or five grams and so on."
   ]
  },
  {
   "cell_type": "markdown",
   "metadata": {},
   "source": [
    "### Formula to calculate number of N-grams in a sentence."
   ]
  },
  {
   "cell_type": "markdown",
   "metadata": {},
   "source": [
    "If X=Number of words in a given sentence K, the number of n-grams for sentence K would be:\n",
    "    "
   ]
  },
  {
   "cell_type": "markdown",
   "metadata": {},
   "source": [
    "# Ngramk = X - (N - 1)"
   ]
  },
  {
   "cell_type": "markdown",
   "metadata": {},
   "source": [
    "Where X=Number of words in given sentence, N is using() uni-grams,bi grams,tri-grams and Ngrams)\n",
    "\n",
    "Example:\n",
    "\n",
    "Sentence : I want to learn Machine Learning"
   ]
  },
  {
   "cell_type": "markdown",
   "metadata": {},
   "source": [
    "#### Unigram\n",
    "\n",
    "now calculate number of unigrams in sentence using formula\n",
    "\n",
    "here, X = 6 and N = 1 (for unigram)\n",
    "\n",
    "Ngramk = X - (N - 1)\n",
    "\n",
    "Ngramk = 6 - (1–1) = 6 (i.e. unigram is equal to number of words in a sentence)\n",
    "\n",
    "#### [I][want][to][learn][Machine][Learning]"
   ]
  },
  {
   "cell_type": "markdown",
   "metadata": {},
   "source": [
    "#### Biagram:\n",
    "\n",
    "here, X = 6 and N = 2 (for biagram)\n",
    "\n",
    "Ngramk = X - (N - 1)\n",
    "\n",
    "Ngramk = 6 - (2–1) = 5\n",
    "\n",
    "### [I want][want to][to learn][learn Machine][Machine Learning]"
   ]
  },
  {
   "cell_type": "markdown",
   "metadata": {},
   "source": [
    "#### Trigram:\n",
    "\n",
    "here, X = 6 and N = 3 (for trigram)\n",
    "\n",
    "Ngramk = X - (N - 1)\n",
    "\n",
    "Ngramk = 6 - (3–1) = 4\n",
    "\n",
    "### [I want to][want to learn][to learn Machine][learn Machine Learning]\n",
    "\n",
    "\n",
    "You can also generate for N=4,5,6 and so on."
   ]
  },
  {
   "cell_type": "code",
   "execution_count": null,
   "metadata": {},
   "outputs": [],
   "source": []
  },
  {
   "cell_type": "markdown",
   "metadata": {},
   "source": [
    "#### Ngram:\n",
    "\n",
    "An N-gram means a sequence of N words\n",
    "\n",
    "here, X = 6 and N = N means total number of words(I want to learn Machine Learning==6 words) (for ngram)\n",
    "\n",
    "Ngramk = X - (N - 1)\n",
    "\n",
    "Ngramk = 6 - (6–1) = 1\n",
    "\n",
    "### [I want to learn Machine Learning]"
   ]
  },
  {
   "cell_type": "markdown",
   "metadata": {},
   "source": [
    "## what is the use of n-grams?"
   ]
  },
  {
   "cell_type": "markdown",
   "metadata": {},
   "source": [
    "n-gram models are widely used in statistical natural language processing. \n",
    "In speech recognition, phonemes and sequences of phonemes are modeled using a n-gram distribution. "
   ]
  },
  {
   "cell_type": "markdown",
   "metadata": {},
   "source": [
    "N-gram model. Basically, an N-gram model predicts the occurrence of a word based on the \n",
    "occurrence of its N – 1 previous words."
   ]
  },
  {
   "cell_type": "markdown",
   "metadata": {},
   "source": [
    "# Use of Ngrams"
   ]
  },
  {
   "cell_type": "markdown",
   "metadata": {},
   "source": [
    "1- An N-gram is a sequence of N words: a 2-gram (or bi-gram) is a two-word sequence of words like “please turn”, “turn your”, or ”your homework”, and a 3-gram (or tri-gram) is a three-word sequence of words like “please turn your”, or “turn your homework”.\n",
    "Whether estimating probabilities of next words or of whole sequences, the N-gram model is one of the most important tools in speech and language processing."
   ]
  },
  {
   "cell_type": "markdown",
   "metadata": {},
   "source": [
    "2- Traditionally, n-grams are built on words, but you can also make n-grams of characters. This has been found very useful for some tasks (e.g spam detection)"
   ]
  },
  {
   "cell_type": "markdown",
   "metadata": {},
   "source": [
    "3- Let's first get the idea of a n-gram out of the way: a n-gram is basically a sequence of arbitrary words, having a length of n.\n",
    "\n",
    "For instance, “Thank You” is a 2-gram (a bigram), “useful in NLP” is a 3-gram (a trigram), “Quora is quite cool” is a 4-gram.\n",
    "\n",
    "To come to the question, a n-gram primarily helps us predict the next word that should be occurring in a sequence, if we are given the sequence itself."
   ]
  },
  {
   "cell_type": "code",
   "execution_count": null,
   "metadata": {},
   "outputs": [],
   "source": []
  }
 ],
 "metadata": {
  "kernelspec": {
   "display_name": "Python 3",
   "language": "python",
   "name": "python3"
  },
  "language_info": {
   "codemirror_mode": {
    "name": "ipython",
    "version": 3
   },
   "file_extension": ".py",
   "mimetype": "text/x-python",
   "name": "python",
   "nbconvert_exporter": "python",
   "pygments_lexer": "ipython3",
   "version": "3.6.8"
  }
 },
 "nbformat": 4,
 "nbformat_minor": 2
}
