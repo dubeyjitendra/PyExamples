{
 "cells": [
  {
   "cell_type": "markdown",
   "metadata": {},
   "source": [
    "**Data preparation is the process of cleaning and transforming raw data prior to processing and analysis. It is an important step prior to processing and often involves reformatting data, making corrections to data and the combining of data sets to enrich data.**"
   ]
  },
  {
   "cell_type": "markdown",
   "metadata": {},
   "source": [
    "![title](https://devopedia.org/images/article/194/2232.1584885343.jpg)\n",
    "\n",
    "![title](https://www.analyticsvidhya.com/wp-content/uploads/2013/08/data_prep_mistakes.jpg)"
   ]
  },
  {
   "cell_type": "markdown",
   "metadata": {},
   "source": [
    "## What Is Data Preparation in a Machine Learning Project\n",
    "\n",
    "\n",
    "    - Data preparation may be one of the most difficult steps in any machine learning project.\n",
    "    - I like to define the process using the four high-level steps:\n",
    "    \n",
    "    \n",
    "        - Step 1: Define Problem.\n",
    "        - Step 2: Prepare Data.\n",
    "        - Step 3: Evaluate Models.\n",
    "        - Step 4: Finalize Model."
   ]
  },
  {
   "cell_type": "markdown",
   "metadata": {},
   "source": [
    "##### Step 1: Define Problem\n",
    "\n",
    "This step is concerned with learning enough about the project to select the framing or framings of the prediction task. For example, is it classification or regression, or some other higher-order problem type?\n",
    "\n",
    "It involves collecting the data that is believed to be useful in making a prediction and clearly defining the form that the prediction will take. It may also involve talking to project stakeholders and other people with deep expertise in the domain.\n",
    "\n",
    "This step also involves taking a close look at the data, as well as perhaps exploring the data using summary statistics and data visualization.\n",
    "\n",
    "This is because of reasons such as:\n",
    "\n",
    "    Machine learning algorithms require data to be numbers.\n",
    "    Some machine learning algorithms impose requirements on the data.\n",
    "    Statistical noise and errors in the data may need to be corrected.\n",
    "    Complex nonlinear relationships may be teased out of the data.\n",
    "    \n",
    "    \n",
    "**Different Name of Data preprocessing** \n",
    "\n",
    "**“data preparation“**, although it goes by many other names, such as **“data wrangling“**, **“data cleaning“**, **“data pre-processing”** and **“feature engineering“**. Some of these names may better **fit as sub-tasks** for the broader data preparation process.\n",
    "\n",
    "\n",
    "  1- **Data Cleaning**: Identifying and correcting mistakes or errors in the data.\n",
    "  \n",
    "  2- **Feature Selection**: Identifying those input variables that are most relevant to the task.\n",
    "  \n",
    "  3 -**Data Transforms**: Changing the scale or distribution of variables.\n",
    "  \n",
    "  4- **Feature Engineering**: Deriving new variables from available data.\n",
    "  \n",
    "  5- **Dimensionality Reduction**: Creating compact projections of the data."
   ]
  },
  {
   "cell_type": "markdown",
   "metadata": {},
   "source": [
    "##### Step 2: Prepare Data\n",
    "\n",
    "This step is concerned with transforming the raw data that was collected into a form that can be used in modeling."
   ]
  },
  {
   "cell_type": "markdown",
   "metadata": {},
   "source": [
    "##### Step 3: Evaluate Models\n",
    "\n",
    "This step is concerned with evaluating machine learning models on your dataset.\n",
    "\n",
    "It requires that you design a robust test harness used to evaluate your models so that the results you get can be trusted and used to select among the models that you have evaluated.\n",
    "\n",
    "This involves tasks such as selecting a performance metric for evaluating the skill of a model, establishing a baseline or floor in performance to which all model evaluations can be compared, and a resampling technique for splitting the data into training and test sets to simulate how the final model will be used.\n",
    "\n",
    "For quick and dirty estimates of model performance, or for a very large dataset, a single train-test split of the data may be performed. It is more common to use k-fold cross-validation as the data resampling technique, often with repeats of the process to improve the robustness of the result.\n",
    "\n",
    "This step also involves tasks for getting the most out of well-performing models such as hyperparameter tuning and ensembles of models."
   ]
  },
  {
   "cell_type": "markdown",
   "metadata": {},
   "source": [
    "##### Step 4: Finalize Model\n",
    "\n",
    "his step is concerned with selecting and using a final model.\n",
    "\n",
    "Once a suite of models has been evaluated, you must choose a model that represents the “solution” to the project. This is called model selection and may involve further evaluation of candidate models on a hold out validation dataset, or selection via other project-specific criteria such as model complexity.\n",
    "\n",
    "It may also involve summarizing the performance of the model in a standard way for project stakeholders, which is an important step.\n",
    "\n",
    "Finally, there will likely be tasks related to the productization of the model, such as integrating it into a software project or production system and designing a monitoring and maintenance schedule for the model.\n",
    "\n",
    "Now that we are familiar with the process of applied machine learning and where data preparation fits into that process, let’s take a closer look at the types of tasks that may be performed."
   ]
  },
  {
   "cell_type": "markdown",
   "metadata": {},
   "source": [
    "#### How to Choose Data Preparation Techniques\n",
    "\n",
    "How do we know what data preparation techniques to use in our data?\n",
    "\n",
    "As with many questions of statistics, the answer to “which feature engineering methods are the best?” is that it depends. Specifically, it depends on the model being used and the true relationship with the outcome.\n",
    "\n",
    "\n",
    "On the surface, this is a challenging question, but if we look at the data preparation step in the context of the whole project, it becomes more straightforward. The steps in a predictive modeling project before and after the data preparation step inform the data preparation that may be required.\n",
    "\n",
    "The step before data preparation involves defining the problem.\n",
    "\n",
    "As part of defining the problem, this may involve many sub-tasks, such as:\n",
    "\n",
    "    Gather data from the problem domain.\n",
    "    Discuss the project with subject matter experts.\n",
    "    Select those variables to be used as inputs and outputs for a predictive model.\n",
    "    Review the data that has been collected.\n",
    "    Summarize the collected data using statistical methods.\n",
    "    Visualize the collected data using plots and charts.\n",
    "    \n",
    "    \n",
    "Model evaluation may involve sub-tasks such as:\n",
    "\n",
    "    Select a performance metric for evaluating model predictive skill.\n",
    "    Select a model evaluation procedure.\n",
    "    Select algorithms to evaluate.\n",
    "    Tune algorithm hyperparameters.\n",
    "    Combine predictive models into ensembles."
   ]
  },
  {
   "cell_type": "markdown",
   "metadata": {},
   "source": [
    "[know more please visit here](https://machinelearningmastery.com/what-is-data-preparation-in-machine-learning/)"
   ]
  },
  {
   "cell_type": "code",
   "execution_count": null,
   "metadata": {},
   "outputs": [],
   "source": []
  }
 ],
 "metadata": {
  "kernelspec": {
   "display_name": "Python 3",
   "language": "python",
   "name": "python3"
  },
  "language_info": {
   "codemirror_mode": {
    "name": "ipython",
    "version": 3
   },
   "file_extension": ".py",
   "mimetype": "text/x-python",
   "name": "python",
   "nbconvert_exporter": "python",
   "pygments_lexer": "ipython3",
   "version": "3.8.5"
  }
 },
 "nbformat": 4,
 "nbformat_minor": 4
}
