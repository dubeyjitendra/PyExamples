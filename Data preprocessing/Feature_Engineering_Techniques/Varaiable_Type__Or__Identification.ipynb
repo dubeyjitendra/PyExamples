{
 "cells": [
  {
   "cell_type": "markdown",
   "metadata": {},
   "source": [
    "### What is a Variable?\n",
    "A variable is any characteristic, number, or quantity that can be measured or counted. We call them variables because the values they take may vary, and usually do.\n",
    "\n",
    "The following are examples of variables:\n",
    "\n",
    "Age (23, 52, 60, …).\n",
    "\n",
    "Gender (male, female)\n",
    "\n",
    "Country of birth (Algeria, USA, Japan, …)\n",
    "\n",
    "Eye color (green, brown, blue, and purple maybe)\n",
    "\n",
    "Vehicle Brand (Buggati, Ferrari)\n",
    "\n",
    "We classify variables in a dataset into one of these major types:\n",
    "\n",
    "       1- Numerical variables\n",
    "       2- Categorical variables\n",
    "       3- Datetime variables\n",
    "       4- Mixed variables\n",
    "       \n",
    "You can get the type of each variable from a Pandas dataframe using the following code snippet:\n",
    "\n",
    "![title](https://assets-global.website-files.com/5debb9b4f88fbc3f702d579e/6083176be7bfde8cffade734_feature-engineering-diagram.png)\n",
    "\n",
    "[Link](https://www.omnisci.com/technical-glossary/feature-engineering)"
   ]
  },
  {
   "cell_type": "code",
   "execution_count": 3,
   "metadata": {},
   "outputs": [
    {
     "name": "stdout",
     "output_type": "stream",
     "text": [
      "day             object\n",
      "temperature    float64\n",
      "windspeed      float64\n",
      "event           object\n",
      "dtype: object\n"
     ]
    }
   ],
   "source": [
    "# import the pandas library\n",
    "import pandas as pd\n",
    "\n",
    "\n",
    "# read your data\n",
    "data = pd.read_csv(\"weather_data_file.csv\")\n",
    "\n",
    "# print out the types\n",
    "print (data.dtypes)"
   ]
  },
  {
   "cell_type": "markdown",
   "metadata": {},
   "source": [
    "##### Numerical Variables\n",
    "The values of numerical variables are (predictably) numbers. For example, total rainfall measured in inches, heart rate, the number of cheeseburgers consumed in an hour—all numerical values.\n",
    "\n",
    "We can further classify them into:\n",
    "- Continuous variables\n",
    "- Discrete variables\n",
    "- Continuous Variable\n",
    "\n",
    "A continuous variable is one that can take on an uncountable set of values. It may contain any value within a given range.\n",
    "For example, the total amount paid by a customer in a supermarket is continuous. The customer can pay $20, $16.50, $150, and so on.\n",
    "\n",
    "Other examples of continuous variables are:\n",
    "House prices (7700$, 83100$, 500$)\n",
    "Time spent shopping (1.5 hours, 30 minutes)\n",
    "A person’s weight (98.2 Kg, 60 Kg)\n",
    "\n",
    "To visualize such a variable we have a range of options, including:\n",
    "\n",
    "- Density plot\n",
    "- Histogram\n",
    "- Box plot\n",
    "- Scatter plot."
   ]
  },
  {
   "cell_type": "code",
   "execution_count": 4,
   "metadata": {},
   "outputs": [
    {
     "name": "stderr",
     "output_type": "stream",
     "text": [
      "C:\\ProgramData\\Anaconda3\\lib\\site-packages\\seaborn\\distributions.py:2551: FutureWarning: `distplot` is a deprecated function and will be removed in a future version. Please adapt your code to use either `displot` (a figure-level function with similar flexibility) or `histplot` (an axes-level function for histograms).\n",
      "  warnings.warn(msg, FutureWarning)\n",
      "C:\\ProgramData\\Anaconda3\\lib\\site-packages\\seaborn\\distributions.py:2551: FutureWarning: `distplot` is a deprecated function and will be removed in a future version. Please adapt your code to use either `displot` (a figure-level function with similar flexibility) or `kdeplot` (an axes-level function for kernel density plots).\n",
      "  warnings.warn(msg, FutureWarning)\n",
      "C:\\ProgramData\\Anaconda3\\lib\\site-packages\\seaborn\\distributions.py:2055: FutureWarning: The `axis` variable is no longer used and will be removed. Instead, assign variables directly to `x` or `y`.\n",
      "  warnings.warn(msg, FutureWarning)\n",
      "C:\\ProgramData\\Anaconda3\\lib\\site-packages\\seaborn\\distributions.py:2551: FutureWarning: `distplot` is a deprecated function and will be removed in a future version. Please adapt your code to use either `displot` (a figure-level function with similar flexibility) or `histplot` (an axes-level function for histograms).\n",
      "  warnings.warn(msg, FutureWarning)\n",
      "C:\\ProgramData\\Anaconda3\\lib\\site-packages\\seaborn\\distributions.py:2055: FutureWarning: The `axis` variable is no longer used and will be removed. Instead, assign variables directly to `x` or `y`.\n",
      "  warnings.warn(msg, FutureWarning)\n",
      "C:\\ProgramData\\Anaconda3\\lib\\site-packages\\seaborn\\_decorators.py:36: FutureWarning: Pass the following variable as a keyword arg: x. From version 0.12, the only valid positional argument will be `data`, and passing other arguments without an explicit keyword will result in an error or misinterpretation.\n",
      "  warnings.warn(\n",
      "C:\\ProgramData\\Anaconda3\\lib\\site-packages\\seaborn\\_decorators.py:36: FutureWarning: Pass the following variables as keyword args: x, y. From version 0.12, the only valid positional argument will be `data`, and passing other arguments without an explicit keyword will result in an error or misinterpretation.\n",
      "  warnings.warn(\n"
     ]
    },
    {
     "data": {
      "text/plain": [
       "<AxesSubplot:ylabel='Density'>"
      ]
     },
     "execution_count": 4,
     "metadata": {},
     "output_type": "execute_result"
    },
    {
     "data": {
      "image/png": "[encoded data removed]",
      "text/plain": [
       "<Figure size 432x288 with 1 Axes>"
      ]
     },
     "metadata": {
      "needs_background": "light"
     },
     "output_type": "display_data"
    }
   ],
   "source": [
    "import seaborn as sns\n",
    "import numpy as np\n",
    "\n",
    "# create two simple continious variables\n",
    "x = np.random.normal(size=100)\n",
    "y = np.random.normal(size=100)\n",
    "\n",
    "# plot the distribution of the data\n",
    "sns.distplot(x)\n",
    "\n",
    "# create a density plot of x variable.\n",
    "sns.distplot(x, hist=False, rug=True)\n",
    "\n",
    "# creates a histogram plot of x variable with red color.\n",
    "sns.distplot(x, kde=False, rug=True, color = \"r\");\n",
    "\n",
    "# creates a box plot of x variable with green color.\n",
    "sns.boxplot(x, color = \"g\");\n",
    "\n",
    "# create a scatter plot of x and y variables.\n",
    "sns.scatterplot(x, y, color = \"g\")"
   ]
  },
  {
   "cell_type": "markdown",
   "metadata": {},
   "source": [
    "##### Discrete Variable\n",
    "\n",
    "A discrete variable is a variable that can only take on a finite number of values, and these values are integers ( — which means numbers that are not a fraction), they are counts.\n",
    "\n",
    "For example, the number of things bought by a customer in a supermarket is discrete. The customer can buy 2, 20, or 150 things, but not 10.4 items. It is always a round number.\n",
    "The following are also examples of discrete variables:\n",
    "Number of active bank accounts for a given client (1, 4, 7)\n",
    "Number of pets in a family\n",
    "\n",
    "The number of connected devices in a network\n",
    "\n",
    "To visualize such discrete variables, you can use the following type of plots:\n",
    "- Count plot\n",
    "- Pie chart"
   ]
  },
  {
   "cell_type": "code",
   "execution_count": 5,
   "metadata": {},
   "outputs": [
    {
     "data": {
      "text/plain": [
       "([<matplotlib.patches.Wedge at 0x212cf136e50>,\n",
       "  <matplotlib.patches.Wedge at 0x212cf195f40>,\n",
       "  <matplotlib.patches.Wedge at 0x212cf1a5490>],\n",
       " [Text(-1.0858746836637898, -0.1757161670935961, 'Third'),\n",
       "  Text(0.9714243951954356, -0.5160762002061154, 'First'),\n",
       "  Text(0.6646263698677192, 0.8765111456658483, 'Second')])"
      ]
     },
     "execution_count": 5,
     "metadata": {},
     "output_type": "execute_result"
    },
    {
     "data": {
      "image/png": "[encoded data removed]",
      "text/plain": [
       "<Figure size 432x288 with 1 Axes>"
      ]
     },
     "metadata": {},
     "output_type": "display_data"
    }
   ],
   "source": [
    "import seaborn as sns\n",
    "import matplotlib.pyplot as plt\n",
    "\n",
    "# loading the titanic dataset.\n",
    "titanic = sns.load_dataset(\"titanic\")\n",
    "\n",
    "# creating a count plot for the class variable.\n",
    "sns.countplot(x=\"class\", data=titanic)\n",
    "\n",
    "# getting the count of each class\n",
    "values = titanic[\"class\"].value_counts().values\n",
    "\n",
    "# getting the labels of each class.\n",
    "labels = titanic[\"class\"].value_counts().index\n",
    "\n",
    "# creating the pie chart.\n",
    "plt.pie(values, labels= labels,  shadow=True, startangle=90)"
   ]
  },
  {
   "cell_type": "markdown",
   "metadata": {},
   "source": [
    "##### Categorical Variables\n",
    "The values of a categorical variable are selected from a group of categories, also called labels. Examples are gender (male or female) and marital status (never married, married, divorced, or widowed).\n",
    "\n",
    "Other examples of categorical variables include:\n",
    "Gender (male, female)\n",
    "Mobile network provider (Mobilis, Vodafone, Orange)\n",
    "City name (Tiaret, Algiers, Texas, Dubai)\n",
    "\n",
    "We can further categorize categorical variables into:\n",
    "- Ordinal variables\n",
    "- Nominal variables\n",
    "\n",
    "##### Ordinal Variable\n",
    "Ordinal variables are variables that exist within meaningfully ordered categories. For example:\n",
    "\n",
    "Student grades on an exam (A, B, C, or F).\n",
    "Days of the week (Sunday, Monday, Tuesday, …)\n",
    "\n",
    "##### Nominal Variable\n",
    "\n",
    "For nominal variables, there isn’t a natural order in the labels. For example, country of birth—with Algeria, USA, South Korea as values—is also categorical, but how they’re ordered doesn’t typically matter.\n",
    "\n",
    "Other examples of nominal variables:\n",
    "Car color (blue, grey, silver)\n",
    "Car make(Citroen, Peugeot)\n",
    "City (Tiaret, Cairo, Dubai)\n"
   ]
  },
  {
   "cell_type": "markdown",
   "metadata": {},
   "source": [
    "##### Dates and Times\n",
    "A particular type of categorical variable are those that take dates or time as values.\n",
    "\n",
    "For example:\n",
    "Date of birth (16–04–1997, 12–01–2012)\n",
    "Date of application (2020-Jan, 2022-Feb)\n",
    "\n",
    "Datetime variables can contain dates only, time, or date and time.\n",
    "\n",
    "We don’t usually work with datetime variables in their raw format because:\n",
    "\n",
    "Date variables contain a considerable number of different categories\n",
    "\n",
    "We can extract much more information from datetime variables by pre-processing them correctly.\n",
    "Besides that, sometimes date variables contain dates that were not present in the dataset used to train the machine learning model. Similarly, date variables can also contain dates placed in the future, with respect to the dates in the training dataset.\n",
    "\n",
    "Therefore, the machine learning model can’t understand what to do with these dates because it never saw them while being trained.\n",
    "\n",
    "In ensuing posts, we’ll cover different techniques for engineering datetime variables.\n",
    "\n",
    "\n",
    "##### Mixed Variables\n",
    "Finally, mixed variables are those whose values can contain both numbers and labels.\n",
    "\n",
    "For a variety of reasons, mixing variables can occur in a given dataset, especially when filling its values.\n",
    "Consider this common example:\n",
    "\n",
    "Let's say we have a number of something, like the income, or the number of children.\n",
    "Now let us say that this number could not be retrieved, for a variety of reasons, like we can’t income of a person because he committed to filling it when we did our survey to gather the data.\n",
    "\n",
    "In this case, we can return a label, and this label can represent the reason behind the issue, like ERROR_OMMIT for client omit to answer.\n",
    "\n",
    "So for some rows, this variable will hold a number that represents the income, and for others, the variable will contain the label ERROR_OMMIT, and that's a mixed variable."
   ]
  },
  {
   "cell_type": "code",
   "execution_count": null,
   "metadata": {},
   "outputs": [],
   "source": [
    "### Reference\n",
    "\n",
    "# https://heartbeat.comet.ml/hands-on-with-feature-engineering-techniques-variables-types-b2120e534680\n",
    "# https://towardsdatascience.com/feature-engineering-techniques-bab6cb39ed7e"
   ]
  }
 ],
 "metadata": {
  "kernelspec": {
   "display_name": "Python 3",
   "language": "python",
   "name": "python3"
  },
  "language_info": {
   "codemirror_mode": {
    "name": "ipython",
    "version": 3
   },
   "file_extension": ".py",
   "mimetype": "text/x-python",
   "name": "python",
   "nbconvert_exporter": "python",
   "pygments_lexer": "ipython3",
   "version": "3.8.5"
  }
 },
 "nbformat": 4,
 "nbformat_minor": 4
}
