{
 "cells": [
  {
   "cell_type": "markdown",
   "metadata": {},
   "source": [
    "**Missing Value Imputation or Missing data Handling**\n",
    "\n",
    "    1- Missing values in numerical data\n",
    "    2- Missing values in categorical data\n",
    "    \n",
    "![title](https://editor.analyticsvidhya.com/uploads/30381Imputation%20Techniques%20types.JPG)\n",
    "    \n",
    "**Most data is of 4 types**:\n",
    "\n",
    "    1- Numeric\n",
    "    2- Categorical\n",
    "    3- Date-time \n",
    "    4- Mixed\n",
    "\n",
    "![title](https://editor.analyticsvidhya.com/uploads/28513Types%20of%20data.JPG)"
   ]
  },
  {
   "cell_type": "markdown",
   "metadata": {},
   "source": [
    "### What is data imputation?"
   ]
  },
  {
   "cell_type": "markdown",
   "metadata": {},
   "source": [
    "**Imputation** is the process of replacing the missing data with approximate values. Instead of deleting any columns or rows that has any missing value, this approach preserves all cases by replacing the missing data with the value estimated by other available information.\n",
    "\n",
    "![title](https://miro.medium.com/max/900/1*KVx4Pzv9Is9vEHCtwniExg.jpeg)"
   ]
  },
  {
   "cell_type": "markdown",
   "metadata": {},
   "source": [
    "## Missing data mechanisms\n",
    "\n",
    "\n",
    "**1.Missing at Random (MAR):-**\n",
    "\n",
    "Any systematic difference between the missing values and the observed values can be explained by differences in observed data. For example, missing blood pressure measurements may be lower than measured blood pressures but only because younger people may be more likely to have missing blood pressure measurements\n",
    "    \n",
    "Missing at random means that the tendency for a data point to be missing is not related to the missing data itself, but it is related to some of the observed data in the dataset.\n",
    "\n",
    "The takeaway here for MAR is that the values of the missing data can somehow be predicted from some of the other variables in the dataset.\n",
    "\n",
    "When data is missing at random, it means that we need to either use an advanced imputation method, such as multiple imputation, or an analysis method specifically designed for missing at random data."
   ]
  },
  {
   "cell_type": "markdown",
   "metadata": {},
   "source": [
    "**2.Missing Completely at Random (MCAR):-**\n",
    "\n",
    "Missing completely at random—There are no systematic differences between the missing values and the observed values. For example, blood pressure measurements may be missing because of breakdown of an automatic sphygmomanometer\n",
    "\n",
    "The fact that a certain value is missing has nothing to do with its assumed value and with the values of other variables.\n",
    "Data which is MCAR happens in practice, although if you are designing an experiment where you decide to eliminate a smaller percentage (let’s say about 5–10%) of the data elements randomly, then the MCAR condition would be met.\n",
    "\n",
    "When data is missing completely at random, it means that we can undertake analyses using only features that have complete data,if we have enough of such features.\n",
    "\n",
    "The MCAR assumption is rarely a good assumption. It is only likely to be true in situations where the data is missing due to some truly random phenomena (e.g., if people were randomly asked 10 of 15 questions in a questionnaire)."
   ]
  },
  {
   "cell_type": "markdown",
   "metadata": {},
   "source": [
    "**3.Missing Not at Random (MNAR):-**\n",
    "\n",
    "Even after the observed data are taken into account, systematic differences remain between the missing values and the observed values. For example, people with high blood pressure may be more likely to miss clinic appointments because they have headaches\n",
    "\n",
    "Data which is not MAR is called not missing at random (NMAR).MNAR data is the most complicated one both in terms of finding it and dealing with it. The fact that the data is missing is related to the unobserved data, i.e. the data that we don’t have, the missingness is related to factors that we didn’t account for.\n",
    "\n"
   ]
  },
  {
   "cell_type": "markdown",
   "metadata": {},
   "source": [
    "#####  1-   To drop entries with missing values in any column in pandas, we can use:"
   ]
  },
  {
   "cell_type": "markdown",
   "metadata": {},
   "source": [
    "![title](https://miro.medium.com/max/2000/1*kePZwsMHYfsoeugZHAqsgA.png)"
   ]
  },
  {
   "cell_type": "markdown",
   "metadata": {},
   "source": [
    "##### 2-  Mean, median, mode imputation\n",
    "\n",
    "![title](https://miro.medium.com/max/700/1*B8FwVJGka2ufJdb8eh2Kug.png)\n",
    "\n",
    "A simple guess of a missing value is the mean, median, or mode (most frequently appeared value) of that variable.\n",
    "\n",
    "In pandas, .fillna can be used to replace NA’s with a specified value.\n",
    "\n",
    "![title](https://miro.medium.com/max/2000/1*vXwzju_8wBs7Tj-3HFsxBw.png)"
   ]
  },
  {
   "cell_type": "code",
   "execution_count": 7,
   "metadata": {},
   "outputs": [],
   "source": [
    "# from sklearn.impute import SimpleImputer\n",
    "# import numpy as np\n",
    "# # create the imputer, the strategy can be mean and median.\n",
    "# imputer = SimpleImputer(missing_values=np.nan, strategy='mean')\n",
    "\n",
    "# # fit the imputer to the train data\n",
    "# imputer.fit(train)\n",
    "\n",
    "# # apply the transformation to the train and test\n",
    "# train = imputer.transform(train)\n",
    "# test = imputer.transform(test)"
   ]
  },
  {
   "cell_type": "markdown",
   "metadata": {},
   "source": [
    "##### 3-  FFill , Bfill and  Interpolation\n",
    "This is known as Last observation carried forward (LOCF). In pandas, this can be done using the ffill method in .fillna.\n",
    "\n",
    "![title](https://miro.medium.com/max/2000/1*zlBhuq1iy5gdVgPAhXBcUA.png)\n",
    "\n",
    "![title](https://miro.medium.com/max/2000/1*0I2cBcSsZaaZIDCMhJNqVA.png)"
   ]
  },
  {
   "cell_type": "markdown",
   "metadata": {},
   "source": [
    "##### 4-K-nearest neighbour (KNN) imputation\n",
    "\n",
    "Besides model-based imputation like regression imputation, neighbour-based imputation can also be used. K-nearest neighbour (KNN) imputation is an example of neighbour-based imputation. For a discrete variable, KNN imputer uses the most frequent value among the k nearest neighbours and, for a continuous variable, use the mean or mode.\n",
    "\n",
    "To use KNN for imputation, first, a KNN model is trained using complete data. For continuous data, commonly used distance metric include Euclidean, Mahapolnis, and Manhattan distance and, for discrete data, hamming distance is a frequent choice.\n",
    "\n",
    "![title](https://miro.medium.com/max/2000/1*V85rT-JMyoVjq0e3UicY8A.png)\n",
    "\n",
    "![title](https://miro.medium.com/max/2000/1*W-xMhw6D5LXcPgUZ-_Fmvw.png)"
   ]
  },
  {
   "cell_type": "markdown",
   "metadata": {},
   "source": [
    "##### However, when deciding how to impute missing values in practice, it is important to consider:\n",
    "\n",
    "    the context of the data\n",
    "    amount of missing data\n",
    "    missing data mechanism\n",
    "    "
   ]
  },
  {
   "cell_type": "code",
   "execution_count": 4,
   "metadata": {},
   "outputs": [
    {
     "data": {
      "text/plain": [
       "day            0\n",
       "temperature    4\n",
       "windspeed      4\n",
       "event          2\n",
       "dtype: int64"
      ]
     },
     "execution_count": 4,
     "metadata": {},
     "output_type": "execute_result"
    }
   ],
   "source": [
    "import pandas as pd\n",
    "\n",
    "## very important to understand the total amout of Missing data\n",
    "df = pd.read_csv(\"weather_data_file.csv\")\n",
    "df.isnull().sum()"
   ]
  },
  {
   "cell_type": "markdown",
   "metadata": {},
   "source": [
    "### Arbitrary Value Imputation\n",
    "\n",
    "Arbitrary value imputation consists of replacing all occurrences of missing values (NA) within a variable with an arbitrary value. The arbitrary value should be different from the mean or median and not within the normal values of the variable.\n",
    "\n",
    "We can use arbitrary values such as 0, 999, -999 (or other combinations of 9s) or -1 (if the distribution is positive).\n",
    "This method is suitable for numerical and categorical variables.\n",
    "\n",
    "Here is an example using 99 as an arbitrary value:\n",
    "\n",
    "![title](https://miro.medium.com/max/700/1*yuD4Otn_pRVJFQpC07CqBQ.png)"
   ]
  },
  {
   "cell_type": "code",
   "execution_count": 8,
   "metadata": {},
   "outputs": [],
   "source": [
    "# from sklearn.impute import SimpleImputer\n",
    "\n",
    "# # create the imputer, with fill value 999 as the arbitraty value\n",
    "# imputer = SimpleImputer(missing_values=np.nan, strategy='constant', fill_value=999)\n",
    "\n",
    "# # fit the imputer to the train data\n",
    "# imputer.fit(train)\n",
    "\n",
    "# # apply the transformation to the train and test\n",
    "# train = imputer.transform(train)\n",
    "# test = imputer.transform(test)"
   ]
  },
  {
   "cell_type": "markdown",
   "metadata": {},
   "source": [
    "### Frequent Category Imputation\n",
    "\n",
    "Frequent category imputation—or mode imputation—consists of replacing all occurrences of missing values (NA) within a variable with the mode, or the most frequent value.\n",
    "\n",
    "This method is suitable for numerical and categorical variables, but in practice, we use this technique with categorical variables.\n",
    "\n",
    "You can use this method when data is missing completely at random, and no more than 5% of the variable contains missing data.\n",
    "Here’s an example:\n",
    "\n",
    "![title](https://miro.medium.com/max/700/1*-ieGos_q5jzLsEy-8uRC6Q.png)"
   ]
  },
  {
   "cell_type": "code",
   "execution_count": 9,
   "metadata": {},
   "outputs": [],
   "source": [
    "# from sklearn.impute import SimpleImputer\n",
    "\n",
    "# # create the imputer, with most frequent as strategy to fill missing value.\n",
    "# imputer = SimpleImputer(missing_values=np.nan, strategy='most_frequent')\n",
    "\n",
    "# # fit the imputer to the train data\n",
    "# imputer.fit(train)\n",
    "\n",
    "# # apply the transformation to the train and test\n",
    "# train = imputer.transform(train)\n",
    "# test = imputer.transform(test)"
   ]
  },
  {
   "cell_type": "markdown",
   "metadata": {},
   "source": [
    "### Missing Category Imputation\n",
    "\n",
    "This method consists of treating missing data as an additional label or category of the variable. Thus, we create a new label or category by filling the missing observations with a Missing category.\n",
    "\n",
    "This method is the most widely used method of missing data imputation for categorical variables.\n",
    "\n",
    "Here is an illustration of that concept:\n",
    "\n",
    "![title](https://miro.medium.com/max/700/1*klRQha8SyL5y_RLsLJOh3A.png)"
   ]
  },
  {
   "cell_type": "code",
   "execution_count": 10,
   "metadata": {},
   "outputs": [],
   "source": [
    "# from sklearn.impute import SimpleImputer\n",
    "\n",
    "# # create the imputer, with most frequent as strategy to fill missing value.\n",
    "# imputer = SimpleImputer(missing_values=np.nan, strategy='constant', fill_value=\"Missing\")\n",
    "\n",
    "# # fit the imputer to the train data\n",
    "# # make sure to select only the categorical variable in the following train and test sets.\n",
    "# imputer.fit(train)\n",
    "\n",
    "# # apply the transformation to the train and test\n",
    "# train = imputer.transform(train)\n",
    "# test = imputer.transform(test)"
   ]
  },
  {
   "cell_type": "markdown",
   "metadata": {},
   "source": [
    "### Complete Case Analysis\n",
    "\n",
    "Complete case analysis (CCA) is a technique that consists of discarding observations where values in any of the variables are missing.\n",
    "\n",
    "In CCA, we keep only those observations for which there’s information in all of the dataset variables. Observations with any missing data are excluded.\n",
    "\n",
    "This method is suitable for both categorical and numerical variables\n",
    "\n",
    "Here is an illustration of the concept:\n",
    "\n",
    "![titlwe](https://miro.medium.com/max/700/1*Y7U_7jZ2Fgr7-dJk7oCZtA.png)\n"
   ]
  },
  {
   "cell_type": "code",
   "execution_count": null,
   "metadata": {},
   "outputs": [],
   "source": [
    "# #read you data and apply that\n",
    "# data.dropna(inplace=True)\n",
    "\n",
    "# ## dropna will drop any row that has at least one variable with na value"
   ]
  },
  {
   "cell_type": "markdown",
   "metadata": {},
   "source": [
    "### Missing Indicator\n",
    "A missing indicator is an additional binary variable that indicates whether the data was missing for an observation (1) or not (0). The goal here is to capture observations where data is missing.\n",
    "\n",
    "The missing indicator is used together with methods that assume data is missing at random:\n",
    "Mean, median, mode imputation.\n",
    "\n",
    "Random sample imputation.\n",
    "\n",
    "This method is suitable for categorical and numerical variables.\n",
    "\n",
    "Here is an illustration of a missing indicator, alongside a random sample imputation (covered in more detail below):\n",
    "\n",
    "![title](https://miro.medium.com/max/700/1*DggtRFgfsUphcKv91AKY7A.png)\n"
   ]
  },
  {
   "cell_type": "code",
   "execution_count": null,
   "metadata": {},
   "outputs": [],
   "source": [
    "# from sklearn.impute import MissingIndicator\n",
    "\n",
    "# # create the object with missing only columns.\n",
    "# indicator = MissingIndicator(error_on_new=True, features='missing-only')\n",
    "# indicator.fit(train)  \n",
    "\n",
    "# # print the columns of missing data.\n",
    "# print(train.columns[indicator.features_])\n",
    "\n",
    "# # get the columns of missing indicators.\n",
    "# temporary = indicator.transform(X_train)\n",
    "\n",
    "# # create a column name for each of the new Missing indicators\n",
    "# indicator_columns = [column +'_NA_IND' for column in train.columns[indicator.features_]]\n",
    "# indicator_df = pd.DataFrame(temporary, columns = indicator_columns)\n",
    "\n",
    "# # create the final train data.\n",
    "# train = pd.concat([train.reset_index(), indicator_df], axis=1)\n",
    "\n",
    "# # now the same for the test set\n",
    "# temporary = indicator.transform(test)\n",
    "# indicator_df =  pd.DataFrame(temporary, columns = indicator_columns)\n",
    "\n",
    "# # create the final test data.\n",
    "# test = pd.concat([ X_test.reset_index(), indicator_df], axis=1)"
   ]
  },
  {
   "cell_type": "markdown",
   "metadata": {},
   "source": [
    "### Random Sample Imputation\n",
    "\n",
    "Random sampling consists of taking a random observation from the pool of available observations of the variable and using those \n",
    "\n",
    "randomly selected values to fill in the missing ones.\n",
    "\n",
    "This method is suitable for numerical and categorical variables.\n",
    "\n",
    "Here’s an illustration of this technique:\n",
    "\n",
    "![title](https://miro.medium.com/max/700/1*BfFBTCleEtbwx4dB9S9hJA.png)"
   ]
  },
  {
   "cell_type": "code",
   "execution_count": null,
   "metadata": {},
   "outputs": [],
   "source": [
    "# from feature_engine.missing_data_imputers import RandomSampleImputer\n",
    "\n",
    "# # create the imputer\n",
    "# imputer = RandomSampleImputer(random_state = 29)\n",
    "\n",
    "# # fit the imputer to the train set\n",
    "# imputer.fit(train)\n",
    "\n",
    "# # transform the data\n",
    "# train_t = imputer.transform(train)\n",
    "# test_t = imputer.transform(test)"
   ]
  },
  {
   "cell_type": "markdown",
   "metadata": {},
   "source": [
    "#### Simple techniques for missing data imputation"
   ]
  },
  {
   "cell_type": "code",
   "execution_count": 13,
   "metadata": {},
   "outputs": [],
   "source": [
    "import pandas as pd\n",
    "pd.set_option('max_columns', None)\n",
    "df = pd.read_csv(\"recipeData.csv\", encoding='latin-1').set_index(\"BeerID\")"
   ]
  },
  {
   "cell_type": "code",
   "execution_count": 15,
   "metadata": {},
   "outputs": [
    {
     "name": "stdout",
     "output_type": "stream",
     "text": [
      "Collecting missingno\n",
      "  Downloading missingno-0.5.0-py3-none-any.whl (8.8 kB)\n",
      "Requirement already satisfied: matplotlib in c:\\programdata\\anaconda3\\lib\\site-packages (from missingno) (3.3.2)\n",
      "Requirement already satisfied: seaborn in c:\\programdata\\anaconda3\\lib\\site-packages (from missingno) (0.11.0)\n",
      "Requirement already satisfied: scipy in c:\\programdata\\anaconda3\\lib\\site-packages (from missingno) (1.5.2)\n",
      "Requirement already satisfied: numpy in c:\\programdata\\anaconda3\\lib\\site-packages (from missingno) (1.19.2)\n",
      "Requirement already satisfied: certifi>=2020.06.20 in c:\\programdata\\anaconda3\\lib\\site-packages (from matplotlib->missingno) (2020.6.20)\n",
      "Requirement already satisfied: kiwisolver>=1.0.1 in c:\\programdata\\anaconda3\\lib\\site-packages (from matplotlib->missingno) (1.3.0)\n",
      "Requirement already satisfied: python-dateutil>=2.1 in c:\\programdata\\anaconda3\\lib\\site-packages (from matplotlib->missingno) (2.8.1)\n",
      "Requirement already satisfied: cycler>=0.10 in c:\\programdata\\anaconda3\\lib\\site-packages (from matplotlib->missingno) (0.10.0)\n",
      "Requirement already satisfied: pyparsing!=2.0.4,!=2.1.2,!=2.1.6,>=2.0.3 in c:\\programdata\\anaconda3\\lib\\site-packages (from matplotlib->missingno) (2.4.7)\n",
      "Requirement already satisfied: pillow>=6.2.0 in c:\\programdata\\anaconda3\\lib\\site-packages (from matplotlib->missingno) (8.0.1)\n",
      "Requirement already satisfied: pandas>=0.23 in c:\\programdata\\anaconda3\\lib\\site-packages (from seaborn->missingno) (1.1.3)\n",
      "Requirement already satisfied: six>=1.5 in c:\\programdata\\anaconda3\\lib\\site-packages (from python-dateutil>=2.1->matplotlib->missingno) (1.15.0)\n",
      "Requirement already satisfied: pytz>=2017.2 in c:\\programdata\\anaconda3\\lib\\site-packages (from pandas>=0.23->seaborn->missingno) (2020.1)\n",
      "Installing collected packages: missingno\n",
      "Successfully installed missingno-0.5.0\n"
     ]
    }
   ],
   "source": [
    "!pip install missingno"
   ]
  },
  {
   "cell_type": "code",
   "execution_count": 16,
   "metadata": {},
   "outputs": [
    {
     "data": {
      "text/plain": [
       "<AxesSubplot:>"
      ]
     },
     "execution_count": 16,
     "metadata": {},
     "output_type": "execute_result"
    },
    {
     "data": {
      "image/png": "[encoded data removed]",
      "text/plain": [
       "<Figure size 864x432 with 3 Axes>"
      ]
     },
     "metadata": {
      "needs_background": "light"
     },
     "output_type": "display_data"
    }
   ],
   "source": [
    "# https://www.kaggle.com/residentmario/simple-techniques-for-missing-data-imputation\n",
    "\n",
    "import missingno as msno\n",
    "import matplotlib.pyplot as plt\n",
    "msno.bar(df, figsize=(12, 6), fontsize=12, color='steelblue')"
   ]
  },
  {
   "cell_type": "markdown",
   "metadata": {},
   "source": [
    "[To know more onfo](https://heartbeat.comet.ml/hands-on-with-feature-engineering-techniques-imputing-missing-values-6c22b49d4060)"
   ]
  },
  {
   "cell_type": "code",
   "execution_count": null,
   "metadata": {},
   "outputs": [],
   "source": [
    "#Reference\n",
    "# https://heartbeat.comet.ml/hands-on-with-feature-engineering-techniques-common-issues-in-datasets-a0c2cf97b1a5\n",
    "# https://scikit-learn.org/stable/auto_examples/impute/plot_missing_values.html\n",
    "# https://www.analyticsvidhya.com/blog/2021/05/dealing-with-missing-values-in-python-a-complete-guide/\n",
    "# https://machinelearningmastery.com/handle-missing-data-python/\n",
    "# https://www.askpython.com/python/examples/impute-missing-data-values\n",
    "# https://www.kaggle.com/residentmario/simple-techniques-for-missing-data-imputation\n",
    "# https://www.residentmar.io/2016/06/12/null-and-missing-data-python.html"
   ]
  }
 ],
 "metadata": {
  "kernelspec": {
   "display_name": "Python 3",
   "language": "python",
   "name": "python3"
  },
  "language_info": {
   "codemirror_mode": {
    "name": "ipython",
    "version": 3
   },
   "file_extension": ".py",
   "mimetype": "text/x-python",
   "name": "python",
   "nbconvert_exporter": "python",
   "pygments_lexer": "ipython3",
   "version": "3.8.5"
  }
 },
 "nbformat": 4,
 "nbformat_minor": 4
}
