{
 "cells": [
  {
   "cell_type": "markdown",
   "metadata": {},
   "source": [
    "# Imbalanced Classification Problems "
   ]
  },
  {
   "cell_type": "markdown",
   "metadata": {},
   "source": [
    "![title](imb_img/imb1.png)"
   ]
  },
  {
   "cell_type": "markdown",
   "metadata": {},
   "source": [
    "1- If you have spent some time in machine learning and data science, you would have definitely come across imbalanced class distribution. This is a scenario where the number of observations belonging to one class is significantly lower than those belonging to the other classes.\n",
    "\n",
    "2- This problem is predominant in scenarios where anomaly detection is crucial like electricity pilferage, fraudulent transactions in banks, identification of rare diseases, etc. In this situation, the predictive model developed using conventional machine learning algorithms could be biased and inaccurate.\n",
    "\n",
    "3- This happens because Machine Learning Algorithms are usually designed to improve accuracy by reducing the error. Thus, they do not take into account the class distribution / proportion or balance of classes.\n",
    "\n",
    "4- This guide describes various approaches for solving such class imbalance problems using various sampling techniques. We also weigh each technique for its pros and cons. Finally, I reveal an approach using which you can create a balanced class distribution and apply ensemble learning technique designed especially for this purpose.\n",
    "\n",
    "1.\tChallenges faced with Imbalanced datasets\n",
    "\n",
    "2.\tApproach to handling Imbalanced Datasets\n"
   ]
  },
  {
   "cell_type": "markdown",
   "metadata": {},
   "source": [
    "One of the main challenges faced by the utility industry today is electricity theft. Electricity theft is the third largest form of theft worldwide. Utility companies are increasingly turning towards advanced analytics and machine learning algorithms to identify consumption patterns that indicate theft.\n",
    "\n",
    "\n",
    "However, one of the biggest stumbling blocks is the humongous data and its distribution. Fraudulent transactions are significantly lower than normal healthy transactions i.e. accounting it to around 1-2 % of the total number of observations. The ask is to improve identification of the rare minority class as opposed to achieving higher overall accuracy.\n",
    "\n",
    "\n",
    "Machine Learning algorithms tend to produce unsatisfactory classifiers when faced with imbalanced datasets. For any imbalanced data set, if the event to be predicted belongs to the minority class and the event rate is less than 5%, it is usually referred to as a rare event.\n",
    "\n",
    "##### Example of imbalanced classes\n",
    "Let’s understand this with the help of an example.\n",
    "\n",
    "Ex: In an utilities fraud detection data set you have the following data:\n",
    "\n",
    "Total Observations = 1000\n",
    "\n",
    "Fraudulent  Observations = 20\n",
    "\n",
    "Non Fraudulent Observations = 980\n",
    "\n",
    "Event Rate= 2 %\n",
    "\n",
    "The main question faced during data analysis is – How to get a balanced dataset by getting a decent number of samples for these anomalies given the rare occurrence for some them?\n",
    "\n",
    "\n",
    "##### Challenges with standard Machine learning techniques\n",
    "The conventional model evaluation methods do not accurately measure model performance when faced with imbalanced datasets.\n",
    "Standard classifier algorithms like Decision Tree and Logistic Regression have a bias towards classes which have number of instances. They tend to only predict the majority class data. The features of the minority class are treated as noise and are often ignored. Thus, there is a high probability of misclassification of the minority class as compared to the majority class.\n",
    "\n",
    "Evaluation of a classification algorithm performance is measured by the Confusion Matrix which contains information about the actual and the predicted class.\n"
   ]
  },
  {
   "cell_type": "markdown",
   "metadata": {},
   "source": [
    "![title](imb_img/imb2.png)\n",
    "\n",
    "However, while working in an imbalanced domain accuracy is not an appropriate measure to evaluate model performance. For eg: A classifier which achieves an accuracy of 98 % with an event rate of 2 % is not accurate, if it classifies all instances as the majority class. And eliminates the 2 % minority class observations as noise"
   ]
  },
  {
   "cell_type": "markdown",
   "metadata": {},
   "source": [
    "#### Examples of imbalanced classes\n",
    "\n",
    "Thus, to sum it up, while trying to resolve specific business challenges with imbalanced data sets, the classifiers produced by standard machine learning algorithms might not give accurate results. Apart from fraudulent transactions, other examples of a common business problem with imbalanced dataset are:\n",
    "\n",
    "•\tDatasets to identify customer churn where a vast majority of customers will continue using the service. Specifically, Telecommunication companies where Churn Rate is lower than 2 %\n",
    ".\n",
    "•\tData sets to identify rare diseases in medical diagnostics etc.\n",
    "\n",
    "•\tNatural Disaster like Earthquakes\n",
    "\n",
    "\n",
    "#### Dataset used\n",
    "\n",
    "In this article, we will illustrate the various techniques to train a model to perform well against highly imbalanced datasets. And accurately predict rare events using the following fraud detection dataset:\n",
    "\n",
    "Total Observations = 1000\n",
    "\n",
    "Fraudulent   Observations =20\n",
    "\n",
    "Non-Fraudulent Observations = 980\n",
    "\n",
    "Event Rate= 2 %\n",
    "\n",
    "Fraud Indicator = 0 for Non-Fraud Instances\n",
    "\n",
    "Fraud Indicator = 1 for Fraud\n"
   ]
  },
  {
   "cell_type": "markdown",
   "metadata": {},
   "source": [
    "## Approach to handling Imbalanced Datasets"
   ]
  },
  {
   "cell_type": "markdown",
   "metadata": {},
   "source": [
    "#### Data Level approach: Resampling Techniques\n",
    "\n",
    "Dealing with imbalanced datasets entails strategies such as improving classification algorithms or balancing classes in the training data (data preprocessing) before providing the data as input to the machine learning algorithm. The later technique is preferred as it has wider application.\n",
    "\n",
    "The main objective of balancing classes is to either increasing the frequency of the minority class or decreasing the frequency of the majority class. This is done in order to obtain approximately the same number of instances for both the classes. Let us look at a few resampling techniques:\n",
    "\n",
    "#### Random Under-Sampling"
   ]
  },
  {
   "cell_type": "markdown",
   "metadata": {},
   "source": [
    "Random Undersampling aims to balance class distribution by randomly eliminating majority class examples.  This is done until the majority and minority class instances are balanced out.\n",
    "\n",
    "Total Observations = 1000\n",
    "\n",
    "Fraudulent   Observations =20\n",
    "\n",
    "Non Fraudulent Observations = 980\n",
    "\n",
    "Event Rate= 2 %\n",
    "\n",
    "In this case we are taking 10 % samples without replacement from Non Fraud instances.  And combining them with Fraud instances.\n",
    "\n",
    "Non Fraudulent Observations after random under sampling = 10 % of 980 =98\n",
    "\n",
    "Total Observations after combining them with Fraudulent observations = 20+98=118\n",
    "\n",
    "Event Rate for the new dataset after under sampling = 20/118 = 17%\n",
    " \n",
    "###### Advantages\n",
    "\n",
    "1- It can help improve run time and storage problems by reducing the number of training data samples when the training data set is huge.\n",
    "\n",
    "###### Disadvantages\n",
    "\n",
    "2- It can discard potentially useful information which could be important for building rule classifiers.\n",
    "\n",
    "3-  The sample chosen by random under sampling may be a biased sample. And it will not be an accurate representative of the population. Thereby, resulting in inaccurate results with the actual test data set.\n"
   ]
  },
  {
   "cell_type": "markdown",
   "metadata": {},
   "source": [
    "### Random Over-Sampling"
   ]
  },
  {
   "cell_type": "markdown",
   "metadata": {},
   "source": [
    "Over-Sampling increases the number of instances in the minority class by randomly replicating them in order to present a higher representation of the minority class in the sample.\n",
    "\n",
    "Total Observations = 1000\n",
    "\n",
    "Fraudulent   Observations =20\n",
    "\n",
    "\n",
    "Non Fraudulent Observations = 980\n",
    "\n",
    "Event Rate= 2 %\n",
    "\n",
    "In this case we are replicating 20 fraud observations   20 times.\n",
    "\n",
    "Non Fraudulent Observations =980\n",
    "\n",
    "Fraudulent Observations after replicating the minority class observations= 400\n",
    "\n",
    "Total Observations in the new data set after oversampling=1380\n",
    "Event Rate for the new data set after under sampling= 400/1380 = 29 %\n",
    "##### Advantages\n",
    "1- Unlike under sampling this method leads to no information loss.\n",
    "2- Outperforms under sampling\n",
    "##### Disadvantages\n",
    "1- It increases the likelihood of overfitting since it replicates the minority class events.\n"
   ]
  },
  {
   "cell_type": "markdown",
   "metadata": {},
   "source": [
    "### Cluster-Based Over Sampling"
   ]
  },
  {
   "cell_type": "markdown",
   "metadata": {},
   "source": [
    "In this case, the K-means clustering algorithm is independently applied to minority and majority class instances. This is to identify clusters in the dataset. Subsequently, each cluster is oversampled such that all clusters of the same class have an equal number of instances and all classes have the same size.  \n",
    "\n",
    "Total Observations = 1000\n",
    "\n",
    "Fraudulent   Observations =20\n",
    "\n",
    "Non Fraudulent Observations = 980\n",
    "\n",
    "Event Rate= 2 %\n",
    "\n",
    "•\tMajority Class Clusters\n",
    "1.\tCluster 1: 150 Observations\n",
    "2.\tCluster 2: 120 Observations\n",
    "3.\tCluster 3: 230 observations\n",
    "4.\tCluster 4: 200 observations\n",
    "5.\tCluster 5: 150 observations\n",
    "6.\tCluster 6: 130 observations\n",
    "\n",
    "•\tMinority  Class Clusters\n",
    "1.\tCluster 1: 8 Observations\n",
    "2.\tCluster 2: 12 Observations\n",
    "\n",
    "\n",
    "After oversampling of each cluster, all clusters of the same class contain the same number of observations.\n",
    "\n",
    "•\tMajority Class Clusters\n",
    "1.\tCluster 1: 170 Observations\n",
    "2.\tCluster 2: 170 Observations\n",
    "3.\tCluster 3: 170 observations\n",
    "4.\tCluster 4: 170   observations\n",
    "5.\tCluster 5: 170   observations\n",
    "6.\tCluster 6: 170   observations\n",
    "\n",
    "•\tMinority   Class Clusters\n",
    "1.\tCluster 1: 250 Observations\n",
    "2.\tCluster 2: 250 Observations\n",
    "\n",
    "Event Rate post cluster based oversampling sampling = 500/ (1020+500) = 33 %\n",
    "\n",
    "##### Advantages\n",
    "1- This clustering technique helps overcome the challenge between class imbalance. Where the number of examples representing positive class differs from the number of examples representing a negative class.\n",
    "\n",
    "2- Also, overcome challenges within class imbalance, where a class is composed of different sub clusters. And each sub cluster does not contain the same number of examples.\n",
    "##### Disadvantages\n",
    "1- The main drawback of this algorithm, like most oversampling techniques is the possibility of over-fitting the training data.\n"
   ]
  },
  {
   "cell_type": "markdown",
   "metadata": {},
   "source": [
    "### Informed Over Sampling: Synthetic Minority Over-sampling Technique"
   ]
  },
  {
   "cell_type": "markdown",
   "metadata": {},
   "source": [
    "This technique is followed to avoid overfitting which occurs when exact replicas of minority instances are added to the main dataset. A subset of data is taken from the minority class as an example and then new synthetic similar instances are created. These synthetic instances are then added to the original dataset. The new dataset is used as a sample to train the classification models.\n",
    "\n",
    "Total Observations = 1000\n",
    "\n",
    "Fraudulent  Observations = 20\n",
    "\n",
    "Non Fraudulent Observations = 980\n",
    "\n",
    "Event Rate = 2 %\n",
    "\n",
    "A sample of 15 instances is taken from the minority class and similar synthetic instances are generated 20 times\n",
    "Post generation of synthetic instances, the following data set is created\n",
    "\n",
    "Minority Class (Fraudulent Observations) = 300\n",
    "\n",
    "Majority Class (Non-Fraudulent Observations) = 980\n",
    "\n",
    "Event rate= 300/1280 = 23.4 %\n",
    " \n",
    "##### Advantages\n",
    "1-Mitigates the problem of overfitting caused by random oversampling as synthetic examples are generated rather than replication of instances\n",
    "2- No loss of useful information\n",
    "##### Disadvantages\n",
    "1-While generating synthetic examples SMOTE does not take into consideration neighboring examples from other classes. This can result in increase in overlapping of classes and can introduce additional noise\n",
    "2-SMOTE is not very effective for high dimensional data\n"
   ]
  },
  {
   "cell_type": "markdown",
   "metadata": {},
   "source": [
    "###### Figure 1:  Synthetic Minority Oversampling Algorithm\n",
    "![title](imb_img/imb3.png)"
   ]
  },
  {
   "cell_type": "markdown",
   "metadata": {},
   "source": [
    "#####  Figure 2: Generation of Synthetic Instances with the help of SMOTE\n",
    "![title](imb_img/imb4.png)\n"
   ]
  },
  {
   "cell_type": "markdown",
   "metadata": {},
   "source": [
    "### synthetic minority oversampling technique (MSMOTE)"
   ]
  },
  {
   "cell_type": "markdown",
   "metadata": {},
   "source": [
    "It is a modified version of SMOTE. SMOTE does not consider the underlying distribution of the minority class and latent noises in the dataset. To improve the performance of SMOTE a modified method MSMOTE is used.\n",
    "\n",
    "This algorithm classifies the samples of minority classes into 3 distinct groups – Security/Safe samples, Border samples, and latent nose samples. This is done by calculating the distances among samples of the minority class and samples of the training data.\n",
    "\n",
    "While the basic flow of MSOMTE is the same as that of SMOTE (discussed in the previous section).  In MSMOTE the strategy of selecting nearest neighbors is different from SMOTE. The algorithm randomly selects a data point from the k nearest neighbors for the security sample, selects the nearest neighbor from the border samples and does nothing for latent noise\n",
    "\n",
    "\n",
    "##### Algorithmic Ensemble Techniques\n",
    "\n",
    "The above section, deals with handling imbalanced data by resampling original data to provide balanced classes. In this section, we are going to look at an alternate approach i.e.  Modifying existing classification algorithms to make them appropriate for imbalanced data sets.\n",
    "\n",
    "The main objective of ensemble methodology is to improve the performance of single classifiers. The approach involves constructing several two stage classifiers from the original data and then aggregate \n",
    "\n",
    "######  Ensemble based \n",
    "\n",
    "![title](imb_img/imb5.png)\n",
    "\n",
    "Total Observations = 1000\n",
    "\n",
    "Fraudulent   Observations =20\n",
    "\n",
    "Non Fraudulent Observations = 980\n",
    "\n",
    "Event Rate= 2 %\n",
    "\n",
    "There are 10 bootstrapped samples chosen from the population with replacement. Each sample contains 200 observations. And each sample is different from the original dataset but resembles the dataset in distribution & variability.\n",
    "The machine learning algorithms like logistic regression, neural networks, decision tree  are fitted to each bootstrapped sample of 200 observations. And the Classifiers c1, c2…c10 are aggregated to produce a compound classifier.  This ensemble methodology produces a stronger compound classifier since it combines the results of individual classifiers to come up with an improved one.\n",
    " \n",
    "###### Advantages\n",
    "o\tImproves stability & accuracy of machine learning algorithms\n",
    "o\tReduces variance\n",
    "o\tOvercomes overfitting\n",
    "o\tImproved misclassification rate of the bagged classifier\n",
    "o\tIn noisy data environments bagging outperforms boosting\n",
    " \n",
    "###### Disadvantages\n",
    "o\tBagging works only if the base classifiers are not bad to begin with. Bagging bad classifiers can further degrade performance\n",
    "\n",
    "\n",
    "###### Bagging Based\n",
    "\n",
    "Bagging is an abbreviation of Bootstrap Aggregating. The conventional bagging algorithm involves generating ‘n’ different bootstrap training samples with replacement. And training the algorithm on each bootstrapped algorithm separately and then aggregating the predictions at the end.\n",
    "\n",
    "Bagging is used for reducing Overfitting in order to create strong learners for generating accurate predictions. Unlike boosting, bagging allows replacement in the bootstrapped sample.\n",
    "\n",
    "![title](imb_img/imb6.png)\n",
    "\n",
    "\n",
    "Boosting is an ensemble technique to combine weak learners to create a strong learner that can make accurate predictions. Boosting starts out with a base classifier / weak classifier that is prepared on the training data.\n",
    "What are base learners / weak classifiers?\n",
    "\n",
    "The base learners / Classifiers are weak learners i.e. the prediction accuracy is only slightly better than average. A classifier learning algorithm is said to be weak when small changes in data induce big changes in the classification model.\n",
    "In the next iteration, the new classifier focuses on or places more weight to those cases which were incorrectly classified in the last round.\n",
    "\n",
    "![title](imb_img/imb7.png)\n"
   ]
  },
  {
   "cell_type": "markdown",
   "metadata": {},
   "source": [
    "##### Adaptive Boosting- Ada Boost\n",
    "Ada Boost is the first original boosting technique which creates a highly accurate prediction rule by combining many weak and inaccurate rules.  Each classifier is serially trained with the goal of correctly classifying examples in every round that were incorrectly classified in the previous round.\n",
    "\n",
    "For a learned classifier to make strong predictions it should follow the following three conditions:\n",
    "\n",
    "•\tThe rules should be simple\n",
    "\n",
    "•\tClassifier should have been trained on sufficient number of training examples\n",
    "\n",
    "•\tThe Classifier should have low training error for the training instances\n",
    "\n",
    "Each of the weak hypothesis has an accuracy slightly better than random guessing i.e. Error Term € (t) should be slightly more than ½-β where β >0. This is the fundamental assumption of this boosting algorithm which can produce a final hypothesis with a small error\n",
    "\n",
    "After each round, it gives more focus to examples that are harder to classify.  The quantity of focus is measured by a weight, which initially is equal for all instances. After each iteration, the weights of misclassified instances are increased and the weights of correctly classified instances are decreased.\n",
    "\n",
    "![title](imb_img/imb8.png)\n",
    "\n",
    "For example in a data set containing 1000 observations out of which 20 are labelled fraudulent. Equal weights W1 are assigned to all observations and the base classifier accurately classifies 400 observations.\n",
    "Weight of each of the 600 misclassified observations is increased to w2 and weight of each of the correctly classified observations is reduced to w3.\n",
    "In each iteration, these updated weighted observations are fed to the weak classifier to improve its performance. This process continues till the misclassification rate significantly decreases thereby resulting in a strong classifier.\n",
    " \n",
    "###### Advantages\n",
    "1.\tVery Simple to implement\n",
    "2.\tGood generalization- suited for any kind of classification problem ü Not prone to overfitting\n",
    " \n",
    "##### Disadvantages\n",
    "1.\tSensitive to noisy data and outliers\n",
    "\n"
   ]
  },
  {
   "attachments": {},
   "cell_type": "markdown",
   "metadata": {},
   "source": [
    "##### Gradient Tree Boosting\n",
    "\n",
    "In Gradient Boosting many models are trained sequentially. It is a numerical optimization algorithm where each model minimizes the loss function, y = ax+b+e, using the Gradient Descent Method.\n",
    "\n",
    "Decision Trees are used as weak learners in Gradient Boosting.\n",
    "\n",
    "While both Adaboost and Gradient Boosting work on weak learners / classifiers. And try to boost them into a strong learner, there are some fundamental differences in the two methodologies. Adaboost either requires the users to specify a set of weak learners  or randomly generates the weak learners before the actual learning process. The weight of each learner is adjusted at every step depending on whether it predicts a sample correctly.\n",
    "\n",
    "On the other hand, Gradient Boosting builds the first learner on the training dataset to predict the samples, calculates the loss (Difference between real value and output of the first learner). And use this loss to build an improved learner in the second stage.\n",
    "\n",
    "At every step, the residual of the loss function is calculated using the Gradient Descent Method and the new residual becomes a target variable for the subsequent iteration.\n",
    "\n",
    "Gradient Boosting can be done using the Gradient Boosting Node in SAS Miner and GBM package in R\n",
    "\n",
    "![title](imb_img/imb9.png)\n",
    "\n",
    "For example: In a training data set containing 1000 observations out of which 20 are labelled fraudulent an initial base classifier. Target Variable Fraud =1 for fraudulent transactions and Fraud=0 for not fraud transactions.\n",
    "\n",
    "For eg: Decision tree is fitted which accurately classifying only 5 observations as Fraudulent observations. A differentiable loss function is calculated based on the difference between the actual output and the predicted output of this step.  The residual of the loss function is the target variable (F1) for the next iteration.\n",
    "Similarly, this algorithm internally calculates the loss function, updates the target at every stage and comes up with an improved classifier as compared to the initial classifier.\n",
    " \n",
    "•\tDisadvantages\n",
    "o\tGradient Boosted trees are harder to fit than random forests\n",
    "o\tGradient Boosting Algorithms generally have 3 parameters which can be fine-tuned, Shrinkage parameter, depth of the tree, the number of trees. Proper training of each of these parameters is needed for a good fit. If parameters are not tuned correctly it may result in over-fitting.\n"
   ]
  },
  {
   "cell_type": "markdown",
   "metadata": {},
   "source": [
    "##### XG Boost\n",
    "\n",
    "XGBoost (Extreme Gradient Boosting) is an advanced and more efficient implementation of Gradient Boosting Algorithm discussed in the previous section.\n",
    "\n",
    "Advantages over Other Boosting Techniques\n",
    "\n",
    "•\tIt is 10 times faster than the normal Gradient Boosting as it implements parallel processing. It is highly flexible as users can \n",
    "\n",
    "XGBoost (Extreme Gradient Boosting) is an advanced and more efficient implementation of Gradient Boosting Algorithm discussed in the previous section.\n",
    "Advantages over Other Boosting Techniques\n",
    "•\tIt is 10 times faster than the normal Gradient Boosting as it implements parallel processing. It is highly flexible as users can "
   ]
  },
  {
   "cell_type": "markdown",
   "metadata": {},
   "source": [
    "##### Illustrative Example\n",
    "\n",
    "Data Description:\n",
    "\n",
    "The illustrative telecom churn dataset has  47241 client records with each record containing information about 27 key predictor variables\n",
    "\n",
    "![title](imb_img/imb10.png)\n",
    "\n",
    "data structure  of the rare event data set is shown below post missing value removal, outlier treatment and dimension reduction.\n",
    "\n",
    "![title](imb_img/imb11.png)\n",
    "\n",
    "download link: https://s3-ap-south-1.amazonaws.com/av-blog-media/wp-content/uploads/2017/03/17063705/SampleData_IMC.csv\n"
   ]
  },
  {
   "cell_type": "code",
   "execution_count": null,
   "metadata": {},
   "outputs": [],
   "source": []
  }
 ],
 "metadata": {
  "kernelspec": {
   "display_name": "Python 3",
   "language": "python",
   "name": "python3"
  },
  "language_info": {
   "codemirror_mode": {
    "name": "ipython",
    "version": 3
   },
   "file_extension": ".py",
   "mimetype": "text/x-python",
   "name": "python",
   "nbconvert_exporter": "python",
   "pygments_lexer": "ipython3",
   "version": "3.6.5"
  }
 },
 "nbformat": 4,
 "nbformat_minor": 2
}
