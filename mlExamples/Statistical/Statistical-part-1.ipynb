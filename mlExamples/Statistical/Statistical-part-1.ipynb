{
  "nbformat": 4,
  "nbformat_minor": 0,
  "metadata": {
    "colab": {
      "name": "Statistical_Info.ipynb",
      "version": "0.3.2",
      "provenance": [],
      "collapsed_sections": []
    },
    "kernelspec": {
      "name": "python3",
      "display_name": "Python 3"
    }
  },
  "cells": [
    {
      "cell_type": "markdown",
      "metadata": {
        "id": "Modq0aC3nb5g",
        "colab_type": "text"
      },
      "source": [
        "# Mean\n",
        "\n",
        "Add all the observations of the given data set and divide it by the total no. of observations in the given data set\n",
        "\n",
        "Eg-1,2,3,4,5,6,7,8,9\n",
        "\n",
        "**Formula : all the observations of the given data  /  total no. of observations**\n",
        "\n",
        "all the observations of the given data = 1,2,3,4,5,6,7,8,9\n",
        "\n",
        "total no. of observations = 9\n",
        "\n",
        "\n",
        "Mean = 1 + 2 + 3 + 4 + 5 + 6 + 7 + 8 + 9 / 9\n",
        "\n",
        "Mean =37.0\n"
      ]
    },
    {
      "cell_type": "markdown",
      "metadata": {
        "id": "tJB0sSLtooPB",
        "colab_type": "text"
      },
      "source": [
        "# Median\n",
        "\n",
        "\n",
        "Median is the value which divides the data set into two equal parts. Median is the (n+1)/2 th observation, where n is the total no. of observations.\n",
        "*Arrange all the data values in an ascending order.\n",
        "\n",
        "**Formula = (n+1)/2**\n",
        "\n",
        "\n",
        "Eg-1,2,3,4,5,6,7,8,9\n",
        "\n",
        "total no. of observations = 9\n",
        "\n",
        "Median = (9 + 1) /2 \n",
        "\n",
        "Median = 5 (5rd observation)\n",
        "\n",
        "Answer : 1,2,3,4,**5**,6,7,8,9\n"
      ]
    },
    {
      "cell_type": "markdown",
      "metadata": {
        "id": "NJapSsYSpGyZ",
        "colab_type": "text"
      },
      "source": [
        "# Mode\n",
        "\n",
        "\n",
        "Mode is the data value corresponding to the highest frequency. It is that value which occurs maximum no. of times in the data set. \n",
        "\n",
        "**Mode =  value which occurs maximum no. of times in the data set.**\n",
        "\n",
        "\n",
        "Eg-  1,2,2,2,3,4,4,5,6,7.\n",
        "\n",
        "**Mode=2 (occurs 3 times).**\n",
        "\n"
      ]
    },
    {
      "cell_type": "markdown",
      "metadata": {
        "id": "KbvtSz8wpvJA",
        "colab_type": "text"
      },
      "source": [
        "# Range\n",
        "\n",
        "\n",
        "**Range is the difference between the lowest and highest values.**\n",
        "\n",
        "Eg: In {4, 6, 9, 3, 7} the **lowest value is 3**, and the** highest is 9**.\n",
        "\n",
        "So the range is 9 − 3 = 6\n",
        "\n",
        "![alt text](https://www.mathsisfun.com/data/images/range.svg).\n",
        "\n",
        "Range = 6"
      ]
    },
    {
      "cell_type": "markdown",
      "metadata": {
        "id": "AluB7GgCqf9A",
        "colab_type": "text"
      },
      "source": [
        "# Standard deviation\n",
        "\n",
        "Please refer below link to get more details:\n",
        "\n",
        "https://www.mathsisfun.com/data/standard-deviation-formulas.html\n",
        "\n",
        "\n",
        "Statand deviation( σ) = ![alt text](https://www.mathsisfun.com/data/images/standard-deviation-formula.gif)\n",
        "\n",
        "Work out the mean (μ) = 9+2+5+4+12+7+8+11+9+3+7+4+12+5+4+10+9+6+9+4/ 20\n",
        "                                        =  140/20 = 7\n",
        "\n",
        "So: μ = 7\n",
        "\n",
        "So what is xi ? They are the individual x values 9, 2, 5, 4, 12, 7, etc...\n",
        "\n",
        "(xi - μ)^2  of each observation\n",
        "\n",
        "Total Number of Observation (N) = 20"
      ]
    },
    {
      "cell_type": "markdown",
      "metadata": {
        "id": "AvLjWuNsslRS",
        "colab_type": "text"
      },
      "source": [
        "# Correlation\n",
        "\n",
        "Please refer below link to get more details:\n",
        "\n",
        "https://www.mathsisfun.com/data/correlation.html\n",
        "\n",
        "\n",
        "**Correlation** :  When two sets of data are strongly linked together we say they have a High Correlation.\n",
        "\n",
        "**The word Correlation is made of Co- (meaning \"together\"), and Relation**\n",
        "\n",
        "1.   Correlation is Positive when the values increase together, and\n",
        "2.   Correlation is Negative when one value decreases as the other increases\n",
        "\n",
        "A correlation is assumed to be linear (following a line).\n",
        "\n",
        "![alt text](https://www.mathsisfun.com/data/images/correlation-examples.svg)\n",
        "\n",
        "**Correlation can have a value:**\n",
        "\n",
        "1 is a perfect positive correlation\n",
        "\n",
        "0 is no correlation (the values don't seem linked at all)\n",
        "\n",
        "-1 is a perfect negative correlation\n",
        "\n",
        "\n",
        "Formula: \n",
        "\n",
        "![alt text](https://www.mathsisfun.com/data/images/correlation-formula.gif)\n",
        "\n",
        "![alt text](https://www.mathsisfun.com/data/images/correlation-calc1.svg)\n",
        "\n",
        "calculate the value 0.9575\n"
      ]
    },
    {
      "cell_type": "markdown",
      "metadata": {
        "id": "-wIw1xWOu8Qx",
        "colab_type": "text"
      },
      "source": [
        "# Correlation coefficients\n",
        "\n",
        "**It is referred to as Pearson's correlation or simply as the correlation coefficient.**\n",
        "\n",
        "The correlation coefficient is a statistical measure that calculates the strength of the relationship between the relative movements of two variables. The values range between -1.0 and 1.0. A calculated number greater than 1.0 or less than -1.0 means that there was an error in the correlation measurement. A correlation of -1.0 shows a perfect negative correlation, while a correlation of 1.0 shows a perfect positive correlation. A correlation of 0.0 shows no relationship between the movement of the two variables.\n",
        "\n",
        "\n",
        "Correlation Coefficient :\n",
        "![alt text](https://www.investopedia.com/thmb/vulrifZjKlDz57pU2uPMqgT6JFQ=/300x0/filters:no_upscale():max_bytes(150000):strip_icc():format(webp)/correlation-5bfd6eefc9e77c00517e43b7)\n",
        "\n",
        "\n",
        "\n",
        "---\n",
        "\n",
        "Rain in cm, X = (42.8, 37.8, 30.4) and corresponding temperature in Celsius, Y = (22.8, 22.9, 23.9). \n",
        "\n",
        "![alt text](https://qph.fs.quoracdn.net/main-qimg-4808aeae91366432d60448645ee6e58d)\n",
        "\n",
        "\n",
        "\n",
        "---\n",
        "\n",
        "\n",
        "\n",
        "![alt text](https://qph.fs.quoracdn.net/main-qimg-4808aeae91366432d60448645ee6e58d)\n",
        "\n",
        "\n",
        "---\n",
        "\n",
        "![alt text](https://qph.fs.quoracdn.net/main-qimg-8b12332cd8705ae145eae1f90d02bca7)\n",
        "\n",
        "\n",
        "\n",
        "---\n",
        "\n",
        "\n",
        "\n",
        "![alt text](https://qph.fs.quoracdn.net/main-qimg-1dc1279598aadc9892c35807751658b8)\n",
        "\n",
        "\n",
        "\n",
        "\n",
        "---\n",
        "\n",
        "![alt text](https://qph.fs.quoracdn.net/main-qimg-508227c21f5d4e9e3d4a2f34ba006de9)"
      ]
    },
    {
      "cell_type": "markdown",
      "metadata": {
        "id": "ltp_seRCyd-c",
        "colab_type": "text"
      },
      "source": [
        "# Is there any difference between correlation and correlation coefficient?\n",
        "\n",
        "**Correlation** is a measurement of how strong are two variables linearly related.\n",
        "\n",
        "\n",
        "**Correlation coefficient** is a number between -1 and 1 that shows the result of correlation. The closer it is to 1, the stronger positive linear relationship do the two variables have. The closer it is to -1, the stronger negative linear relationship do they have. If it's close to 0, weak linear relationship is indicated.\n",
        "\n",
        "\n",
        "\n",
        "The relationship between correlation and correlation coefficient can be interpreted as that of thermometer and temperature.\n",
        "\n",
        "\n",
        "Definition\n",
        "\n",
        "**Correlation Coefficient** is a coefficient which tells you about the relationship between variables in terms of \"quantitative measure\". \n",
        "Usually denoted by r tells us how closely data in a scatterplot fall along a straight line. r value will lie between -1 to 1. \n",
        "If the number is negative it means weak correlation, Positive means strong correlation and zero means no correlation.\n",
        "Correlation is a \"term\" commonly used for relationship among variables."
      ]
    },
    {
      "cell_type": "markdown",
      "metadata": {
        "id": "5AjJcoH_zGSH",
        "colab_type": "text"
      },
      "source": [
        "# Covariance\n",
        "\n",
        "Covariance is a statistical calculation that helps you understand how two sets of data are related to each other\n",
        "\n",
        "![alt text](https://www.wikihow.com/images/thumb/9/94/Calculate-Covariance-Step-1-Version-4.jpg/aid867297-v4-728px-Calculate-Covariance-Step-1-Version-4.jpg.webp)\n",
        "\n",
        "\n",
        "\n",
        "---\n",
        "\n",
        "![alt text](https://www.wikihow.com/images/thumb/4/44/Calculate-Covariance-Step-8-Version-2.jpg/aid867297-v4-728px-Calculate-Covariance-Step-8-Version-2.jpg.webp)\n",
        "\n",
        "\n",
        "\n",
        "---\n",
        "\n",
        "![alt text](https://www.wikihow.com/images/thumb/a/af/Calculate-Covariance-Step-9-Version-2.jpg/aid867297-v4-728px-Calculate-Covariance-Step-9-Version-2.jpg.webp)\n",
        "\n",
        "\n",
        "\n",
        "---\n",
        "\n",
        "\n",
        "\n",
        "\n",
        "![alt text](https://www.wikihow.com/images/thumb/f/fd/Calculate-Covariance-Step-10-Version-2.jpg/aid867297-v4-728px-Calculate-Covariance-Step-10-Version-2.jpg.webp)"
      ]
    },
    {
      "cell_type": "markdown",
      "metadata": {
        "id": "GvNf5AqU0VpZ",
        "colab_type": "text"
      },
      "source": [
        "# Difference Between Correlation vs Covariance\n",
        "\n",
        "\n",
        "The following points are noteworthy so far as the difference between covariance and correlation is concerned:\n",
        "\n",
        "1. A measure used to indicate the extent to which two random variables change in tandem is known as covariance. A measure used to represent how strongly two random variables are related known as correlation.\n",
        "\n",
        "2. Covariance is nothing but a measure of correlation. On the contrary, correlation refers to the scaled form of covariance.\n",
        "\n",
        "3. The value of correlation takes place between -1 and +1. Conversely, the value of covariance lies between -∞ and +∞.\n",
        "\n",
        "4. Covariance is affected by the change in scale, i.e. if all the value of one variable is multiplied by a constant and all the value of another variable are multiplied, by a similar or different constant, then the covariance is changed. As against this, correlation is not influenced by the change in scale.\n",
        "\n",
        "5. Correlation is dimensionless, i.e. it is a unit-free measure of the relationship between variables. Unlike covariance, where the value is obtained by the product of the units of the two variables.\n",
        "\n",
        "\n",
        "refer below link to more covariance calculation :\n",
        "\n",
        "https://towardsdatascience.com/let-us-understand-the-correlation-matrix-and-covariance-matrix-d42e6b643c22"
      ]
    },
    {
      "cell_type": "markdown",
      "metadata": {
        "id": "dGGQEp1Q1ESx",
        "colab_type": "text"
      },
      "source": [
        "# Sampling\n",
        "\n",
        "Below link to get more details :\n",
        "https://www.mathsisfun.com/data/sampling.html\n",
        "\n",
        "Population: The whole group we are interested in\n",
        "Census: A collection of data from the whole population\n",
        "Sample: A collection of data from part of the population\n",
        "But how do we choose what members of the population to sample?\n",
        "\n",
        "There are 4 main methods:\n",
        "\n",
        "![alt text](https://www.mathsisfun.com/data/images/sample-random.svg)\n",
        "Random Sample\n",
        "(pick randomly from list)\n",
        "\n",
        "![alt text](https://www.mathsisfun.com/data/images/sample-systematic.svg)\n",
        "Systematic Sample\n",
        "(such as every 4th)\n",
        "\n",
        "![alt text](https://www.mathsisfun.com/data/images/sample-stratified.svg)\n",
        "Stratified Sample\n",
        "(randomly, but in ratio to group size)\n",
        "\n",
        "\n",
        "![alt text](https://www.mathsisfun.com/data/images/sample-cluster.svg)\n",
        "\n",
        "Cluster Sample\n",
        "(choose whole groups randomly)\n",
        "\n",
        "\n"
      ]
    },
    {
      "cell_type": "markdown",
      "metadata": {
        "id": "Vj7NrjnZ2-eh",
        "colab_type": "text"
      },
      "source": [
        "# Normal distribution \n",
        "\n",
        "Refer the link which you can take lot more information:\n",
        "https://www.mathsisfun.com/data/standard-normal-distribution.html\n",
        "\n",
        "Any distribution is known as Normal distribution if it has the following characteristics: The mean, median and mode of the distribution coincide. The curve of the distribution is bell-shaped and symmetrical about the line x=μ.\n",
        "\n",
        "Data can be \"distributed\" (spread out) in different ways.\n",
        "\n",
        "It can be spread out more on the left\n",
        "![alt text](https://www.mathsisfun.com/data/images/normal-distribution-skew-left.gif)\n",
        "\n",
        "\n",
        "\n",
        "![alt text](https://www.mathsisfun.com/data/images/normal-distribution-skew-right.gif)\n",
        "Or more on the right\n",
        "\n",
        "\n",
        "Or it can be all jumbled up\n",
        "![alt text](https://www.mathsisfun.com/data/images/normal-distribution-random.gif)\n",
        "\n",
        "\n",
        "But there are many cases where the data tends to be around a central value with no bias left or right, and it gets close to a \"Normal Distribution\" like this:\n",
        "\n",
        "![alt text](https://www.mathsisfun.com/data/images/normal-distribution-1.svg)\n",
        "\n",
        "A Normal Distribution\n",
        "\n",
        "The \"Bell Curve\" is a Normal Distribution. \n",
        "And the yellow histogram shows some data that \n",
        "follows it closely, but not perfectly (which is usual).\n",
        "\n",
        "We say the data is \"normally distributed\":\n",
        "\n",
        "![alt text](https://www.mathsisfun.com/data/images/normal-distribution-2.svg)\n",
        "\n",
        "The Normal Distribution has:\n",
        "\n",
        "mean = median = mode\n",
        "symmetry about the center\n",
        "50% of values less than the mean \n",
        "and 50% greater than the mean"
      ]
    }
  ]
}