{
 "cells": [
  {
   "attachments": {},
   "cell_type": "markdown",
   "metadata": {},
   "source": [
    "#### This is a Multi Regression Problems\n",
    "\n",
    "In defintion terms, when we want to predict the value of a variable based on the value of two or more other variables,\n",
    "\n",
    "<b>Independent variable:</b>\n",
    "\n",
    "Areaofhouse\n",
    "\n",
    "bedrooms\n",
    "\n",
    "age\n",
    "\n",
    "\n",
    "\n",
    "\n",
    "<b>Dependent variable:</b>\n",
    "\n",
    "priceofhouse\n",
    "\n",
    "\n",
    "<b>Based on Independent variable we will predict the dependent variable.</b>\n",
    "\n",
    "Set the value in multi linear Formula:\n",
    "\n",
    "<b>Y = M1X1 + M2X2  + M3X3 + B </b>\n",
    "\n",
    "<b>priceofhouse = m1 * Areaofhouse + m2 * bedrooms + m3 * age + b</b>\n",
    "\n",
    "where \n",
    "\n",
    "   m1=m2=m3 is coefficient or called slope.\n",
    "   \n",
    "   b is intercept\n",
    "\n",
    "\n",
    "\n"
   ]
  },
  {
   "cell_type": "code",
   "execution_count": 3,
   "metadata": {},
   "outputs": [],
   "source": [
    "#Import all neccessary modules \n",
    "import pandas as pd\n",
    "import numpy as np\n",
    "from sklearn import linear_model\n"
   ]
  },
  {
   "cell_type": "code",
   "execution_count": 4,
   "metadata": {},
   "outputs": [],
   "source": [
    "# importing the training dataset\n",
    "\n",
    "df = pd .read_csv(\"house_price_multivarite.csv\")"
   ]
  },
  {
   "cell_type": "code",
   "execution_count": 5,
   "metadata": {},
   "outputs": [
    {
     "data": {
      "text/html": [
       "<div>\n",
       "<style scoped>\n",
       "    .dataframe tbody tr th:only-of-type {\n",
       "        vertical-align: middle;\n",
       "    }\n",
       "\n",
       "    .dataframe tbody tr th {\n",
       "        vertical-align: top;\n",
       "    }\n",
       "\n",
       "    .dataframe thead th {\n",
       "        text-align: right;\n",
       "    }\n",
       "</style>\n",
       "<table border=\"1\" class=\"dataframe\">\n",
       "  <thead>\n",
       "    <tr style=\"text-align: right;\">\n",
       "      <th></th>\n",
       "      <th>Areaofhouse</th>\n",
       "      <th>bedrooms</th>\n",
       "      <th>age</th>\n",
       "      <th>priceofhouse</th>\n",
       "    </tr>\n",
       "  </thead>\n",
       "  <tbody>\n",
       "    <tr>\n",
       "      <th>0</th>\n",
       "      <td>2000</td>\n",
       "      <td>3</td>\n",
       "      <td>30</td>\n",
       "      <td>550000</td>\n",
       "    </tr>\n",
       "    <tr>\n",
       "      <th>1</th>\n",
       "      <td>4000</td>\n",
       "      <td>4</td>\n",
       "      <td>20</td>\n",
       "      <td>565000</td>\n",
       "    </tr>\n",
       "    <tr>\n",
       "      <th>2</th>\n",
       "      <td>6000</td>\n",
       "      <td>3</td>\n",
       "      <td>17</td>\n",
       "      <td>610000</td>\n",
       "    </tr>\n",
       "    <tr>\n",
       "      <th>3</th>\n",
       "      <td>8000</td>\n",
       "      <td>4</td>\n",
       "      <td>25</td>\n",
       "      <td>680000</td>\n",
       "    </tr>\n",
       "    <tr>\n",
       "      <th>4</th>\n",
       "      <td>10000</td>\n",
       "      <td>3</td>\n",
       "      <td>36</td>\n",
       "      <td>750000</td>\n",
       "    </tr>\n",
       "  </tbody>\n",
       "</table>\n",
       "</div>"
      ],
      "text/plain": [
       "   Areaofhouse  bedrooms  age  priceofhouse\n",
       "0         2000         3   30        550000\n",
       "1         4000         4   20        565000\n",
       "2         6000         3   17        610000\n",
       "3         8000         4   25        680000\n",
       "4        10000         3   36        750000"
      ]
     },
     "execution_count": 5,
     "metadata": {},
     "output_type": "execute_result"
    }
   ],
   "source": [
    "df.head()"
   ]
  },
  {
   "cell_type": "code",
   "execution_count": 6,
   "metadata": {},
   "outputs": [],
   "source": [
    "# Create the object of linear model\n",
    "multi_lin_model = linear_model.LinearRegression()"
   ]
  },
  {
   "cell_type": "code",
   "execution_count": 7,
   "metadata": {},
   "outputs": [
    {
     "data": {
      "text/plain": [
       "LinearRegression(copy_X=True, fit_intercept=True, n_jobs=None,\n",
       "         normalize=False)"
      ]
     },
     "execution_count": 7,
     "metadata": {},
     "output_type": "execute_result"
    }
   ],
   "source": [
    "# Fitting the training data\n",
    "multi_lin_model.fit(df[['Areaofhouse','bedrooms','age']],df.priceofhouse)"
   ]
  },
  {
   "cell_type": "code",
   "execution_count": 20,
   "metadata": {},
   "outputs": [
    {
     "data": {
      "text/plain": [
       "array([520157.21742726])"
      ]
     },
     "execution_count": 20,
     "metadata": {},
     "output_type": "execute_result"
    }
   ],
   "source": [
    "# Predict the priceofhouse based on input parameter( AreofHouse, bedrooms and age)\n",
    "multi_lin_model.predict([[1600,4,25]])"
   ]
  },
  {
   "cell_type": "code",
   "execution_count": 21,
   "metadata": {},
   "outputs": [
    {
     "data": {
      "text/plain": [
       "array([   28.67822626, 18591.65848364,   528.96790532])"
      ]
     },
     "execution_count": 21,
     "metadata": {},
     "output_type": "execute_result"
    }
   ],
   "source": [
    "# Cofficients\n",
    "\n",
    "multi_lin_model.coef_"
   ]
  },
  {
   "cell_type": "code",
   "execution_count": 22,
   "metadata": {},
   "outputs": [
    {
     "data": {
      "text/plain": [
       "386681.22383585706"
      ]
     },
     "execution_count": 22,
     "metadata": {},
     "output_type": "execute_result"
    }
   ],
   "source": [
    "# To get the interceept value\n",
    "multi_lin_model.intercept_"
   ]
  },
  {
   "cell_type": "code",
   "execution_count": 23,
   "metadata": {},
   "outputs": [
    {
     "data": {
      "text/plain": [
       "520157.21741941705"
      ]
     },
     "execution_count": 23,
     "metadata": {},
     "output_type": "execute_result"
    }
   ],
   "source": [
    " # Summarizing with Formula\n",
    "\n",
    "# priceofhouse   = m1 * Areaofhouse + m2 * bedrooms + m3 * age + b\n",
    "\n",
    "m1=28.67822626\n",
    "\n",
    "m2 = 18591.65848364\n",
    "\n",
    "m3 = 528.96790532\n",
    "\n",
    "Areaofhouse= 1600\n",
    "\n",
    "bedrooms= 4\n",
    "\n",
    "age= 25\n",
    "\n",
    "b= 386681.22383585706\n",
    "\n",
    "result = m1 * Areaofhouse + m2 * bedrooms + m3 * age + b\n",
    "result\n",
    "\n",
    "\n",
    "If we can check both predicated value and summarize is same.\n"
   ]
  },
  {
   "cell_type": "code",
   "execution_count": null,
   "metadata": {},
   "outputs": [],
   "source": []
  }
 ],
 "metadata": {
  "kernelspec": {
   "display_name": "Python 3",
   "language": "python",
   "name": "python3"
  },
  "language_info": {
   "codemirror_mode": {
    "name": "ipython",
    "version": 3
   },
   "file_extension": ".py",
   "mimetype": "text/x-python",
   "name": "python",
   "nbconvert_exporter": "python",
   "pygments_lexer": "ipython3",
   "version": "3.6.5"
  }
 },
 "nbformat": 4,
 "nbformat_minor": 2
}
