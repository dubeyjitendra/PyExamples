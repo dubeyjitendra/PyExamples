{
 "cells": [
  {
   "cell_type": "markdown",
   "metadata": {},
   "source": [
    "# Scatter Plots for continuous & continuous variable"
   ]
  },
  {
   "cell_type": "code",
   "execution_count": 5,
   "metadata": {
    "collapsed": false
   },
   "outputs": [
    {
     "data": {
      "image/png": "[encoded data removed]",
      "text/plain": [
       "<matplotlib.figure.Figure at 0x5b39128>"
      ]
     },
     "metadata": {},
     "output_type": "display_data"
    }
   ],
   "source": [
    "import matplotlib.pyplot as plt\n",
    "%matplotlib inline\n",
    "\n",
    "x = [1,2,3,4,5,6,7,8]\n",
    "y = [5,2,4,2,1,4,5,2]\n",
    "\n",
    "plt.scatter(x,y, label='cncstat', color='k', s=25, marker=\"o\")\n",
    "\n",
    "plt.xlabel('x')\n",
    "plt.ylabel('y')\n",
    "plt.title('Scatter Graph')\n",
    "plt.legend()\n",
    "plt.show()"
   ]
  },
  {
   "cell_type": "markdown",
   "metadata": {},
   "source": [
    "# Covariance formula"
   ]
  },
  {
   "cell_type": "markdown",
   "metadata": {},
   "source": [
    "![title](https://getcalc.com/formula/statistics/covariance.png)\n",
    "\n",
    "Detail view:\n",
    "![title](http://ci.columbia.edu/ci/premba_test/c0331/images/s7/3970783187.gif)\n",
    "\n",
    "# Variance explaination\n",
    "\n",
    "The Variance is defined as:\n",
    "\n",
    "The average of the squared differences from the Mean.\n",
    "\n",
    "\n",
    "\n",
    "To calculate the variance follow these steps:\n",
    "\n",
    "Work out the Mean (the simple average of the numbers)\n",
    "\n",
    "Then for each number: subtract the Mean and square the result (the squared difference).\n",
    "\n",
    "Then work out the average of those squared differences. (Why Square?)\n",
    "\n",
    "Example\n",
    "\n",
    "You and your friends have just measured the heights of your dogs (in millimeters):\n",
    "\n",
    "![title](https://www.mathsisfun.com/data/images/statistics-dogs-graph.gif)\n",
    "\n",
    "The heights (at the shoulders) are: 600mm, 470mm, 170mm, 430mm and 300mm.\n",
    "\n",
    "Find out the Mean, the Variance, and the Standard Deviation.\n",
    "\n",
    "Your first step is to find the Mean:\n",
    "\n",
    "Answer:\n",
    "\n",
    "Mean=\t 600 + 470 + 170 + 430 + 3005 \n",
    " \t=\t 19705 \n",
    " \t=\t394\n",
    "so the mean (average) height is 394 mm. Let's plot this on the chart:\n",
    "![title](https://www.mathsisfun.com/data/images/statistics-dogs-mean.gif)\n",
    "\n",
    "Now we calculate each dog's difference from the Mean:\n",
    "![title](https://www.mathsisfun.com/data/images/statistics-dogs-deviation.gif)\n",
    "\n",
    "To calculate the Variance, take each difference, square it, and then average the result:\n",
    "\n",
    "Variance\n",
    "σ2\t=\t 2062 + 762 + (−224)2 + 362 + (−94)25 \n",
    " \t=\t 42436 + 5776 + 50176 + 1296 + 88365 \n",
    " \t=\t 1085205 \n",
    " \t=\t21704\n",
    "So the Variance is 21,704\n",
    "\n",
    "\n",
    "\n",
    "\n",
    "Standard Deviation:\n",
    "\n",
    "The Standard Deviation is a measure of how spread out numbers are.\n",
    "\n",
    "Its symbol is σ (the greek letter sigma)\n",
    "\n",
    "The formula is easy: it is the square root of the Variance. So now you ask, \"What is the Variance?\"\n",
    "And the Standard Deviation is just the square root of Variance, so:\n",
    "\n",
    "Standard Deviation\n",
    "σ\t=\t√21704\n",
    " \t=\t147.32...\n",
    " \t=\t147 (to the nearest mm)\n",
    "\n",
    "\n",
    "\n",
    "To get more details:\n",
    "https://www.mathsisfun.com/data/standard-deviation.html"
   ]
  },
  {
   "cell_type": "markdown",
   "metadata": {},
   "source": [
    "# 2. Categorical & Categorical Variable"
   ]
  },
  {
   "cell_type": "markdown",
   "metadata": {},
   "source": [
    "### 1. Two-way frequency tables\n",
    "\n",
    "![title](https://cdn.kastatic.org/googleusercontent/Q9659K7X3fx8IuYVmQF3NPpKEfOchiZBdW1S4yIIqJ4yOjYy6udMH4_4UCBEGX9qhbHZIxkQFEfsgpNjatWaLj7e)\n",
    "\n",
    "check this link:\n",
    "https://www.khanacademy.org/math/probability/two-way-tables-categorical-data-a1/two-way-frequency-tables/a/two-way-frequency-tables"
   ]
  },
  {
   "cell_type": "markdown",
   "metadata": {},
   "source": [
    "### 2. Stacked Column Chart\n",
    "\n"
   ]
  },
  {
   "cell_type": "code",
   "execution_count": 9,
   "metadata": {
    "collapsed": false,
    "scrolled": false
   },
   "outputs": [
    {
     "data": {
      "image/png": "[encoded data removed]",
      "text/plain": [
       "<matplotlib.figure.Figure at 0x5ba5160>"
      ]
     },
     "metadata": {},
     "output_type": "display_data"
    }
   ],
   "source": [
    "import matplotlib.pyplot as plt\n",
    "\n",
    "A = [5., 30., 45., 22.]\n",
    "B = [5., 25., 50., 20.]\n",
    "\n",
    "X = range(4)\n",
    "\n",
    "plt.bar(X, A, color = 'b')\n",
    "plt.bar(X, B, color = 'r', bottom = A)\n",
    "plt.show()"
   ]
  },
  {
   "cell_type": "markdown",
   "metadata": {},
   "source": [
    "### 3. Chi-Square Formula\n",
    "\n",
    "https://www.investopedia.com/terms/c/chi-square-statistic.asp\n",
    "\n",
    "\n",
    "This is the formula for Chi-Square:\n",
    "\n",
    "chi square formula chisquare = sum (O-E)^2 / E\n",
    "\n",
    "O = the Observed (actual) value\n",
    "E = the Expected value\n",
    "\n",
    "more info:\n",
    "https://www.mathsisfun.com/data/chi-square-test.html"
   ]
  },
  {
   "cell_type": "markdown",
   "metadata": {},
   "source": [
    "# 3. Categorical & Continuous variable"
   ]
  },
  {
   "cell_type": "markdown",
   "metadata": {},
   "source": [
    "### 1. Z-test \n",
    "https://towardsdatascience.com/statistical-tests-when-to-use-which-704557554740\n",
    "\n",
    "https://keydifferences.com/difference-between-t-test-and-z-test.html\n",
    "\n",
    "Video Link:\n",
    "https://study.com/academy/lesson/z-test-t-test-similarities-differences.html"
   ]
  },
  {
   "cell_type": "code",
   "execution_count": null,
   "metadata": {
    "collapsed": true
   },
   "outputs": [],
   "source": []
  }
 ],
 "metadata": {
  "kernelspec": {
   "display_name": "Python 3",
   "language": "python",
   "name": "python3"
  },
  "language_info": {
   "codemirror_mode": {
    "name": "ipython",
    "version": 3
   },
   "file_extension": ".py",
   "mimetype": "text/x-python",
   "name": "python",
   "nbconvert_exporter": "python",
   "pygments_lexer": "ipython3",
   "version": "3.5.1"
  }
 },
 "nbformat": 4,
 "nbformat_minor": 0
}
