{
 "cells": [
  {
   "cell_type": "markdown",
   "metadata": {},
   "source": [
    "# Skewness\n",
    "\n",
    "    Skewness, in statistics, is the degree of distortion from the symmetrical bell curve, or normal distribution, in a set of data. Skewness can be negative, positive, zero or undefined. A normal distribution has a skew of zero, while a lognormal distribution, for example, would exhibit some degree of right-skew.\n",
    "\n",
    "    The three probability distributions depicted below depict increasing levels of right (or positive) skewness. Distributions can also be left (negative) skewed. Skewness is used along with kurtosis to better judge the likelihood of events falling in the tails of a probability distribution.\n",
    "\n",
    "\n",
    "    KEY TAKEAWAYS\n",
    "    1- Skewness, in statistics, is the degree of distortion from the symmetrical bell curve in a probability distribution.\n",
    "\n",
    "    2- Distributions can exhibit right (positive) skewness or left (negative) skewness to varying degree.\n",
    "\n",
    "    3-Investors note skewness when judging a return distribution because it, like kurtosis, considers the extremes of the data set rather than focusing solely on the average.\n",
    "\n",
    "    NOTE:\n",
    "    Skewness is positive if the tail on the right side of the distribution is longer or fatter than the tail on the left side. The mean and median of positively skewed data will be greater than the mode. Skewness is negative if the tail of the left side of the distribution is longer or fatter than the tail on the right side. The mean and median of negatively skewed data will be less than the mode.\n",
    "    \n",
    "    \n",
    "    Types of skewness\n",
    "    Positive skewness\n",
    "    A series is said to have positive skewness when the following characteristics are noticed:\n",
    "\n",
    "    Mean > Median > Mode.\n",
    "    The right tail of the curve is longer than its left tail, when the data are plotted through a histogram, or a frequency polygon.\n",
    "    The formula of Skewness and its coefficient give positive figures.\n",
    "    Negative skewness\n",
    "    A series is said to have negative skewness when the following characteristics are noticed:\n",
    "\n",
    "    Mode> Median > Mode.\n",
    "    The left tail of the curve is longer than the right tail, when the data are plotted through a histogram, or a frequency polygon.\n",
    "    The formula of skewness and its coefficient give negative figures.\n",
    "    Thus, a statistical distribution may be three types viz.\n",
    "\n",
    "    Symmetric\n",
    "    Positively skewed\n",
    "    Negatively skewed\n",
    "    \n",
    "    There are several ways to measure skewness.\n",
    "    \n",
    "    1- Pearson's skewness \n",
    "    \n",
    "    \n",
    "    More Details: https://www.investopedia.com/terms/s/skewness.asp\n",
    "    \n",
    "    other useful link:\n",
    "    https://intl.siyavula.com/read/maths/grade-11/statistics/11-statistics-05\n",
    "    "
   ]
  },
  {
   "cell_type": "markdown",
   "metadata": {},
   "source": [
    "# Variance And Standard Deviation"
   ]
  },
  {
   "cell_type": "markdown",
   "metadata": {},
   "source": [
    "    Measures of central tendency (mean, median and mode) provide information on the data values at the centre of the data set. Measures of dispersion (quartiles, percentiles, ranges) provide information on the spread of the data around the centre. In this section we will look at two more measures of dispersion called the variance and the standard deviation.\n",
    "    \n",
    "    \n",
    "    Please Refer this link\n",
    "    https://intl.siyavula.com/read/maths/grade-11/statistics/11-statistics-04"
   ]
  },
  {
   "cell_type": "markdown",
   "metadata": {},
   "source": [
    "# Histograms (EMBK5)\n",
    "A histogram is a graphical representation of how many times different, mutually exclusive events are observed in an experiment. To interpret a histogram, we find the events on the x-axis and the counts on the y-axis. Each event has a rectangle that shows what its count (or frequency) is.\n",
    "\n",
    "https://intl.siyavula.com/read/maths/grade-11/statistics/11-statistics-02"
   ]
  },
  {
   "cell_type": "markdown",
   "metadata": {},
   "source": [
    "# Identification Of Outliers\n",
    "    An outlier in a data set is a value that is far away from the rest of the values in the data set. In a box and whisker diagram, outliers are usually close to the whiskers of the diagram. This is because the centre of the diagram represents the data between the first and third quartiles, which is where 50% of the data lie, while the whiskers represent the extremes — the minimum and maximum — of the data.\n",
    "\n",
    "Please refer below link\n",
    "https://intl.siyavula.com/read/maths/grade-11/statistics/11-statistics-06"
   ]
  },
  {
   "cell_type": "markdown",
   "metadata": {},
   "source": [
    "# Missing Values \n",
    "\n",
    "https://www.analyticsindiamag.com/5-ways-handle-missing-values-machine-learning-datasets/"
   ]
  },
  {
   "cell_type": "code",
   "execution_count": null,
   "metadata": {},
   "outputs": [],
   "source": []
  }
 ],
 "metadata": {
  "kernelspec": {
   "display_name": "Python 3",
   "language": "python",
   "name": "python3"
  },
  "language_info": {
   "codemirror_mode": {
    "name": "ipython",
    "version": 3
   },
   "file_extension": ".py",
   "mimetype": "text/x-python",
   "name": "python",
   "nbconvert_exporter": "python",
   "pygments_lexer": "ipython3",
   "version": "3.6.5"
  }
 },
 "nbformat": 4,
 "nbformat_minor": 2
}
