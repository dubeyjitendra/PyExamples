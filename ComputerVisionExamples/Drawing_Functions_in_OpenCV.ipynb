{
  "nbformat": 4,
  "nbformat_minor": 0,
  "metadata": {
    "colab": {
      "name": "Drawing Functions in OpenCV.ipynb",
      "version": "0.3.2",
      "provenance": [],
      "collapsed_sections": []
    },
    "kernelspec": {
      "name": "python3",
      "display_name": "Python 3"
    }
  },
  "cells": [
    {
      "cell_type": "code",
      "metadata": {
        "id": "POd5sn_nEhW-",
        "colab_type": "code",
        "colab": {}
      },
      "source": [
        "# import google libraries\n",
        "from google.colab import drive\n",
        "drive.mount('/content/drive')"
      ],
      "execution_count": 0,
      "outputs": []
    },
    {
      "cell_type": "code",
      "metadata": {
        "id": "7WJxUzwDE43J",
        "colab_type": "code",
        "colab": {}
      },
      "source": [
        "image_path=(\"/content/drive/My Drive/Computer vision/images/lena.jpg\")"
      ],
      "execution_count": 0,
      "outputs": []
    },
    {
      "cell_type": "code",
      "metadata": {
        "id": "GpeP8lP4E47V",
        "colab_type": "code",
        "colab": {}
      },
      "source": [
        "# Import library\n",
        "import numpy as np\n",
        "import cv2"
      ],
      "execution_count": 0,
      "outputs": []
    },
    {
      "cell_type": "markdown",
      "metadata": {
        "id": "yUukJg6NFSUj",
        "colab_type": "text"
      },
      "source": [
        "## Common arguments\n",
        "\n",
        "**img** : The image where you want to draw the shapes\n",
        "\n",
        "**color** : Color of the shape. for BGR, pass it as a tuple, eg: (255,0,0) for blue. For grayscale, just pass the scalar value.\n",
        "\n",
        "**thickness** : Thickness of the line or circle etc. If -1 is passed for closed figures like circles, it will fill the shape. default thickness = 1\n",
        "\n",
        "**lineType** : Type of line, whether 8-connected, anti-aliased line etc. By default, it is 8-connected. cv2.LINE_AA gives anti-aliased line which looks great for curves."
      ]
    },
    {
      "cell_type": "code",
      "metadata": {
        "id": "b4uBJC8KFRO8",
        "colab_type": "code",
        "colab": {}
      },
      "source": [
        "# Create a black image\n",
        "img = np.zeros((512,512,3), np.uint8)\n",
        "\n",
        "# Draw a diagonal blue line with thickness of 5 px\n",
        "img = cv2.line(img,(0,0),(511,511),(255,0,0),5)"
      ],
      "execution_count": 0,
      "outputs": []
    },
    {
      "cell_type": "code",
      "metadata": {
        "id": "U1fif38_GI9e",
        "colab_type": "code",
        "colab": {}
      },
      "source": [
        "# Drawing Rectangle\n",
        "img = cv2.rectangle(img,(384,0),(510,128),(0,255,0),3)"
      ],
      "execution_count": 0,
      "outputs": []
    },
    {
      "cell_type": "code",
      "metadata": {
        "id": "RL13dhkrGNET",
        "colab_type": "code",
        "colab": {}
      },
      "source": [
        "# Drawing Circle\n",
        "img = cv2.circle(img,(447,63), 63, (0,0,255), -1)"
      ],
      "execution_count": 0,
      "outputs": []
    },
    {
      "cell_type": "code",
      "metadata": {
        "id": "Oaz0JiLaGnq_",
        "colab_type": "code",
        "colab": {}
      },
      "source": [
        "#Drawing Ellipse\n",
        "img = cv2.ellipse(img,(256,256),(100,50),0,0,180,255,-1)"
      ],
      "execution_count": 0,
      "outputs": []
    },
    {
      "cell_type": "code",
      "metadata": {
        "id": "V53G2Qj6Gwvg",
        "colab_type": "code",
        "colab": {}
      },
      "source": [
        "# Drawing Polygon\n",
        "pts = np.array([[10,5],[20,30],[70,20],[50,10]], np.int32)\n",
        "pts = pts.reshape((-1,1,2))\n",
        "img = cv2.polylines(img,[pts],True,(0,255,255))"
      ],
      "execution_count": 0,
      "outputs": []
    },
    {
      "cell_type": "markdown",
      "metadata": {
        "id": "jm5nVhMfHCoO",
        "colab_type": "text"
      },
      "source": [
        "###Adding Text to Images:\n",
        "To put texts in images, you need specify following things.\n",
        "\n",
        "1. Text data that you want to write\n",
        "\n",
        "2. Position coordinates of where you want put it (i.e. bottom-left corner where data starts).\n",
        "\n",
        "3. Font type (Check cv2.putText() docs for supported fonts)\n",
        "\n",
        "4 .Font Scale (specifies the size of font)\n",
        "\n",
        "5. regular things like color, thickness, lineType etc. For better look, lineType = cv2.LINE_AA is recommended.\n",
        "\n",
        "\n",
        "We will write OpenCV on our image in white color.\n",
        "\n"
      ]
    },
    {
      "cell_type": "code",
      "metadata": {
        "id": "OB9UDowtHuUn",
        "colab_type": "code",
        "colab": {}
      },
      "source": [
        "font = cv2.FONT_HERSHEY_SIMPLEX\n",
        "cv2.putText(img,'OpenCV',(10,500), font, 4,(255,255,255),2,cv2.LINE_AA)"
      ],
      "execution_count": 0,
      "outputs": []
    },
    {
      "cell_type": "markdown",
      "metadata": {
        "id": "h9spZ93yH_o_",
        "colab_type": "text"
      },
      "source": [
        "![alt text](https://opencv-python-tutroals.readthedocs.io/en/latest/_images/drawing.jpg)\n",
        "\n",
        "\n",
        "\n"
      ]
    },
    {
      "cell_type": "code",
      "metadata": {
        "id": "gJBTAs-tG6hH",
        "colab_type": "code",
        "colab": {}
      },
      "source": [
        ""
      ],
      "execution_count": 0,
      "outputs": []
    }
  ]
}