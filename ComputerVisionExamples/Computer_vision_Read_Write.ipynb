{
  "nbformat": 4,
  "nbformat_minor": 0,
  "metadata": {
    "colab": {
      "name": "Computer-vision-Read/Write.ipynb",
      "version": "0.3.2",
      "provenance": [],
      "collapsed_sections": []
    },
    "kernelspec": {
      "name": "python3",
      "display_name": "Python 3"
    }
  },
  "cells": [
    {
      "cell_type": "markdown",
      "metadata": {
        "id": "9IN3WPBwEpNj",
        "colab_type": "text"
      },
      "source": [
        "### Reading Images using Opencv with python\n",
        "\n",
        "1 = load images in Color images (RGB)\n",
        "\n",
        "0 = loads image in gray images  (Gray)\n",
        "\n",
        "-1 = loads images as such including alpha channel\n",
        "\n",
        "Or \n",
        "\n",
        "cv2.IMREAD_COLOR = load images in Color images (RGB)\n",
        "\n",
        "cv2.IMREAD_GRAYSCALE = loads image in gray images  (Gray)\n",
        "\n",
        "cv2.IMREAD_UNCHANGED = loads images as such including alpha channel"
      ]
    },
    {
      "cell_type": "code",
      "metadata": {
        "id": "KRDCjWfwGtNy",
        "colab_type": "code",
        "colab": {}
      },
      "source": [
        "# import google libraries\n",
        "from google.colab import drive\n",
        "drive.mount('/content/drive')"
      ],
      "execution_count": 0,
      "outputs": []
    },
    {
      "cell_type": "code",
      "metadata": {
        "id": "l3MSU1T2E0bi",
        "colab_type": "code",
        "colab": {}
      },
      "source": [
        "# Import library\n",
        "import cv2 \n"
      ],
      "execution_count": 0,
      "outputs": []
    },
    {
      "cell_type": "code",
      "metadata": {
        "id": "qZtg-UUEG98I",
        "colab_type": "code",
        "colab": {}
      },
      "source": [
        "image_path=(\"/content/drive/My Drive/Computer vision/images/lena.jpg\")"
      ],
      "execution_count": 0,
      "outputs": []
    },
    {
      "cell_type": "code",
      "metadata": {
        "id": "LGafV0OgFY3z",
        "colab_type": "code",
        "colab": {}
      },
      "source": [
        "# Read images\n",
        "\n",
        "img = cv2.imread(image_path,0)"
      ],
      "execution_count": 0,
      "outputs": []
    },
    {
      "cell_type": "code",
      "metadata": {
        "id": "gr44b_xNFoa3",
        "colab_type": "code",
        "colab": {
          "base_uri": "https://localhost:8080/",
          "height": 136
        },
        "outputId": "7f13511d-8935-466a-eed4-570529208ad6"
      },
      "source": [
        "print(img)"
      ],
      "execution_count": 16,
      "outputs": [
        {
          "output_type": "stream",
          "text": [
            "[[163 162 161 ... 170 154 130]\n",
            " [162 162 162 ... 173 155 126]\n",
            " [162 162 163 ... 170 155 128]\n",
            " ...\n",
            " [ 43  42  51 ... 103 101  99]\n",
            " [ 41  42  55 ... 103 105 106]\n",
            " [ 42  44  57 ... 102 106 109]]\n"
          ],
          "name": "stdout"
        }
      ]
    },
    {
      "cell_type": "code",
      "metadata": {
        "id": "nUIslRRNIjuy",
        "colab_type": "code",
        "colab": {}
      },
      "source": [
        "# first parameter name of window another is array of image\n",
        "\n",
        "cv2.imshow(\"images\", img)\n",
        "\n",
        "# to hold the window \n",
        "\n",
        "cv2.waitKey(0)\n",
        "\n",
        "# destroy from window\n",
        "\n",
        "cv2.destroyAllWindows()"
      ],
      "execution_count": 0,
      "outputs": []
    },
    {
      "cell_type": "markdown",
      "metadata": {
        "id": "o-fH2SehKXP3",
        "colab_type": "text"
      },
      "source": [
        " ### Writing images and open in new window \n",
        " \n",
        " "
      ]
    },
    {
      "cell_type": "code",
      "metadata": {
        "id": "Yf3Duvr9JrsI",
        "colab_type": "code",
        "colab": {}
      },
      "source": [
        "# write code\n",
        "\n",
        "write_img = cv2.imread(image_path,-1)"
      ],
      "execution_count": 0,
      "outputs": []
    },
    {
      "cell_type": "code",
      "metadata": {
        "id": "E9I55shVJ4FS",
        "colab_type": "code",
        "colab": {}
      },
      "source": [
        "# write images\n",
        "\n",
        "# first parater name of image\n",
        "# array of image\n",
        "\n",
        "cv2.imwrite(\"lena_duplicate.png\",write_img)"
      ],
      "execution_count": 0,
      "outputs": []
    }
  ]
}